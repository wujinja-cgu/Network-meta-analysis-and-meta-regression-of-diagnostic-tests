{
  "cells": [
    {
      "cell_type": "markdown",
      "metadata": {
        "id": "YP4d3tTqYoUw"
      },
      "source": [
        "### Load the packages"
      ]
    },
    {
      "cell_type": "code",
      "execution_count": 2,
      "metadata": {
        "colab": {
          "base_uri": "https://localhost:8080/"
        },
        "id": "nEFp0TcGYoUz",
        "outputId": "37b448d3-0d31-4a67-eda8-fcf7409b8a4c"
      },
      "outputs": [
        {
          "output_type": "stream",
          "name": "stderr",
          "text": [
            "Installing package into ‘/usr/local/lib/R/site-library’\n",
            "(as ‘lib’ is unspecified)\n",
            "\n",
            "also installing the dependencies ‘checkmate’, ‘matrixStats’, ‘StanHeaders’, ‘inline’, ‘gridExtra’, ‘Rcpp’, ‘RcppParallel’, ‘loo’, ‘RcppEigen’, ‘BH’\n",
            "\n",
            "\n",
            "Installing package into ‘/usr/local/lib/R/site-library’\n",
            "(as ‘lib’ is unspecified)\n",
            "\n",
            "also installing the dependencies ‘numDeriv’, ‘abind’, ‘tensorA’, ‘distributional’, ‘plyr’, ‘ggridges’, ‘posterior’, ‘reshape2’\n",
            "\n",
            "\n",
            "Installing package into ‘/usr/local/lib/R/site-library’\n",
            "(as ‘lib’ is unspecified)\n",
            "\n",
            "Installing package into ‘/usr/local/lib/R/site-library’\n",
            "(as ‘lib’ is unspecified)\n",
            "\n",
            "also installing the dependencies ‘foreach’, ‘iterators’\n",
            "\n",
            "\n",
            "Installing package into ‘/usr/local/lib/R/site-library’\n",
            "(as ‘lib’ is unspecified)\n",
            "\n",
            "also installing the dependencies ‘httpuv’, ‘xtable’, ‘sourcetools’, ‘later’, ‘promises’, ‘shiny’, ‘downlit’, ‘htmlwidgets’, ‘miniUI’, ‘pkgdown’, ‘profvis’, ‘urlchecker’\n",
            "\n",
            "\n"
          ]
        }
      ],
      "source": [
        "install.packages('rstan')\n",
        "install.packages('bayesplot')\n",
        "install.packages('ggplot2')\n",
        "install.packages('doParallel')\n",
        "install.packages('devtools')"
      ]
    },
    {
      "cell_type": "code",
      "source": [
        "library(rstan)\n",
        "library(bayesplot)\n",
        "library(ggplot2)\n",
        "library(doParallel)\n",
        "library(devtools)\n",
        "Sys.setenv(PATH = paste(\"C:/rtools40/mingw64/bin/\", Sys.getenv(\"PATH\"), sep=\";\"))\n",
        "Sys.setenv(BINPREF = \"C:/rtools40/mingw64/bin/\")"
      ],
      "metadata": {
        "colab": {
          "base_uri": "https://localhost:8080/"
        },
        "id": "PDkcr3W-ZWwk",
        "outputId": "28e6f1fa-8e1a-4771-a62c-4649056c0e9f"
      },
      "execution_count": 3,
      "outputs": [
        {
          "output_type": "stream",
          "name": "stderr",
          "text": [
            "Loading required package: StanHeaders\n",
            "\n",
            "Loading required package: ggplot2\n",
            "\n",
            "rstan (Version 2.21.8, GitRev: 2e1f913d3ca3)\n",
            "\n",
            "For execution on a local, multicore CPU with excess RAM we recommend calling\n",
            "options(mc.cores = parallel::detectCores()).\n",
            "To avoid recompilation of unchanged Stan programs, we recommend calling\n",
            "rstan_options(auto_write = TRUE)\n",
            "\n",
            "This is bayesplot version 1.10.0\n",
            "\n",
            "- Online documentation and vignettes at mc-stan.org/bayesplot\n",
            "\n",
            "- bayesplot theme set to bayesplot::theme_default()\n",
            "\n",
            "   * Does _not_ affect other ggplot2 plots\n",
            "\n",
            "   * See ?bayesplot_theme_set for details on theme setting\n",
            "\n",
            "Loading required package: foreach\n",
            "\n",
            "Loading required package: iterators\n",
            "\n",
            "Loading required package: parallel\n",
            "\n",
            "Loading required package: usethis\n",
            "\n"
          ]
        }
      ]
    },
    {
      "cell_type": "code",
      "execution_count": 4,
      "metadata": {
        "colab": {
          "base_uri": "https://localhost:8080/",
          "height": 34
        },
        "id": "xBQIf5fUYoU2",
        "outputId": "3277d5fd-e05b-48e3-90b0-26e73a7340e7"
      },
      "outputs": [
        {
          "output_type": "display_data",
          "data": {
            "text/html": [
              "4"
            ],
            "text/markdown": "4",
            "text/latex": "4",
            "text/plain": [
              "[1] 4"
            ]
          },
          "metadata": {}
        }
      ],
      "source": [
        "rstan_options(auto_write=TRUE)\n",
        "options(mc.cores=parallel::detectCores())\n",
        "registerDoParallel(4)\n",
        "getDoParWorkers()"
      ]
    },
    {
      "cell_type": "markdown",
      "metadata": {
        "id": "sTt82vBzYoU3"
      },
      "source": [
        "### Define a function to prepare the parameters and data for further Bayesian analysis"
      ]
    },
    {
      "cell_type": "code",
      "execution_count": 5,
      "metadata": {
        "id": "GFfPcl9iYoU3"
      },
      "outputs": [],
      "source": [
        "getpara<-function(filename=NULL,names.mk=NULL){\n",
        "          data.mk<-read.csv(filename)\n",
        "          names.study<-unique(fixlen.str(data.mk$Study))\n",
        "          hash.study<-1:length(names.study)\n",
        "          names(hash.study)<-names.study\n",
        "          hash.mk<-1:length(names.mk)\n",
        "          names(hash.mk)<-names.mk\n",
        "          para<-data.frame(study.names=fixlen.str(data.mk$Study),\n",
        "          Study=array(hash.study[as.character(fixlen.str(data.mk$Study))]),\n",
        "                      TP=round(data.mk$Case*data.mk$Sensitivity),\n",
        "                      TN=round(data.mk$Control*data.mk$Specificity),\n",
        "                      Dis=data.mk$Case,\n",
        "                      NDis=data.mk$Control,\n",
        "                      Test=array(hash.mk[as.character(data.mk$Marker)]))\n",
        "    return(list(para=para,data=data.mk))\n",
        "  }\n"
      ]
    },
    {
      "cell_type": "markdown",
      "metadata": {
        "id": "j8FuM0DTYoU3"
      },
      "source": [
        "### Define a function to get the upper and lower credible bound (97.5%)"
      ]
    },
    {
      "cell_type": "code",
      "execution_count": 6,
      "metadata": {
        "id": "iS7T8Gd4YoU4"
      },
      "outputs": [],
      "source": [
        "get.ub.95<-function(x){\n",
        "            y=sort(x)\n",
        "            len=length(x)\n",
        "            return(y[round(len*0.975)])\n",
        "  }\n",
        "\n",
        "get.lb.95<-function(x){\n",
        "            y=sort(x)\n",
        "            len=length(x)\n",
        "            return(y[round(len*0.025)])\n",
        "  }"
      ]
    },
    {
      "cell_type": "markdown",
      "metadata": {
        "id": "NyKFZv_jYoU4"
      },
      "source": [
        "### Define a function to get the results from Network Meta-analysis"
      ]
    },
    {
      "cell_type": "code",
      "execution_count": 8,
      "metadata": {
        "id": "zTKtcFYkYoU5"
      },
      "outputs": [],
      "source": [
        "get.nma<-function(data.ls=NULL,mk.names=NULL,n.study=1,conf=95){\n",
        "\t        data.nma<-data.ls$data.nma\n",
        "\t        func.ub<-NULL\n",
        "        \tfunc.lb<-NULL\n",
        "\t        if(conf==95){\n",
        "\t\t             func.ub<-get.ub.95\n",
        "\t\t             func.lb<-get.lb.95\n",
        "\t        } else if(conf==90){\n",
        "\t\t                  func.ub<-get.ub.90\n",
        "\t\t                  func.lb<-get.lb.90\n",
        "\t        }\n",
        "\t        data.nma.muse<-data.nma[paste('MU[',1,',',1:length(data.ls$mk),']',sep='')]\n",
        "\t        data.nma.musp<-data.nma[paste('MU[',2,',',1:length(data.ls$mk),']',sep='')]\n",
        "\t        data.nma.rrse<-data.nma[paste('RR[',1,',',1:length(data.ls$mk),']',sep='')]\n",
        "\t        data.nma.rrsp<-data.nma[paste('RR[',2,',',1:length(data.ls$mk),']',sep='')]\n",
        "\t        data.nma.orse<-data.nma[paste('OR[',1,',',1:length(data.ls$mk),']',sep='')]\n",
        "\t        data.nma.orsp<-data.nma[paste('OR[',2,',',1:length(data.ls$mk),']',sep='')]\n",
        "\t        data.nma.dor<-data.nma[paste('DOR[',1:length(data.ls$mk),']',sep='')]\n",
        "          data.nma.sindex<-data.nma[paste('S[',1:length(data.ls$mk),']',sep='')]\n",
        "          data.nma.sindex_se<-data.nma[paste('S_se[',1:length(data.ls$mk),']',sep='')]\n",
        "          data.nma.sindex_sp<-data.nma[paste('S_sp[',1:length(data.ls$mk),']',sep='')]\n",
        "\t        mu.info<-data.frame(mean_sp=array(unlist(lapply(data.nma.musp,mean))),\n",
        "\t                         ub_sp=array(unlist(lapply(data.nma.musp,func.ub))),\n",
        "\t                         lb_sp=array(unlist(lapply(data.nma.musp,func.lb))),\n",
        "\t                         mean_se=array(unlist(lapply(data.nma.muse,mean))),\n",
        "\t                         ub_se=array(unlist(lapply(data.nma.muse,func.ub))),\n",
        "\t                         lb_se=array(unlist(lapply(data.nma.muse,func.lb))))\n",
        "\t        rr.info<-data.frame(mean_sp=array(unlist(lapply(data.nma.rrsp,mean))),\n",
        "\t                         ub_sp=array(unlist(lapply(data.nma.rrsp,func.ub))),\n",
        "\t                         lb_sp=array(unlist(lapply(data.nma.rrsp,func.lb))),\n",
        "\t                         mean_se=array(unlist(lapply(data.nma.rrse,mean))),\n",
        "\t                         ub_se=array(unlist(lapply(data.nma.rrse,func.ub))),\n",
        "\t                         lb_se=array(unlist(lapply(data.nma.rrse,func.lb))))\n",
        "\t        or.info<-data.frame(mean_sp=array(unlist(lapply(data.nma.orsp,mean))),\n",
        "\t                         ub_sp=array(unlist(lapply(data.nma.orsp,func.ub))),\n",
        "\t                         lb_sp=array(unlist(lapply(data.nma.orsp,func.lb))),\n",
        "\t                         mean_se=array(unlist(lapply(data.nma.orse,mean))),\n",
        "\t                         ub_se=array(unlist(lapply(data.nma.orse,func.ub))),\n",
        "\t                         lb_se=array(unlist(lapply(data.nma.orse,func.lb))))\n",
        "\t        dor.info<-data.frame(mean=array(unlist(lapply(data.nma.dor,mean))),\n",
        "\t                        ub=array(unlist(lapply(data.nma.dor,func.ub))),\n",
        "\t                        lb=array(unlist(lapply(data.nma.dor,func.lb))))\n",
        "          sindex.info<-data.frame(mean=array(unlist(lapply(data.nma.sindex,mean))),\n",
        "\t                          ub=array(unlist(lapply(data.nma.sindex,func.ub))),\n",
        "\t                          lb=array(unlist(lapply(data.nma.sindex,func.lb))))\n",
        "          sindex_se.info<-data.frame(mean=array(unlist(lapply(data.nma.sindex_se,mean))),\n",
        "\t                           ub=array(unlist(lapply(data.nma.sindex_se,func.ub))),\n",
        "\t                           lb=array(unlist(lapply(data.nma.sindex_se,func.lb))))\n",
        "          sindex_sp.info<-data.frame(mean=array(unlist(lapply(data.nma.sindex_sp,mean))),\n",
        "\t                           ub=array(unlist(lapply(data.nma.sindex_sp,func.ub))),\n",
        "\t                           lb=array(unlist(lapply(data.nma.sindex_sp,func.lb))))\n",
        "\t        results.nma<-list(marker=mk.names[mk.names %in% data.ls$mk],\n",
        "\t                 mu=mu.info,\n",
        "\t                 rr=rr.info,\n",
        "\t                 or=or.info,\n",
        "\t                 dor=dor.info,\n",
        "                   sindex=sindex.info,\n",
        "                   sindex_se=sindex_se.info,\n",
        "                   sindex_sp=sindex_sp.info)\n",
        "\t   return(results.nma)\n",
        "}"
      ]
    },
    {
      "cell_type": "markdown",
      "metadata": {
        "id": "4jWSr8TyYoU7"
      },
      "source": [
        "### Define a function to extract results from analysis"
      ]
    },
    {
      "cell_type": "code",
      "execution_count": 9,
      "metadata": {
        "id": "JV4AsEZ3YoU7"
      },
      "outputs": [],
      "source": [
        "fixlen.str<-function(string.arr=NULL){\n",
        "                   max.len<-max(nchar(as.character(string.arr)))\n",
        "\t                 rule<-paste('% -',as.character(max.len),'s',sep='')\n",
        "\t                 string.arr.fix<-sprintf(rule,string.arr)\n",
        "\t                 return(string.arr.fix)\n",
        "}\n",
        "fit.extract<-function(fit.data=NULL,filename.save=NULL){\n",
        "\t                          results.sum<-summary(fit.data)[[1]]\n",
        "\t                          results.simdata<-fit.data@sim$samples[[1]]\n",
        "\t                          save(results.sum,results.simdata,file=filename.save)\n",
        "\t                          return(results.simdata)\n",
        "}"
      ]
    },
    {
      "cell_type": "markdown",
      "metadata": {
        "id": "Hlonp9MWYoU8"
      },
      "source": [
        "##########################################################\n",
        "###  Network Meta-analysis (stan code)\n",
        "##########################################################"
      ]
    },
    {
      "cell_type": "code",
      "execution_count": 10,
      "metadata": {
        "id": "VnQstLOmYoU8"
      },
      "outputs": [],
      "source": [
        "stan.code.nma<-'\n",
        "data{\n",
        "   int N;  //number of comparison??? - 121\n",
        "   int Nt; //number of test - 10\n",
        "   int Ns; //number of study - 72\n",
        "   int TP[N];\n",
        "   int Dis[N];  //diseased\n",
        "   int TN[N];\n",
        "   int NDis[N]; //non-diseased\n",
        "   int Study[N];\n",
        "   int Test[N];\n",
        "}\n",
        "parameters{\n",
        "      matrix[2, Nt] logitmu;\n",
        "      vector[Ns] nu[2];\n",
        "      matrix[Ns, Nt] delta[2];\n",
        "      vector<lower=0>[Nt] tau[2]; //*\n",
        "      vector<lower=0>[2] sigmab;\n",
        "      real<lower=-1, upper=1> rho;\n",
        "}\n",
        "transformed parameters{\n",
        "             matrix[Ns, 2] p_i[Nt];\n",
        "             matrix[2, Nt] MU;\n",
        "             matrix[2, Nt] RR;\n",
        "             matrix[2, Nt] OR;\n",
        "             vector[Nt] DOR;\n",
        "             vector[Nt] S;\n",
        "             vector[Nt] S_se;\n",
        "             vector[Nt] S_sp;\n",
        "             matrix[Nt, Nt] A;\n",
        "             matrix[Nt, Nt] B;\n",
        "             matrix[Nt, Nt] C;\n",
        "             matrix[Nt, Nt] A_se;\n",
        "             matrix[Nt, Nt] B_se;\n",
        "             matrix[Nt, Nt] C_se;\n",
        "             matrix[Nt, Nt] A_sp;\n",
        "             matrix[Nt, Nt] B_sp;\n",
        "             matrix[Nt, Nt] C_sp;\n",
        "             vector<lower=0>[Nt] tausq[2];\n",
        "             vector<lower=0>[2] sigmabsq;\n",
        "             matrix[Nt, Nt] sigmasq[2];\n",
        "             matrix[Nt, Nt] rhow[2];\n",
        "\n",
        "    for (i in 1:Ns){\n",
        "        for (j in 1:2){\n",
        "            for (k in 1:Nt)\n",
        "                      p_i[k][i,j] = inv_logit(logitmu[j,k] +  nu[j][i] + delta[j][i,k]);\n",
        "        }\n",
        "    }\n",
        "\n",
        "    for (j in 1:2){\n",
        "        for (k in 1:Nt){\n",
        "                  MU[j,k] = mean(col(p_i[k], j));\n",
        "        }\n",
        "        tausq[j] = (tau[j]).*(tau[j]);\n",
        "    }\n",
        "\n",
        "    for (j in 1:2){\n",
        "        for (k in 1:Nt){\n",
        "                  RR[j, k] = MU[j, k]/MU[j, 1];\n",
        "                  OR[j, k] = (MU[j, k]*(1 - MU[j, 1]))/(MU[j, 1]*(1 - MU[j, k]));\n",
        "         }\n",
        "    }\n",
        "\n",
        "    for (l in 1:Nt){\n",
        "              DOR[l] = (MU[1, l]*MU[2, l])/((1 - MU[1, l])*(1 - MU[2, l]));\n",
        "\n",
        "        for(m in 1:Nt){\n",
        "                 A[l, m] = if_else((MU[1, l] > MU[1, m]) && (MU[2, l] > MU[2, m]), 1, 0);\n",
        "                 B[l, m] = if_else((MU[1, l] < MU[1, m]) && (MU[2, l] < MU[2, m]), 1, 0);\n",
        "                 C[l, m] = if_else((MU[1, l] == MU[1, m]) && (MU[2, l] == MU[2, m]), 1, 0);\n",
        "\n",
        "                 A_se[l, m] = if_else((MU[1, l] > MU[1, m]), 1, 0);\n",
        "                 B_se[l, m] = if_else((MU[1, l] < MU[1, m]), 1, 0);\n",
        "                 C_se[l, m] = if_else((MU[1, l] == MU[1, m]), 1, 0);\n",
        "\n",
        "                 A_sp[l, m] = if_else((MU[2, l] > MU[2, m]), 1, 0);\n",
        "                 B_sp[l, m] = if_else((MU[2, l] < MU[2, m]), 1, 0);\n",
        "                 C_sp[l, m] = if_else((MU[2, l] == MU[2, m]), 1, 0);\n",
        "        }\n",
        "\n",
        "        S[l] = (2*sum(row(A, l)) + sum(row(C, l)))/(2*sum(row(B, l)) + sum(row(C, l)));\n",
        "        S_se[l] = (2*sum(row(A_se, l)) + sum(row(C_se, l)))/(2*sum(row(B_se, l)) + sum(row(C_se, l)));\n",
        "        S_sp[l] = (2*sum(row(A_sp, l)) + sum(row(C_sp, l)))/(2*sum(row(B_sp, l)) + sum(row(C_sp, l)));\n",
        "    }\n",
        "\n",
        "    sigmabsq = (sigmab).*(sigmab);\n",
        "\n",
        "    for (j in 1:2){\n",
        "        for (k in 1:Nt){\n",
        "            for (l in 1:Nt){\n",
        "                      sigmasq[j][k,l] = (sigmabsq[j] + tausq[j][k])*((sigmabsq[j] + tausq[j][l]));\n",
        "                      rhow[j][k,l] = sigmabsq[j]/sqrt(sigmasq[j][k,l]);\n",
        "            }\n",
        "        }\n",
        "    }\n",
        "\n",
        "}\n",
        "model{\n",
        "\t   //Priors\n",
        "       for (j in 1:2){\n",
        "                 logitmu[j] ~ normal(0, 5);\n",
        "\t\t             tau[j] ~ cauchy(0, 2.5);\n",
        "       }\n",
        "\n",
        "        sigmab ~ cauchy(0, 2.5);\n",
        "\t      rho ~ uniform(-1, 1);\n",
        "        nu[2] ~ normal(0, sigmab[2]);\n",
        "\n",
        "       for (i in 1:Ns){\n",
        "                 nu[1][i] ~ normal((sigmab[1]/sigmab[2])*rho*nu[2][i], sqrt(sigmabsq[1]*(1 - (rho*rho))));\n",
        "          for (j in 1:2){\n",
        "              for (k in 1:Nt)\n",
        "                        delta[j][i,k] ~ normal(0, tau[j][k]);\n",
        "        }\n",
        "    }\n",
        "\n",
        "    for (n in 1:N){\n",
        "              TP[n] ~ binomial(Dis[n], p_i[Test[n]][Study[n], 1]);\n",
        "              TN[n] ~ binomial(NDis[n], p_i[Test[n]][Study[n], 2]);\n",
        "    }\n",
        "\n",
        "}\n",
        "generated quantities{\n",
        "\n",
        "    vector[2*N] loglik;\n",
        "\n",
        "    for (n in 1:N)\n",
        "             loglik[n] = binomial_lpmf(TN[n]| NDis[n], p_i[Test[n]][Study[n], 1]);\n",
        "\n",
        "    for (n in (N+1):(2*N))\n",
        "             loglik[n] = binomial_lpmf(TN[n-N]| NDis[n-N], p_i[Test[n-N]][Study[n-N], 2]);\n",
        "\n",
        "}\n",
        "'"
      ]
    },
    {
      "cell_type": "markdown",
      "metadata": {
        "id": "efD8IVzzYoU9"
      },
      "source": [
        "### Lists of Biomarkers in network meta-analysis"
      ]
    },
    {
      "cell_type": "code",
      "execution_count": 11,
      "metadata": {
        "id": "-CQiwtUdYoU-"
      },
      "outputs": [],
      "source": [
        "mk.names=c('qSOFA','PCT','presepsin','CRP','CD64','IL-6','sTREM-1','LBP','SIRS','SOFA')"
      ]
    },
    {
      "cell_type": "markdown",
      "metadata": {
        "id": "Nbi-bZCHYoU-"
      },
      "source": [
        "### Data set to used"
      ]
    },
    {
      "cell_type": "code",
      "execution_count": 12,
      "metadata": {
        "id": "d7ZVaEadYoU-"
      },
      "outputs": [],
      "source": [
        "filename<-'https://raw.githubusercontent.com/wujinja-cgu/Network-meta-analysis-and-meta-regression-of-diagnostic-tests/main/Sepsis_nma_data.csv'"
      ]
    },
    {
      "cell_type": "markdown",
      "metadata": {
        "id": "W94syBLdYoU_"
      },
      "source": [
        "### Parameters lists"
      ]
    },
    {
      "cell_type": "code",
      "execution_count": 13,
      "metadata": {
        "id": "9CHdPlS9YoU_"
      },
      "outputs": [],
      "source": [
        "para.ls<-getpara(filename=filename,names.mk=mk.names)\n",
        "para<-para.ls$para\n",
        "data<-para.ls$data"
      ]
    },
    {
      "cell_type": "markdown",
      "metadata": {
        "id": "At2cvaCNYoU_"
      },
      "source": [
        "### Prepare data for Network Meta-analysis"
      ]
    },
    {
      "cell_type": "code",
      "execution_count": 14,
      "metadata": {
        "id": "5WeFERCYYoU_"
      },
      "outputs": [],
      "source": [
        "para.as.ls.nma<-list(N=nrow(para),\n",
        "           Nt=length(unique(para$Test)),\n",
        "           Ns=length(unique(para$Study)),\n",
        "           TP=para$TP,\n",
        "           Dis=para$Dis,\n",
        "           TN=para$TN,\n",
        "           NDis=para$NDis,\n",
        "           Study=as.numeric(para$Study),\n",
        "           Test=para$Test)"
      ]
    },
    {
      "cell_type": "markdown",
      "metadata": {
        "id": "u39xVIdzYoU_"
      },
      "source": [
        "### Compiling model"
      ]
    },
    {
      "cell_type": "code",
      "execution_count": 15,
      "metadata": {
        "colab": {
          "base_uri": "https://localhost:8080/"
        },
        "id": "vBJMrUZxYoU_",
        "outputId": "9238d6f1-fd2f-4148-c6c3-79bdee47f512"
      },
      "outputs": [
        {
          "output_type": "stream",
          "name": "stderr",
          "text": [
            "Warning message:\n",
            "“There were 2 divergent transitions after warmup. See\n",
            "https://mc-stan.org/misc/warnings.html#divergent-transitions-after-warmup\n",
            "to find out why this is a problem and how to eliminate them.”\n",
            "Warning message:\n",
            "“There were 1 chains where the estimated Bayesian Fraction of Missing Information was low. See\n",
            "https://mc-stan.org/misc/warnings.html#bfmi-low”\n",
            "Warning message:\n",
            "“Examine the pairs() plot to diagnose sampling problems\n",
            "”\n"
          ]
        }
      ],
      "source": [
        "stan.model.nma<-stan(model_code=stan.code.nma,\n",
        "           data=para.as.ls.nma,\n",
        "           iter=1,\n",
        "           warmup=0,\n",
        "           chains=2)"
      ]
    },
    {
      "cell_type": "markdown",
      "metadata": {
        "id": "EddwMv9jYoVA"
      },
      "source": [
        "### Running model"
      ]
    },
    {
      "cell_type": "code",
      "execution_count": 16,
      "metadata": {
        "colab": {
          "base_uri": "https://localhost:8080/",
          "height": 362
        },
        "id": "y3M4vTVGYoVA",
        "outputId": "8636e0f2-6634-41af-9f17-346409436731"
      },
      "outputs": [
        {
          "output_type": "stream",
          "name": "stderr",
          "text": [
            "Warning message:\n",
            "“There were 4 chains where the estimated Bayesian Fraction of Missing Information was low. See\n",
            "https://mc-stan.org/misc/warnings.html#bfmi-low”\n",
            "Warning message:\n",
            "“Examine the pairs() plot to diagnose sampling problems\n",
            "”\n",
            "Warning message:\n",
            "“The largest R-hat is NA, indicating chains have not mixed.\n",
            "Running the chains for more iterations may help. See\n",
            "https://mc-stan.org/misc/warnings.html#r-hat”\n",
            "Warning message:\n",
            "“Bulk Effective Samples Size (ESS) is too low, indicating posterior means and medians may be unreliable.\n",
            "Running the chains for more iterations may help. See\n",
            "https://mc-stan.org/misc/warnings.html#bulk-ess”\n",
            "Warning message:\n",
            "“Tail Effective Samples Size (ESS) is too low, indicating posterior variances and tail quantiles may be unreliable.\n",
            "Running the chains for more iterations may help. See\n",
            "https://mc-stan.org/misc/warnings.html#tail-ess”\n"
          ]
        },
        {
          "output_type": "display_data",
          "data": {
            "text/plain": [
              "Time difference of 17.56225 mins"
            ]
          },
          "metadata": {}
        }
      ],
      "source": [
        "start_time <- Sys.time()\n",
        "fit.nma<-stan(fit=stan.model.nma,\n",
        "              data=para.as.ls.nma,\n",
        "              iter=200,\n",
        "              chains=4,\n",
        "              cores=4,\n",
        "              control=list(adapt_delta=0.99,\n",
        "                           stepsize=0.01,\n",
        "                           max_treedepth=17))\n",
        "end_time <- Sys.time()\n",
        "end_time - start_time"
      ]
    },
    {
      "cell_type": "markdown",
      "metadata": {
        "id": "CqRsXPyTYoVA"
      },
      "source": [
        "### Save the results as .RData and .csv"
      ]
    },
    {
      "cell_type": "code",
      "execution_count": 19,
      "metadata": {
        "id": "SRl6FPKFYoVA"
      },
      "outputs": [],
      "source": [
        "filename.simdata.save<-'fit_nma_simdata_qSOFAasreference.RData'\n",
        "filename.results.save<-'out_nma_sepsis3_qSOFAasreference.csv'\n",
        "results.nma<-fit.extract(fit.data=fit.nma,filename.save=filename.simdata.save)\n",
        "results.nma.95<-get.nma(data.ls=list(mk=mk.names[unique(para$Test)],\n",
        "                                         data.nma=results.nma),mk.names=mk.names,\n",
        "                            conf=95)\n",
        "write.csv(results.nma.95,filename.results.save)"
      ]
    },
    {
      "cell_type": "markdown",
      "metadata": {
        "id": "SyTxYrdmYoVA"
      },
      "source": [
        "### Print the results of pooled sensitivity and specificity from Network Meta-analysis"
      ]
    },
    {
      "cell_type": "code",
      "execution_count": 20,
      "metadata": {
        "colab": {
          "base_uri": "https://localhost:8080/",
          "height": 411
        },
        "id": "TpyodoAYYoVA",
        "outputId": "04a67ef4-5c3c-4bea-f1f0-9bf37cd912e1"
      },
      "outputs": [
        {
          "output_type": "display_data",
          "data": {
            "text/html": [
              "<table class=\"dataframe\">\n",
              "<caption>A data.frame: 10 × 6</caption>\n",
              "<thead>\n",
              "\t<tr><th></th><th scope=col>mean_sp</th><th scope=col>ub_sp</th><th scope=col>lb_sp</th><th scope=col>mean_se</th><th scope=col>ub_se</th><th scope=col>lb_se</th></tr>\n",
              "\t<tr><th></th><th scope=col>&lt;dbl&gt;</th><th scope=col>&lt;dbl&gt;</th><th scope=col>&lt;dbl&gt;</th><th scope=col>&lt;dbl&gt;</th><th scope=col>&lt;dbl&gt;</th><th scope=col>&lt;dbl&gt;</th></tr>\n",
              "</thead>\n",
              "<tbody>\n",
              "\t<tr><th scope=row>qSOFA</th><td>0.8108337</td><td>0.9752205</td><td>0.4169209</td><td>0.3652054</td><td>0.6226168</td><td>0.1502642</td></tr>\n",
              "\t<tr><th scope=row>PCT</th><td>0.7457838</td><td>0.7787765</td><td>0.7209262</td><td>0.7321883</td><td>0.7591662</td><td>0.6975057</td></tr>\n",
              "\t<tr><th scope=row>presepsin</th><td>0.7225757</td><td>0.7925544</td><td>0.6353709</td><td>0.7890475</td><td>0.8526443</td><td>0.6949692</td></tr>\n",
              "\t<tr><th scope=row>CRP</th><td>0.6922244</td><td>0.7412481</td><td>0.6023845</td><td>0.6768215</td><td>0.7158947</td><td>0.6233629</td></tr>\n",
              "\t<tr><th scope=row>CD64</th><td>0.7899123</td><td>0.9169901</td><td>0.5975382</td><td>0.7927140</td><td>0.9287771</td><td>0.5122726</td></tr>\n",
              "\t<tr><th scope=row>IL-6</th><td>0.7453952</td><td>0.8327502</td><td>0.5845577</td><td>0.7072184</td><td>0.7842695</td><td>0.5855139</td></tr>\n",
              "\t<tr><th scope=row>sTREM-1</th><td>0.6398267</td><td>0.9301467</td><td>0.2244031</td><td>0.5104235</td><td>0.7316838</td><td>0.1376613</td></tr>\n",
              "\t<tr><th scope=row>LBP</th><td>0.5921977</td><td>0.8140960</td><td>0.3126832</td><td>0.6375726</td><td>0.8177326</td><td>0.4000812</td></tr>\n",
              "\t<tr><th scope=row>SIRS</th><td>0.5137728</td><td>0.6676873</td><td>0.3668140</td><td>0.7475128</td><td>0.8779292</td><td>0.5584685</td></tr>\n",
              "\t<tr><th scope=row>SOFA</th><td>0.8176703</td><td>0.9013496</td><td>0.6107001</td><td>0.5713457</td><td>0.6879630</td><td>0.4445756</td></tr>\n",
              "</tbody>\n",
              "</table>\n"
            ],
            "text/markdown": "\nA data.frame: 10 × 6\n\n| <!--/--> | mean_sp &lt;dbl&gt; | ub_sp &lt;dbl&gt; | lb_sp &lt;dbl&gt; | mean_se &lt;dbl&gt; | ub_se &lt;dbl&gt; | lb_se &lt;dbl&gt; |\n|---|---|---|---|---|---|---|\n| qSOFA | 0.8108337 | 0.9752205 | 0.4169209 | 0.3652054 | 0.6226168 | 0.1502642 |\n| PCT | 0.7457838 | 0.7787765 | 0.7209262 | 0.7321883 | 0.7591662 | 0.6975057 |\n| presepsin | 0.7225757 | 0.7925544 | 0.6353709 | 0.7890475 | 0.8526443 | 0.6949692 |\n| CRP | 0.6922244 | 0.7412481 | 0.6023845 | 0.6768215 | 0.7158947 | 0.6233629 |\n| CD64 | 0.7899123 | 0.9169901 | 0.5975382 | 0.7927140 | 0.9287771 | 0.5122726 |\n| IL-6 | 0.7453952 | 0.8327502 | 0.5845577 | 0.7072184 | 0.7842695 | 0.5855139 |\n| sTREM-1 | 0.6398267 | 0.9301467 | 0.2244031 | 0.5104235 | 0.7316838 | 0.1376613 |\n| LBP | 0.5921977 | 0.8140960 | 0.3126832 | 0.6375726 | 0.8177326 | 0.4000812 |\n| SIRS | 0.5137728 | 0.6676873 | 0.3668140 | 0.7475128 | 0.8779292 | 0.5584685 |\n| SOFA | 0.8176703 | 0.9013496 | 0.6107001 | 0.5713457 | 0.6879630 | 0.4445756 |\n\n",
            "text/latex": "A data.frame: 10 × 6\n\\begin{tabular}{r|llllll}\n  & mean\\_sp & ub\\_sp & lb\\_sp & mean\\_se & ub\\_se & lb\\_se\\\\\n  & <dbl> & <dbl> & <dbl> & <dbl> & <dbl> & <dbl>\\\\\n\\hline\n\tqSOFA & 0.8108337 & 0.9752205 & 0.4169209 & 0.3652054 & 0.6226168 & 0.1502642\\\\\n\tPCT & 0.7457838 & 0.7787765 & 0.7209262 & 0.7321883 & 0.7591662 & 0.6975057\\\\\n\tpresepsin & 0.7225757 & 0.7925544 & 0.6353709 & 0.7890475 & 0.8526443 & 0.6949692\\\\\n\tCRP & 0.6922244 & 0.7412481 & 0.6023845 & 0.6768215 & 0.7158947 & 0.6233629\\\\\n\tCD64 & 0.7899123 & 0.9169901 & 0.5975382 & 0.7927140 & 0.9287771 & 0.5122726\\\\\n\tIL-6 & 0.7453952 & 0.8327502 & 0.5845577 & 0.7072184 & 0.7842695 & 0.5855139\\\\\n\tsTREM-1 & 0.6398267 & 0.9301467 & 0.2244031 & 0.5104235 & 0.7316838 & 0.1376613\\\\\n\tLBP & 0.5921977 & 0.8140960 & 0.3126832 & 0.6375726 & 0.8177326 & 0.4000812\\\\\n\tSIRS & 0.5137728 & 0.6676873 & 0.3668140 & 0.7475128 & 0.8779292 & 0.5584685\\\\\n\tSOFA & 0.8176703 & 0.9013496 & 0.6107001 & 0.5713457 & 0.6879630 & 0.4445756\\\\\n\\end{tabular}\n",
            "text/plain": [
              "          mean_sp   ub_sp     lb_sp     mean_se   ub_se     lb_se    \n",
              "qSOFA     0.8108337 0.9752205 0.4169209 0.3652054 0.6226168 0.1502642\n",
              "PCT       0.7457838 0.7787765 0.7209262 0.7321883 0.7591662 0.6975057\n",
              "presepsin 0.7225757 0.7925544 0.6353709 0.7890475 0.8526443 0.6949692\n",
              "CRP       0.6922244 0.7412481 0.6023845 0.6768215 0.7158947 0.6233629\n",
              "CD64      0.7899123 0.9169901 0.5975382 0.7927140 0.9287771 0.5122726\n",
              "IL-6      0.7453952 0.8327502 0.5845577 0.7072184 0.7842695 0.5855139\n",
              "sTREM-1   0.6398267 0.9301467 0.2244031 0.5104235 0.7316838 0.1376613\n",
              "LBP       0.5921977 0.8140960 0.3126832 0.6375726 0.8177326 0.4000812\n",
              "SIRS      0.5137728 0.6676873 0.3668140 0.7475128 0.8779292 0.5584685\n",
              "SOFA      0.8176703 0.9013496 0.6107001 0.5713457 0.6879630 0.4445756"
            ]
          },
          "metadata": {}
        }
      ],
      "source": [
        "rownames(results.nma.95$mu)=c('qSOFA','PCT','presepsin','CRP','CD64','IL-6','sTREM-1','LBP','SIRS','SOFA')\n",
        "results.nma.95$mu"
      ]
    },
    {
      "cell_type": "markdown",
      "metadata": {
        "id": "4CZOUG03YoVB"
      },
      "source": [
        "### Print the results of pooled DOR from Network Meta-analysis"
      ]
    },
    {
      "cell_type": "code",
      "execution_count": 21,
      "metadata": {
        "colab": {
          "base_uri": "https://localhost:8080/",
          "height": 411
        },
        "id": "3pULuZc7YoVB",
        "outputId": "5f9ed290-6ebe-4e8e-869b-fa7ac0c123e4"
      },
      "outputs": [
        {
          "output_type": "display_data",
          "data": {
            "text/html": [
              "<table class=\"dataframe\">\n",
              "<caption>A data.frame: 10 × 3</caption>\n",
              "<thead>\n",
              "\t<tr><th></th><th scope=col>mean</th><th scope=col>ub</th><th scope=col>lb</th></tr>\n",
              "\t<tr><th></th><th scope=col>&lt;dbl&gt;</th><th scope=col>&lt;dbl&gt;</th><th scope=col>&lt;dbl&gt;</th></tr>\n",
              "</thead>\n",
              "<tbody>\n",
              "\t<tr><th scope=row>qSOFA</th><td> 7.199387</td><td>30.186290</td><td>0.2337816</td></tr>\n",
              "\t<tr><th scope=row>PCT</th><td> 8.244554</td><td>10.134053</td><td>6.8237728</td></tr>\n",
              "\t<tr><th scope=row>presepsin</th><td>10.530337</td><td>16.396428</td><td>4.8670759</td></tr>\n",
              "\t<tr><th scope=row>CRP</th><td> 4.953500</td><td> 6.627300</td><td>3.0820180</td></tr>\n",
              "\t<tr><th scope=row>CD64</th><td>24.370267</td><td>80.351082</td><td>1.7576558</td></tr>\n",
              "\t<tr><th scope=row>IL-6</th><td> 8.125826</td><td>13.740402</td><td>3.1031175</td></tr>\n",
              "\t<tr><th scope=row>sTREM-1</th><td> 4.857427</td><td>11.991378</td><td>0.2571905</td></tr>\n",
              "\t<tr><th scope=row>LBP</th><td> 3.327949</td><td> 9.770250</td><td>0.6645058</td></tr>\n",
              "\t<tr><th scope=row>SIRS</th><td> 3.701749</td><td> 7.920629</td><td>1.1141231</td></tr>\n",
              "\t<tr><th scope=row>SOFA</th><td> 7.102831</td><td>14.478047</td><td>1.9638274</td></tr>\n",
              "</tbody>\n",
              "</table>\n"
            ],
            "text/markdown": "\nA data.frame: 10 × 3\n\n| <!--/--> | mean &lt;dbl&gt; | ub &lt;dbl&gt; | lb &lt;dbl&gt; |\n|---|---|---|---|\n| qSOFA |  7.199387 | 30.186290 | 0.2337816 |\n| PCT |  8.244554 | 10.134053 | 6.8237728 |\n| presepsin | 10.530337 | 16.396428 | 4.8670759 |\n| CRP |  4.953500 |  6.627300 | 3.0820180 |\n| CD64 | 24.370267 | 80.351082 | 1.7576558 |\n| IL-6 |  8.125826 | 13.740402 | 3.1031175 |\n| sTREM-1 |  4.857427 | 11.991378 | 0.2571905 |\n| LBP |  3.327949 |  9.770250 | 0.6645058 |\n| SIRS |  3.701749 |  7.920629 | 1.1141231 |\n| SOFA |  7.102831 | 14.478047 | 1.9638274 |\n\n",
            "text/latex": "A data.frame: 10 × 3\n\\begin{tabular}{r|lll}\n  & mean & ub & lb\\\\\n  & <dbl> & <dbl> & <dbl>\\\\\n\\hline\n\tqSOFA &  7.199387 & 30.186290 & 0.2337816\\\\\n\tPCT &  8.244554 & 10.134053 & 6.8237728\\\\\n\tpresepsin & 10.530337 & 16.396428 & 4.8670759\\\\\n\tCRP &  4.953500 &  6.627300 & 3.0820180\\\\\n\tCD64 & 24.370267 & 80.351082 & 1.7576558\\\\\n\tIL-6 &  8.125826 & 13.740402 & 3.1031175\\\\\n\tsTREM-1 &  4.857427 & 11.991378 & 0.2571905\\\\\n\tLBP &  3.327949 &  9.770250 & 0.6645058\\\\\n\tSIRS &  3.701749 &  7.920629 & 1.1141231\\\\\n\tSOFA &  7.102831 & 14.478047 & 1.9638274\\\\\n\\end{tabular}\n",
            "text/plain": [
              "          mean      ub        lb       \n",
              "qSOFA      7.199387 30.186290 0.2337816\n",
              "PCT        8.244554 10.134053 6.8237728\n",
              "presepsin 10.530337 16.396428 4.8670759\n",
              "CRP        4.953500  6.627300 3.0820180\n",
              "CD64      24.370267 80.351082 1.7576558\n",
              "IL-6       8.125826 13.740402 3.1031175\n",
              "sTREM-1    4.857427 11.991378 0.2571905\n",
              "LBP        3.327949  9.770250 0.6645058\n",
              "SIRS       3.701749  7.920629 1.1141231\n",
              "SOFA       7.102831 14.478047 1.9638274"
            ]
          },
          "metadata": {}
        }
      ],
      "source": [
        "rownames(results.nma.95$dor)=c('qSOFA','PCT','presepsin','CRP','CD64','IL-6','sTREM-1','LBP','SIRS','SOFA')\n",
        "results.nma.95$dor"
      ]
    },
    {
      "cell_type": "markdown",
      "metadata": {
        "id": "fMhCYCyqYoVB"
      },
      "source": [
        "### Print the results of pooled Superiority index from Network Meta-analysis"
      ]
    },
    {
      "cell_type": "code",
      "execution_count": 22,
      "metadata": {
        "colab": {
          "base_uri": "https://localhost:8080/",
          "height": 411
        },
        "id": "1cyQTnsOYoVB",
        "outputId": "b5d732ad-2fc7-4e6d-e0be-b33c5855d6b2"
      },
      "outputs": [
        {
          "output_type": "display_data",
          "data": {
            "text/html": [
              "<table class=\"dataframe\">\n",
              "<caption>A data.frame: 10 × 3</caption>\n",
              "<thead>\n",
              "\t<tr><th></th><th scope=col>mean</th><th scope=col>ub</th><th scope=col>lb</th></tr>\n",
              "\t<tr><th></th><th scope=col>&lt;dbl&gt;</th><th scope=col>&lt;dbl&gt;</th><th scope=col>&lt;dbl&gt;</th></tr>\n",
              "</thead>\n",
              "<tbody>\n",
              "\t<tr><th scope=row>qSOFA</th><td> 1.0871836</td><td> 5.000000</td><td>0.05263158</td></tr>\n",
              "\t<tr><th scope=row>PCT</th><td> 4.0750476</td><td>11.000000</td><td>0.60000000</td></tr>\n",
              "\t<tr><th scope=row>presepsin</th><td> 6.1103810</td><td>15.000000</td><td>1.00000000</td></tr>\n",
              "\t<tr><th scope=row>CRP</th><td> 0.5913189</td><td> 1.666667</td><td>0.11111111</td></tr>\n",
              "\t<tr><th scope=row>CD64</th><td>10.7892525</td><td>19.000000</td><td>0.33333333</td></tr>\n",
              "\t<tr><th scope=row>IL-6</th><td> 3.8141416</td><td>13.000000</td><td>0.09090909</td></tr>\n",
              "\t<tr><th scope=row>sTREM-1</th><td> 0.6099468</td><td> 5.000000</td><td>0.05882353</td></tr>\n",
              "\t<tr><th scope=row>LBP</th><td> 0.6484169</td><td> 7.000000</td><td>0.06666667</td></tr>\n",
              "\t<tr><th scope=row>SIRS</th><td> 0.7936698</td><td> 3.000000</td><td>0.06666667</td></tr>\n",
              "\t<tr><th scope=row>SOFA</th><td> 2.6010856</td><td> 9.000000</td><td>0.14285714</td></tr>\n",
              "</tbody>\n",
              "</table>\n"
            ],
            "text/markdown": "\nA data.frame: 10 × 3\n\n| <!--/--> | mean &lt;dbl&gt; | ub &lt;dbl&gt; | lb &lt;dbl&gt; |\n|---|---|---|---|\n| qSOFA |  1.0871836 |  5.000000 | 0.05263158 |\n| PCT |  4.0750476 | 11.000000 | 0.60000000 |\n| presepsin |  6.1103810 | 15.000000 | 1.00000000 |\n| CRP |  0.5913189 |  1.666667 | 0.11111111 |\n| CD64 | 10.7892525 | 19.000000 | 0.33333333 |\n| IL-6 |  3.8141416 | 13.000000 | 0.09090909 |\n| sTREM-1 |  0.6099468 |  5.000000 | 0.05882353 |\n| LBP |  0.6484169 |  7.000000 | 0.06666667 |\n| SIRS |  0.7936698 |  3.000000 | 0.06666667 |\n| SOFA |  2.6010856 |  9.000000 | 0.14285714 |\n\n",
            "text/latex": "A data.frame: 10 × 3\n\\begin{tabular}{r|lll}\n  & mean & ub & lb\\\\\n  & <dbl> & <dbl> & <dbl>\\\\\n\\hline\n\tqSOFA &  1.0871836 &  5.000000 & 0.05263158\\\\\n\tPCT &  4.0750476 & 11.000000 & 0.60000000\\\\\n\tpresepsin &  6.1103810 & 15.000000 & 1.00000000\\\\\n\tCRP &  0.5913189 &  1.666667 & 0.11111111\\\\\n\tCD64 & 10.7892525 & 19.000000 & 0.33333333\\\\\n\tIL-6 &  3.8141416 & 13.000000 & 0.09090909\\\\\n\tsTREM-1 &  0.6099468 &  5.000000 & 0.05882353\\\\\n\tLBP &  0.6484169 &  7.000000 & 0.06666667\\\\\n\tSIRS &  0.7936698 &  3.000000 & 0.06666667\\\\\n\tSOFA &  2.6010856 &  9.000000 & 0.14285714\\\\\n\\end{tabular}\n",
            "text/plain": [
              "          mean       ub        lb        \n",
              "qSOFA      1.0871836  5.000000 0.05263158\n",
              "PCT        4.0750476 11.000000 0.60000000\n",
              "presepsin  6.1103810 15.000000 1.00000000\n",
              "CRP        0.5913189  1.666667 0.11111111\n",
              "CD64      10.7892525 19.000000 0.33333333\n",
              "IL-6       3.8141416 13.000000 0.09090909\n",
              "sTREM-1    0.6099468  5.000000 0.05882353\n",
              "LBP        0.6484169  7.000000 0.06666667\n",
              "SIRS       0.7936698  3.000000 0.06666667\n",
              "SOFA       2.6010856  9.000000 0.14285714"
            ]
          },
          "metadata": {}
        }
      ],
      "source": [
        "rownames(results.nma.95$sindex)=c('qSOFA','PCT','presepsin','CRP','CD64','IL-6','sTREM-1','LBP','SIRS','SOFA')\n",
        "results.nma.95$sindex"
      ]
    },
    {
      "cell_type": "markdown",
      "metadata": {
        "id": "buVwHqjGYoVB"
      },
      "source": [
        "### Print the results of pooled Superiority index for Sensitivity from Network Meta-analysis"
      ]
    },
    {
      "cell_type": "code",
      "execution_count": 23,
      "metadata": {
        "colab": {
          "base_uri": "https://localhost:8080/",
          "height": 411
        },
        "id": "Jt4qzMBzYoVB",
        "outputId": "f9901311-1c81-4c91-859d-e156b2a29568"
      },
      "outputs": [
        {
          "output_type": "display_data",
          "data": {
            "text/html": [
              "<table class=\"dataframe\">\n",
              "<caption>A data.frame: 10 × 3</caption>\n",
              "<thead>\n",
              "\t<tr><th></th><th scope=col>mean</th><th scope=col>ub</th><th scope=col>lb</th></tr>\n",
              "\t<tr><th></th><th scope=col>&lt;dbl&gt;</th><th scope=col>&lt;dbl&gt;</th><th scope=col>&lt;dbl&gt;</th></tr>\n",
              "</thead>\n",
              "<tbody>\n",
              "\t<tr><th scope=row>qSOFA</th><td> 0.1309599</td><td> 0.5384615</td><td>0.05263158</td></tr>\n",
              "\t<tr><th scope=row>PCT</th><td> 2.4387879</td><td> 5.6666667</td><td>0.81818182</td></tr>\n",
              "\t<tr><th scope=row>presepsin</th><td> 8.4208813</td><td>19.0000000</td><td>0.81818182</td></tr>\n",
              "\t<tr><th scope=row>CRP</th><td> 0.8634226</td><td> 1.8571429</td><td>0.33333333</td></tr>\n",
              "\t<tr><th scope=row>CD64</th><td>10.6630632</td><td>19.0000000</td><td>0.33333333</td></tr>\n",
              "\t<tr><th scope=row>IL-6</th><td> 1.7876742</td><td> 5.6666667</td><td>0.17647059</td></tr>\n",
              "\t<tr><th scope=row>sTREM-1</th><td> 0.6566413</td><td> 3.0000000</td><td>0.05263158</td></tr>\n",
              "\t<tr><th scope=row>LBP</th><td> 1.4766411</td><td> 5.6666667</td><td>0.05263158</td></tr>\n",
              "\t<tr><th scope=row>SIRS</th><td> 5.8335534</td><td>19.0000000</td><td>0.33333333</td></tr>\n",
              "\t<tr><th scope=row>SOFA</th><td> 0.3934856</td><td> 1.2222222</td><td>0.17647059</td></tr>\n",
              "</tbody>\n",
              "</table>\n"
            ],
            "text/markdown": "\nA data.frame: 10 × 3\n\n| <!--/--> | mean &lt;dbl&gt; | ub &lt;dbl&gt; | lb &lt;dbl&gt; |\n|---|---|---|---|\n| qSOFA |  0.1309599 |  0.5384615 | 0.05263158 |\n| PCT |  2.4387879 |  5.6666667 | 0.81818182 |\n| presepsin |  8.4208813 | 19.0000000 | 0.81818182 |\n| CRP |  0.8634226 |  1.8571429 | 0.33333333 |\n| CD64 | 10.6630632 | 19.0000000 | 0.33333333 |\n| IL-6 |  1.7876742 |  5.6666667 | 0.17647059 |\n| sTREM-1 |  0.6566413 |  3.0000000 | 0.05263158 |\n| LBP |  1.4766411 |  5.6666667 | 0.05263158 |\n| SIRS |  5.8335534 | 19.0000000 | 0.33333333 |\n| SOFA |  0.3934856 |  1.2222222 | 0.17647059 |\n\n",
            "text/latex": "A data.frame: 10 × 3\n\\begin{tabular}{r|lll}\n  & mean & ub & lb\\\\\n  & <dbl> & <dbl> & <dbl>\\\\\n\\hline\n\tqSOFA &  0.1309599 &  0.5384615 & 0.05263158\\\\\n\tPCT &  2.4387879 &  5.6666667 & 0.81818182\\\\\n\tpresepsin &  8.4208813 & 19.0000000 & 0.81818182\\\\\n\tCRP &  0.8634226 &  1.8571429 & 0.33333333\\\\\n\tCD64 & 10.6630632 & 19.0000000 & 0.33333333\\\\\n\tIL-6 &  1.7876742 &  5.6666667 & 0.17647059\\\\\n\tsTREM-1 &  0.6566413 &  3.0000000 & 0.05263158\\\\\n\tLBP &  1.4766411 &  5.6666667 & 0.05263158\\\\\n\tSIRS &  5.8335534 & 19.0000000 & 0.33333333\\\\\n\tSOFA &  0.3934856 &  1.2222222 & 0.17647059\\\\\n\\end{tabular}\n",
            "text/plain": [
              "          mean       ub         lb        \n",
              "qSOFA      0.1309599  0.5384615 0.05263158\n",
              "PCT        2.4387879  5.6666667 0.81818182\n",
              "presepsin  8.4208813 19.0000000 0.81818182\n",
              "CRP        0.8634226  1.8571429 0.33333333\n",
              "CD64      10.6630632 19.0000000 0.33333333\n",
              "IL-6       1.7876742  5.6666667 0.17647059\n",
              "sTREM-1    0.6566413  3.0000000 0.05263158\n",
              "LBP        1.4766411  5.6666667 0.05263158\n",
              "SIRS       5.8335534 19.0000000 0.33333333\n",
              "SOFA       0.3934856  1.2222222 0.17647059"
            ]
          },
          "metadata": {}
        }
      ],
      "source": [
        "rownames(results.nma.95$sindex_se)=c('qSOFA','PCT','presepsin','CRP','CD64','IL-6','sTREM-1','LBP','SIRS','SOFA')\n",
        "results.nma.95$sindex_se"
      ]
    },
    {
      "cell_type": "markdown",
      "metadata": {
        "id": "ueaoO4gAYoVB"
      },
      "source": [
        "### Print the results of pooled Superiority index for Specificity from Network Meta-analysis"
      ]
    },
    {
      "cell_type": "code",
      "execution_count": 24,
      "metadata": {
        "colab": {
          "base_uri": "https://localhost:8080/",
          "height": 411
        },
        "id": "QZ02eQd-YoVC",
        "outputId": "799bd68d-214a-46c2-b5b9-368811a762d5"
      },
      "outputs": [
        {
          "output_type": "display_data",
          "data": {
            "text/html": [
              "<table class=\"dataframe\">\n",
              "<caption>A data.frame: 10 × 3</caption>\n",
              "<thead>\n",
              "\t<tr><th></th><th scope=col>mean</th><th scope=col>ub</th><th scope=col>lb</th></tr>\n",
              "\t<tr><th></th><th scope=col>&lt;dbl&gt;</th><th scope=col>&lt;dbl&gt;</th><th scope=col>&lt;dbl&gt;</th></tr>\n",
              "</thead>\n",
              "<tbody>\n",
              "\t<tr><th scope=row>qSOFA</th><td>10.3761803</td><td>19.0000000</td><td>0.05263158</td></tr>\n",
              "\t<tr><th scope=row>PCT</th><td> 1.7158235</td><td> 5.6666667</td><td>0.53846154</td></tr>\n",
              "\t<tr><th scope=row>presepsin</th><td> 1.3156935</td><td> 5.6666667</td><td>0.33333333</td></tr>\n",
              "\t<tr><th scope=row>CRP</th><td> 0.6521693</td><td> 1.2222222</td><td>0.17647059</td></tr>\n",
              "\t<tr><th scope=row>CD64</th><td> 5.6551506</td><td>19.0000000</td><td>0.17647059</td></tr>\n",
              "\t<tr><th scope=row>IL-6</th><td> 2.2856623</td><td> 5.6666667</td><td>0.17647059</td></tr>\n",
              "\t<tr><th scope=row>sTREM-1</th><td> 1.8826688</td><td>19.0000000</td><td>0.05263158</td></tr>\n",
              "\t<tr><th scope=row>LBP</th><td> 0.5058289</td><td> 3.0000000</td><td>0.05263158</td></tr>\n",
              "\t<tr><th scope=row>SIRS</th><td> 0.1784606</td><td> 0.8181818</td><td>0.05263158</td></tr>\n",
              "\t<tr><th scope=row>SOFA</th><td> 8.0974730</td><td>19.0000000</td><td>0.33333333</td></tr>\n",
              "</tbody>\n",
              "</table>\n"
            ],
            "text/markdown": "\nA data.frame: 10 × 3\n\n| <!--/--> | mean &lt;dbl&gt; | ub &lt;dbl&gt; | lb &lt;dbl&gt; |\n|---|---|---|---|\n| qSOFA | 10.3761803 | 19.0000000 | 0.05263158 |\n| PCT |  1.7158235 |  5.6666667 | 0.53846154 |\n| presepsin |  1.3156935 |  5.6666667 | 0.33333333 |\n| CRP |  0.6521693 |  1.2222222 | 0.17647059 |\n| CD64 |  5.6551506 | 19.0000000 | 0.17647059 |\n| IL-6 |  2.2856623 |  5.6666667 | 0.17647059 |\n| sTREM-1 |  1.8826688 | 19.0000000 | 0.05263158 |\n| LBP |  0.5058289 |  3.0000000 | 0.05263158 |\n| SIRS |  0.1784606 |  0.8181818 | 0.05263158 |\n| SOFA |  8.0974730 | 19.0000000 | 0.33333333 |\n\n",
            "text/latex": "A data.frame: 10 × 3\n\\begin{tabular}{r|lll}\n  & mean & ub & lb\\\\\n  & <dbl> & <dbl> & <dbl>\\\\\n\\hline\n\tqSOFA & 10.3761803 & 19.0000000 & 0.05263158\\\\\n\tPCT &  1.7158235 &  5.6666667 & 0.53846154\\\\\n\tpresepsin &  1.3156935 &  5.6666667 & 0.33333333\\\\\n\tCRP &  0.6521693 &  1.2222222 & 0.17647059\\\\\n\tCD64 &  5.6551506 & 19.0000000 & 0.17647059\\\\\n\tIL-6 &  2.2856623 &  5.6666667 & 0.17647059\\\\\n\tsTREM-1 &  1.8826688 & 19.0000000 & 0.05263158\\\\\n\tLBP &  0.5058289 &  3.0000000 & 0.05263158\\\\\n\tSIRS &  0.1784606 &  0.8181818 & 0.05263158\\\\\n\tSOFA &  8.0974730 & 19.0000000 & 0.33333333\\\\\n\\end{tabular}\n",
            "text/plain": [
              "          mean       ub         lb        \n",
              "qSOFA     10.3761803 19.0000000 0.05263158\n",
              "PCT        1.7158235  5.6666667 0.53846154\n",
              "presepsin  1.3156935  5.6666667 0.33333333\n",
              "CRP        0.6521693  1.2222222 0.17647059\n",
              "CD64       5.6551506 19.0000000 0.17647059\n",
              "IL-6       2.2856623  5.6666667 0.17647059\n",
              "sTREM-1    1.8826688 19.0000000 0.05263158\n",
              "LBP        0.5058289  3.0000000 0.05263158\n",
              "SIRS       0.1784606  0.8181818 0.05263158\n",
              "SOFA       8.0974730 19.0000000 0.33333333"
            ]
          },
          "metadata": {}
        }
      ],
      "source": [
        "rownames(results.nma.95$sindex_sp)=c('qSOFA','PCT','presepsin','CRP','CD64','IL-6','sTREM-1','LBP','SIRS','SOFA')\n",
        "results.nma.95$sindex_sp"
      ]
    },
    {
      "cell_type": "markdown",
      "metadata": {
        "id": "p4ufaIWfYoVC"
      },
      "source": [
        "##################################################################################\n",
        "###                          Univariable Network meta-regression                         ###\n",
        "##################################################################################"
      ]
    },
    {
      "cell_type": "markdown",
      "metadata": {
        "id": "BQ8T7W_6YoVC"
      },
      "source": [
        "### Define a function to get the results from Univariable Network Meta-regression"
      ]
    },
    {
      "cell_type": "code",
      "execution_count": 25,
      "metadata": {
        "id": "NYNTAtMeYoVN"
      },
      "outputs": [],
      "source": [
        "get.nma.1mk<-function(data.ls=NULL,mk.names=NULL,n.study=1,conf=95){\n",
        "\t           data.nma<-data.ls$data.nma\n",
        "\t           func.ub<-NULL\n",
        "\t           func.lb<-NULL\n",
        "\t           if(conf==95){\n",
        "\t\t                func.ub<-get.ub.95\n",
        "\t\t                func.lb<-get.lb.95\n",
        "\t           } else if(conf==90){\n",
        "\t\t                     func.ub<-get.ub.90\n",
        "\t\t                     func.lb<-get.lb.90\n",
        "\t           }\n",
        "\t           data.nma.muse<-data.nma[paste('MU[',1,',',1:length(data.ls$mk),']',sep='')]\n",
        "\t           data.nma.musp<-data.nma[paste('MU[',2,',',1:length(data.ls$mk),']',sep='')]\n",
        "\t           data.nma.rrse<-data.nma[paste('RR[',1,',',1:length(data.ls$mk),']',sep='')]\n",
        "\t           data.nma.rrsp<-data.nma[paste('RR[',2,',',1:length(data.ls$mk),']',sep='')]\n",
        "\t           data.nma.orse<-data.nma[paste('OR[',1,',',1:length(data.ls$mk),']',sep='')]\n",
        "\t           data.nma.orsp<-data.nma[paste('OR[',2,',',1:length(data.ls$mk),']',sep='')]\n",
        "\t           data.nma.dor<-data.nma[paste('DOR[',1:length(data.ls$mk),']',sep='')]\n",
        "\t           data.nma.sindex<-data.nma[paste('S[',1:length(data.ls$mk),']',sep='')]\n",
        "\t           data.nma.sindex_se<-data.nma[paste('S_se[',1:length(data.ls$mk),']',sep='')]\n",
        "\t           data.nma.sindex_sp<-data.nma[paste('S_sp[',1:length(data.ls$mk),']',sep='')]\n",
        "\t           data.nma.beta1se<-data.nma[paste('beta1[1,',1:length(data.ls$mk),']',sep='')]\n",
        "\t           data.nma.beta1sp<-data.nma[paste('beta1[2,',1:length(data.ls$mk),']',sep='')]\n",
        "\t           mu.info<-data.frame(mean_sp=array(unlist(lapply(data.nma.musp,mean))),\n",
        "\t                            ub_sp=array(unlist(lapply(data.nma.musp,func.ub))),\n",
        "\t                            lb_sp=array(unlist(lapply(data.nma.musp,func.lb))),\n",
        "\t                            mean_se=array(unlist(lapply(data.nma.muse,mean))),\n",
        "\t                            ub_se=array(unlist(lapply(data.nma.muse,func.ub))),\n",
        "\t                            lb_se=array(unlist(lapply(data.nma.muse,func.lb))))\n",
        "\t           rr.info<-data.frame(mean_sp=array(unlist(lapply(data.nma.rrsp,mean))),\n",
        "\t                            ub_sp=array(unlist(lapply(data.nma.rrsp,func.ub))),\n",
        "\t                            lb_sp=array(unlist(lapply(data.nma.rrsp,func.lb))),\n",
        "\t                            mean_se=array(unlist(lapply(data.nma.rrse,mean))),\n",
        "\t                            ub_se=array(unlist(lapply(data.nma.rrse,func.ub))),\n",
        "\t                            lb_se=array(unlist(lapply(data.nma.rrse,func.lb))))\n",
        "\t           or.info<-data.frame(mean_sp=array(unlist(lapply(data.nma.orsp,mean))),\n",
        "\t                            ub_sp=array(unlist(lapply(data.nma.orsp,func.ub))),\n",
        "\t                            lb_sp=array(unlist(lapply(data.nma.orsp,func.lb))),\n",
        "\t                            mean_se=array(unlist(lapply(data.nma.orse,mean))),\n",
        "\t                            ub_se=array(unlist(lapply(data.nma.orse,func.ub))),\n",
        "\t                            lb_se=array(unlist(lapply(data.nma.orse,func.lb))))\n",
        "\t           dor.info<-data.frame(mean=array(unlist(lapply(data.nma.dor,mean))),\n",
        "\t                           ub=array(unlist(lapply(data.nma.dor,func.ub))),\n",
        "\t                           lb=array(unlist(lapply(data.nma.dor,func.lb))))\n",
        "\t           sindex.info<-data.frame(mean=array(unlist(lapply(data.nma.sindex,mean))),\n",
        "\t                             ub=array(unlist(lapply(data.nma.sindex,func.ub))),\n",
        "\t                             lb=array(unlist(lapply(data.nma.sindex,func.lb))))\n",
        "\t           sindex_se.info<-data.frame(mean=array(unlist(lapply(data.nma.sindex_se,mean))),\n",
        "\t                              ub=array(unlist(lapply(data.nma.sindex_se,func.ub))),\n",
        "\t                              lb=array(unlist(lapply(data.nma.sindex_se,func.lb))))\n",
        "\t           sindex_sp.info<-data.frame(mean=array(unlist(lapply(data.nma.sindex_sp,mean))),\n",
        "\t                              ub=array(unlist(lapply(data.nma.sindex_sp,func.ub))),\n",
        "\t                              lb=array(unlist(lapply(data.nma.sindex_sp,func.lb))))\n",
        "\t           beta1.info<-data.frame(mean_sp=array(unlist(lapply(data.nma.beta1sp,mean))),\n",
        "\t                              ub_sp=array(unlist(lapply(data.nma.beta1sp,func.ub))),\n",
        "\t                              lb_sp=array(unlist(lapply(data.nma.beta1sp,func.lb))),\n",
        "\t                              mean_se=array(unlist(lapply(data.nma.beta1se,mean))),\n",
        "\t                              ub_se=array(unlist(lapply(data.nma.beta1se,func.ub))),\n",
        "\t                              lb_se=array(unlist(lapply(data.nma.beta1se,func.lb))))\n",
        "\t           results.nma<-list(marker=mk.names[mk.names %in% data.ls$mk],\n",
        "\t                    mu=mu.info,\n",
        "\t                    rr=rr.info,\n",
        "\t                    or=or.info,\n",
        "\t                    dor=dor.info,\n",
        "\t                    sindex=sindex.info,\n",
        "\t                    sindex_se=sindex_se.info,\n",
        "\t                    sindex_sp=sindex_sp.info,\n",
        "\t                    beta1=beta1.info)\n",
        "\treturn(results.nma)\n",
        "}"
      ]
    },
    {
      "cell_type": "markdown",
      "metadata": {
        "id": "03WOILbyYoVO"
      },
      "source": [
        "### Univariable Network Meta-regression (STAN code)"
      ]
    },
    {
      "cell_type": "code",
      "execution_count": 26,
      "metadata": {
        "id": "paIAQbsbYoVO"
      },
      "outputs": [],
      "source": [
        "stan.code.1mk<-'\n",
        "data{\n",
        "   int N;         //number of comparison (n=121)\n",
        "   int Nt;        //number of test (n=7)\n",
        "   int Ns;        //number of study (n=107)\n",
        "   int TP[N];\n",
        "   int Dis[N];    //diseased\n",
        "   int TN[N];\n",
        "   int NDis[N];   //non-diseased\n",
        "   int Study[N];\n",
        "   int Test[N];\n",
        "   int Covar1[N]; //one additional variable\n",
        "}\n",
        "\n",
        "parameters{\n",
        "      matrix[2,Nt] logitmu;\n",
        "      vector[Ns] nu[2];\n",
        "      matrix[Ns,Nt] delta[2];\n",
        "      vector<lower=0>[Nt] tau[2];\n",
        "      vector<lower=0>[2] sigmab;\n",
        "      real<lower=-1,upper=1> rho;\n",
        "      matrix[2,Nt] beta1;\n",
        "}\n",
        "\n",
        "transformed parameters{\n",
        "             matrix[Ns,2] p_i[Nt];\n",
        "             matrix[2,Nt] MU;\n",
        "             matrix[2,Nt] RR;\n",
        "             matrix[2,Nt] OR;\n",
        "             vector[Nt] DOR;\n",
        "             vector[Nt] S;\n",
        "             vector[Nt] S_se;\n",
        "             vector[Nt] S_sp;\n",
        "             matrix[Nt,Nt] A;\n",
        "             matrix[Nt,Nt] B;\n",
        "             matrix[Nt,Nt] C;\n",
        "             matrix[Nt, Nt] A_se;\n",
        "             matrix[Nt, Nt] B_se;\n",
        "             matrix[Nt, Nt] C_se;\n",
        "             matrix[Nt, Nt] A_sp;\n",
        "             matrix[Nt, Nt] B_sp;\n",
        "             matrix[Nt, Nt] C_sp;\n",
        "\n",
        "             vector<lower=0>[Nt] tausq[2];\n",
        "             vector<lower=0>[2] sigmabsq;\n",
        "\n",
        "             matrix[Nt,Nt] sigmasq[2];\n",
        "             matrix[Nt,Nt] rhow[2];\n",
        "\n",
        "for (i in 1:Ns){\n",
        "  for (j in 1:2){\n",
        "    for (k in 1:Nt){\n",
        "               p_i[k][i,j]=inv_logit(logitmu[j,k]+nu[j][i]+delta[j][i,k]+beta1[j,k]*Covar1[i]);\n",
        "            }\n",
        "        }\n",
        "    }\n",
        "\n",
        "for (j in 1:2){\n",
        "  for (k in 1:Nt){\n",
        "            MU[j,k]=mean(col(p_i[k],j));\n",
        "        }\n",
        "         tausq[j]=(tau[j]).*(tau[j]);\n",
        "    }\n",
        "\n",
        "for (j in 1:2){\n",
        "  for (k in 1:Nt){\n",
        "            RR[j,k]=MU[j,k]/MU[j,1];\n",
        "            OR[j,k]=(MU[j,k]*(1-MU[j,1]))/(MU[j,1]*(1-MU[j,k]));\n",
        "        }\n",
        "    }\n",
        "\n",
        "for (l in 1:Nt){\n",
        "          DOR[l]=(MU[1,l]*MU[2,l])/((1-MU[1,l])*(1-MU[2,l]));\n",
        "  for(m in 1:Nt){\n",
        "            A[l,m]=if_else((MU[1,l]>MU[1,m]) && (MU[2,l]>MU[2,m]),1,0);\n",
        "            B[l,m]=if_else((MU[1,l]<MU[1,m]) && (MU[2,l]<MU[2,m]),1,0);\n",
        "            C[l,m]=if_else((MU[1,l]==MU[1,m]) && (MU[2,l]==MU[2,m]),1,0);\n",
        "\n",
        "            A_se[l, m] = if_else((MU[1, l] > MU[1, m]), 1, 0);\n",
        "            B_se[l, m] = if_else((MU[1, l] < MU[1, m]), 1, 0);\n",
        "            C_se[l, m] = if_else((MU[1, l] == MU[1, m]), 1, 0);\n",
        "\n",
        "            A_sp[l, m] = if_else((MU[2, l] > MU[2, m]), 1, 0);\n",
        "            B_sp[l, m] = if_else((MU[2, l] < MU[2, m]), 1, 0);\n",
        "            C_sp[l, m] = if_else((MU[2, l] == MU[2, m]), 1, 0);\n",
        "      }\n",
        "        S[l]=(2*sum(row(A,l))+sum(row(C,l)))/(2*sum(row(B,l))+sum(row(C,l)));\n",
        "        S_se[l] = (2*sum(row(A_se, l)) + sum(row(C_se, l)))/(2*sum(row(B_se, l)) + sum(row(C_se, l)));\n",
        "        S_sp[l] = (2*sum(row(A_sp, l)) + sum(row(C_sp, l)))/(2*sum(row(B_sp, l)) + sum(row(C_sp, l)));\n",
        "  }\n",
        "\n",
        "    sigmabsq=(sigmab).*(sigmab);\n",
        "\n",
        "for (j in 1:2){\n",
        "  for (k in 1:Nt){\n",
        "    for (l in 1:Nt){\n",
        "              sigmasq[j][k,l]=(sigmabsq[j]+tausq[j][k])*((sigmabsq[j]+tausq[j][l]));\n",
        "              rhow[j][k,l]=sigmabsq[j]/sqrt(sigmasq[j][k,l]);\n",
        "          }\n",
        "      }\n",
        "  }\n",
        "}\n",
        "\n",
        "model{\n",
        "    //----Priors\n",
        "    for (j in 1:2){\n",
        "              logitmu[j]~normal(0,5);\n",
        "              tau[j]~cauchy(0,2.5);\n",
        "\n",
        "    for (k in 1:Nt){\n",
        "              beta1[j,k]~normal(0,5);\n",
        "          }\n",
        "      }\n",
        "        sigmab~cauchy(0, 2.5);\n",
        "        rho~uniform(-1, 1);\n",
        "        nu[2]~normal(0,sigmab[2]);\n",
        "\n",
        "    for (i in 1:Ns){\n",
        "              nu[1][i]~normal((sigmab[1]/sigmab[2])*rho*nu[2][i],sqrt(sigmabsq[1]*(1-(rho*rho))));\n",
        "      for (j in 1:2){\n",
        "        for (k in 1:Nt){\n",
        "                  delta[j][i,k]~normal(0,tau[j][k]);\n",
        "              }\n",
        "          }\n",
        "      }\n",
        "\n",
        "    for (n in 1:N){\n",
        "              TP[n]~binomial(Dis[n],p_i[Test[n]][Study[n],1]);\n",
        "              TN[n]~binomial(NDis[n],p_i[Test[n]][Study[n],2]);\n",
        "          }\n",
        "}\n",
        "\n",
        "    generated quantities{\n",
        "                vector[2*N] loglik;\n",
        "\n",
        "    for (n in 1:N){\n",
        "              loglik[n]=binomial_lpmf(TN[n]|NDis[n],p_i[Test[n]][Study[n],1]);\n",
        "          }\n",
        "      for (n in (N+1):(2*N)){\n",
        "                    loglik[n]=binomial_lpmf(TN[n-N]|NDis[n-N],p_i[Test[n-N]][Study[n-N],2]);\n",
        "                }\n",
        "            }\n",
        "'"
      ]
    },
    {
      "cell_type": "markdown",
      "metadata": {
        "id": "wgyO_SlxYoVO"
      },
      "source": [
        "### Prepare data for Network Meta-regression"
      ]
    },
    {
      "cell_type": "code",
      "execution_count": 27,
      "metadata": {
        "id": "pmtJFf4yYoVP"
      },
      "outputs": [],
      "source": [
        "para.as.ls.1mk<-list(N=nrow(para),\n",
        "           Nt=length(unique(para$Test)),\n",
        "           Ns=length(unique(para$Study)),\n",
        "           TP=para$TP,\n",
        "           Dis=para$Dis,\n",
        "           TN=para$TN,\n",
        "           NDis=para$NDis,\n",
        "           Study=as.numeric(para$Study),\n",
        "           Test=para$Test,\n",
        "           Covar1=data$is.prevalence05)"
      ]
    },
    {
      "cell_type": "markdown",
      "metadata": {
        "id": "OGsdJbGIYoVP"
      },
      "source": [
        "### Compiling model"
      ]
    },
    {
      "cell_type": "code",
      "execution_count": 28,
      "metadata": {
        "colab": {
          "base_uri": "https://localhost:8080/"
        },
        "id": "c22B89GkYoVP",
        "outputId": "f22e8533-af68-49f8-c040-cc7854110a85"
      },
      "outputs": [
        {
          "output_type": "stream",
          "name": "stdout",
          "text": [
            "\n",
            "SAMPLING FOR MODEL 'd63a5a9eefe03ef3da783ca7728595dc' NOW (CHAIN 1).\n",
            "Chain 1: \n",
            "Chain 1: Gradient evaluation took 0.000815 seconds\n",
            "Chain 1: 1000 transitions using 10 leapfrog steps per transition would take 8.15 seconds.\n",
            "Chain 1: Adjust your expectations accordingly!\n",
            "Chain 1: \n",
            "Chain 1: \n",
            "Chain 1: WARNING: No variance estimation is\n",
            "Chain 1:          performed for num_warmup < 20\n",
            "Chain 1: \n",
            "Chain 1: Iteration: 1 / 1 [100%]  (Sampling)\n",
            "Chain 1: \n",
            "Chain 1:  Elapsed Time: 2e-06 seconds (Warm-up)\n",
            "Chain 1:                0.001921 seconds (Sampling)\n",
            "Chain 1:                0.001923 seconds (Total)\n",
            "Chain 1: \n"
          ]
        },
        {
          "output_type": "stream",
          "name": "stderr",
          "text": [
            "Warning message:\n",
            "“There were 1 divergent transitions after warmup. See\n",
            "https://mc-stan.org/misc/warnings.html#divergent-transitions-after-warmup\n",
            "to find out why this is a problem and how to eliminate them.”\n",
            "Warning message:\n",
            "“Examine the pairs() plot to diagnose sampling problems\n",
            "”\n"
          ]
        }
      ],
      "source": [
        "stan.model.1mk<-stan(model_code=stan.code.1mk,\n",
        "           data=para.as.ls.1mk,\n",
        "           iter=1,\n",
        "           warmup=0,\n",
        "           chains=1)"
      ]
    },
    {
      "cell_type": "markdown",
      "metadata": {
        "id": "f1BIrWWnYoVP"
      },
      "source": [
        "### Running model"
      ]
    },
    {
      "cell_type": "code",
      "execution_count": 29,
      "metadata": {
        "colab": {
          "base_uri": "https://localhost:8080/",
          "height": 362
        },
        "id": "ocpNy1p0YoVQ",
        "outputId": "e485dafa-5d78-4374-894b-a9123a9883f2"
      },
      "outputs": [
        {
          "metadata": {
            "tags": null
          },
          "name": "stderr",
          "output_type": "stream",
          "text": [
            "Warning message:\n",
            "“There were 3 chains where the estimated Bayesian Fraction of Missing Information was low. See\n",
            "https://mc-stan.org/misc/warnings.html#bfmi-low”\n",
            "Warning message:\n",
            "“Examine the pairs() plot to diagnose sampling problems\n",
            "”\n",
            "Warning message:\n",
            "“The largest R-hat is NA, indicating chains have not mixed.\n",
            "Running the chains for more iterations may help. See\n",
            "https://mc-stan.org/misc/warnings.html#r-hat”\n",
            "Warning message:\n",
            "“Bulk Effective Samples Size (ESS) is too low, indicating posterior means and medians may be unreliable.\n",
            "Running the chains for more iterations may help. See\n",
            "https://mc-stan.org/misc/warnings.html#bulk-ess”\n",
            "Warning message:\n",
            "“Tail Effective Samples Size (ESS) is too low, indicating posterior variances and tail quantiles may be unreliable.\n",
            "Running the chains for more iterations may help. See\n",
            "https://mc-stan.org/misc/warnings.html#tail-ess”\n"
          ]
        },
        {
          "data": {
            "text/plain": [
              "Time difference of 21.93722 mins"
            ]
          },
          "metadata": {},
          "output_type": "display_data"
        }
      ],
      "source": [
        "start_time <- Sys.time()\n",
        "fit.1mk<-stan(fit=stan.model.1mk,\n",
        "       data=para.as.ls.1mk,\n",
        "       iter=200,\n",
        "       chains=4,\n",
        "       cores=4,\n",
        "       control=list(adapt_delta=0.99,\n",
        "              stepsize=0.01,\n",
        "              max_treedepth=17))\n",
        "end_time <- Sys.time()\n",
        "end_time - start_time"
      ]
    },
    {
      "cell_type": "markdown",
      "metadata": {
        "id": "XWeggy2lYoVQ"
      },
      "source": [
        "### Save the results as .RData and .csv"
      ]
    },
    {
      "cell_type": "code",
      "execution_count": 30,
      "metadata": {
        "id": "J1gs5SWZYoVQ"
      },
      "outputs": [],
      "source": [
        "filename.simdata.save<-'fit_1mk_simdata_sepsis_isprevalence05.RData'\n",
        "filename.results.save<-'out_1mk_sepsis_isprevalence05.csv'\n",
        "results.1mk<-fit.extract(fit.data=fit.1mk,filename.save=filename.simdata.save)\n",
        "results.1mk.95<-get.nma.1mk(data.ls=list(mk=mk.names[unique(para$Test)],\n",
        "                                         data.nma=results.1mk),mk.names=mk.names,\n",
        "                            conf=95)\n",
        "write.csv(results.1mk.95,filename.results.save)"
      ]
    },
    {
      "cell_type": "markdown",
      "metadata": {
        "id": "0LgLjh4WYoVQ"
      },
      "source": [
        "### Print the results of pooled sensitivity and specificity from Network Meta-regression"
      ]
    },
    {
      "cell_type": "code",
      "execution_count": 31,
      "metadata": {
        "colab": {
          "base_uri": "https://localhost:8080/",
          "height": 411
        },
        "id": "Z6jjKAsRYoVQ",
        "outputId": "04cc5ea8-b7e6-4f3d-cae6-3bd7cbc5ae56"
      },
      "outputs": [
        {
          "output_type": "display_data",
          "data": {
            "text/html": [
              "<table class=\"dataframe\">\n",
              "<caption>A data.frame: 10 × 6</caption>\n",
              "<thead>\n",
              "\t<tr><th></th><th scope=col>mean_sp</th><th scope=col>ub_sp</th><th scope=col>lb_sp</th><th scope=col>mean_se</th><th scope=col>ub_se</th><th scope=col>lb_se</th></tr>\n",
              "\t<tr><th></th><th scope=col>&lt;dbl&gt;</th><th scope=col>&lt;dbl&gt;</th><th scope=col>&lt;dbl&gt;</th><th scope=col>&lt;dbl&gt;</th><th scope=col>&lt;dbl&gt;</th><th scope=col>&lt;dbl&gt;</th></tr>\n",
              "</thead>\n",
              "<tbody>\n",
              "\t<tr><th scope=row>qSOFA</th><td>0.8343904</td><td>0.9861647</td><td>0.5833991</td><td>0.3753245</td><td>0.6282312</td><td>0.13888902</td></tr>\n",
              "\t<tr><th scope=row>PCT</th><td>0.7462204</td><td>0.7705313</td><td>0.7231538</td><td>0.7322352</td><td>0.7646050</td><td>0.71296368</td></tr>\n",
              "\t<tr><th scope=row>presepsin</th><td>0.7271080</td><td>0.7874983</td><td>0.6445695</td><td>0.8226873</td><td>0.8668823</td><td>0.76242709</td></tr>\n",
              "\t<tr><th scope=row>CRP</th><td>0.7031980</td><td>0.7439010</td><td>0.6346436</td><td>0.6771432</td><td>0.7239936</td><td>0.62269597</td></tr>\n",
              "\t<tr><th scope=row>CD64</th><td>0.7924926</td><td>0.9247047</td><td>0.5879458</td><td>0.7151757</td><td>0.9395261</td><td>0.38651558</td></tr>\n",
              "\t<tr><th scope=row>IL-6</th><td>0.7380014</td><td>0.8293991</td><td>0.6509445</td><td>0.7140065</td><td>0.8058153</td><td>0.53058898</td></tr>\n",
              "\t<tr><th scope=row>sTREM-1</th><td>0.6157849</td><td>0.9636320</td><td>0.2331245</td><td>0.5978874</td><td>0.9358386</td><td>0.09638128</td></tr>\n",
              "\t<tr><th scope=row>LBP</th><td>0.5384333</td><td>0.9071572</td><td>0.1404003</td><td>0.4727226</td><td>0.9266352</td><td>0.08339972</td></tr>\n",
              "\t<tr><th scope=row>SIRS</th><td>0.5311905</td><td>0.7471237</td><td>0.3060454</td><td>0.6831586</td><td>0.8875260</td><td>0.43340942</td></tr>\n",
              "\t<tr><th scope=row>SOFA</th><td>0.7907249</td><td>0.8870827</td><td>0.6590323</td><td>0.5746732</td><td>0.6774505</td><td>0.42347857</td></tr>\n",
              "</tbody>\n",
              "</table>\n"
            ],
            "text/markdown": "\nA data.frame: 10 × 6\n\n| <!--/--> | mean_sp &lt;dbl&gt; | ub_sp &lt;dbl&gt; | lb_sp &lt;dbl&gt; | mean_se &lt;dbl&gt; | ub_se &lt;dbl&gt; | lb_se &lt;dbl&gt; |\n|---|---|---|---|---|---|---|\n| qSOFA | 0.8343904 | 0.9861647 | 0.5833991 | 0.3753245 | 0.6282312 | 0.13888902 |\n| PCT | 0.7462204 | 0.7705313 | 0.7231538 | 0.7322352 | 0.7646050 | 0.71296368 |\n| presepsin | 0.7271080 | 0.7874983 | 0.6445695 | 0.8226873 | 0.8668823 | 0.76242709 |\n| CRP | 0.7031980 | 0.7439010 | 0.6346436 | 0.6771432 | 0.7239936 | 0.62269597 |\n| CD64 | 0.7924926 | 0.9247047 | 0.5879458 | 0.7151757 | 0.9395261 | 0.38651558 |\n| IL-6 | 0.7380014 | 0.8293991 | 0.6509445 | 0.7140065 | 0.8058153 | 0.53058898 |\n| sTREM-1 | 0.6157849 | 0.9636320 | 0.2331245 | 0.5978874 | 0.9358386 | 0.09638128 |\n| LBP | 0.5384333 | 0.9071572 | 0.1404003 | 0.4727226 | 0.9266352 | 0.08339972 |\n| SIRS | 0.5311905 | 0.7471237 | 0.3060454 | 0.6831586 | 0.8875260 | 0.43340942 |\n| SOFA | 0.7907249 | 0.8870827 | 0.6590323 | 0.5746732 | 0.6774505 | 0.42347857 |\n\n",
            "text/latex": "A data.frame: 10 × 6\n\\begin{tabular}{r|llllll}\n  & mean\\_sp & ub\\_sp & lb\\_sp & mean\\_se & ub\\_se & lb\\_se\\\\\n  & <dbl> & <dbl> & <dbl> & <dbl> & <dbl> & <dbl>\\\\\n\\hline\n\tqSOFA & 0.8343904 & 0.9861647 & 0.5833991 & 0.3753245 & 0.6282312 & 0.13888902\\\\\n\tPCT & 0.7462204 & 0.7705313 & 0.7231538 & 0.7322352 & 0.7646050 & 0.71296368\\\\\n\tpresepsin & 0.7271080 & 0.7874983 & 0.6445695 & 0.8226873 & 0.8668823 & 0.76242709\\\\\n\tCRP & 0.7031980 & 0.7439010 & 0.6346436 & 0.6771432 & 0.7239936 & 0.62269597\\\\\n\tCD64 & 0.7924926 & 0.9247047 & 0.5879458 & 0.7151757 & 0.9395261 & 0.38651558\\\\\n\tIL-6 & 0.7380014 & 0.8293991 & 0.6509445 & 0.7140065 & 0.8058153 & 0.53058898\\\\\n\tsTREM-1 & 0.6157849 & 0.9636320 & 0.2331245 & 0.5978874 & 0.9358386 & 0.09638128\\\\\n\tLBP & 0.5384333 & 0.9071572 & 0.1404003 & 0.4727226 & 0.9266352 & 0.08339972\\\\\n\tSIRS & 0.5311905 & 0.7471237 & 0.3060454 & 0.6831586 & 0.8875260 & 0.43340942\\\\\n\tSOFA & 0.7907249 & 0.8870827 & 0.6590323 & 0.5746732 & 0.6774505 & 0.42347857\\\\\n\\end{tabular}\n",
            "text/plain": [
              "          mean_sp   ub_sp     lb_sp     mean_se   ub_se     lb_se     \n",
              "qSOFA     0.8343904 0.9861647 0.5833991 0.3753245 0.6282312 0.13888902\n",
              "PCT       0.7462204 0.7705313 0.7231538 0.7322352 0.7646050 0.71296368\n",
              "presepsin 0.7271080 0.7874983 0.6445695 0.8226873 0.8668823 0.76242709\n",
              "CRP       0.7031980 0.7439010 0.6346436 0.6771432 0.7239936 0.62269597\n",
              "CD64      0.7924926 0.9247047 0.5879458 0.7151757 0.9395261 0.38651558\n",
              "IL-6      0.7380014 0.8293991 0.6509445 0.7140065 0.8058153 0.53058898\n",
              "sTREM-1   0.6157849 0.9636320 0.2331245 0.5978874 0.9358386 0.09638128\n",
              "LBP       0.5384333 0.9071572 0.1404003 0.4727226 0.9266352 0.08339972\n",
              "SIRS      0.5311905 0.7471237 0.3060454 0.6831586 0.8875260 0.43340942\n",
              "SOFA      0.7907249 0.8870827 0.6590323 0.5746732 0.6774505 0.42347857"
            ]
          },
          "metadata": {}
        }
      ],
      "source": [
        "rownames(results.1mk.95$mu)=c('qSOFA', 'PCT', 'presepsin', 'CRP', 'CD64', 'IL-6', 'sTREM-1', 'LBP', 'SIRS', 'SOFA')\n",
        "results.1mk.95$mu"
      ]
    },
    {
      "cell_type": "markdown",
      "metadata": {
        "id": "u-nLl7aLYoVR"
      },
      "source": [
        "### Print the results of pooled DOR from Network Meta-regression"
      ]
    },
    {
      "cell_type": "code",
      "execution_count": 32,
      "metadata": {
        "colab": {
          "base_uri": "https://localhost:8080/",
          "height": 411
        },
        "id": "NVWFHWB5YoVR",
        "outputId": "1579d4e9-34b0-427a-a0d8-3d1047f454d1"
      },
      "outputs": [
        {
          "output_type": "display_data",
          "data": {
            "text/html": [
              "<table class=\"dataframe\">\n",
              "<caption>A data.frame: 10 × 3</caption>\n",
              "<thead>\n",
              "\t<tr><th></th><th scope=col>mean</th><th scope=col>ub</th><th scope=col>lb</th></tr>\n",
              "\t<tr><th></th><th scope=col>&lt;dbl&gt;</th><th scope=col>&lt;dbl&gt;</th><th scope=col>&lt;dbl&gt;</th></tr>\n",
              "</thead>\n",
              "<tbody>\n",
              "\t<tr><th scope=row>qSOFA</th><td> 9.606980</td><td> 43.680741</td><td>0.31165888</td></tr>\n",
              "\t<tr><th scope=row>PCT</th><td> 8.375743</td><td> 10.141162</td><td>6.84635591</td></tr>\n",
              "\t<tr><th scope=row>presepsin</th><td>14.136606</td><td> 20.110562</td><td>7.10854265</td></tr>\n",
              "\t<tr><th scope=row>CRP</th><td> 5.111536</td><td>  6.679264</td><td>3.51455177</td></tr>\n",
              "\t<tr><th scope=row>CD64</th><td>17.165532</td><td> 68.496934</td><td>0.93830275</td></tr>\n",
              "\t<tr><th scope=row>IL-6</th><td> 7.790352</td><td> 14.582939</td><td>3.55360244</td></tr>\n",
              "\t<tr><th scope=row>sTREM-1</th><td>17.989279</td><td>152.796252</td><td>0.08999238</td></tr>\n",
              "\t<tr><th scope=row>LBP</th><td> 7.756740</td><td> 35.952940</td><td>0.03677282</td></tr>\n",
              "\t<tr><th scope=row>SIRS</th><td> 3.914135</td><td> 14.253367</td><td>0.57185014</td></tr>\n",
              "\t<tr><th scope=row>SOFA</th><td> 5.790714</td><td> 11.692187</td><td>2.53997361</td></tr>\n",
              "</tbody>\n",
              "</table>\n"
            ],
            "text/markdown": "\nA data.frame: 10 × 3\n\n| <!--/--> | mean &lt;dbl&gt; | ub &lt;dbl&gt; | lb &lt;dbl&gt; |\n|---|---|---|---|\n| qSOFA |  9.606980 |  43.680741 | 0.31165888 |\n| PCT |  8.375743 |  10.141162 | 6.84635591 |\n| presepsin | 14.136606 |  20.110562 | 7.10854265 |\n| CRP |  5.111536 |   6.679264 | 3.51455177 |\n| CD64 | 17.165532 |  68.496934 | 0.93830275 |\n| IL-6 |  7.790352 |  14.582939 | 3.55360244 |\n| sTREM-1 | 17.989279 | 152.796252 | 0.08999238 |\n| LBP |  7.756740 |  35.952940 | 0.03677282 |\n| SIRS |  3.914135 |  14.253367 | 0.57185014 |\n| SOFA |  5.790714 |  11.692187 | 2.53997361 |\n\n",
            "text/latex": "A data.frame: 10 × 3\n\\begin{tabular}{r|lll}\n  & mean & ub & lb\\\\\n  & <dbl> & <dbl> & <dbl>\\\\\n\\hline\n\tqSOFA &  9.606980 &  43.680741 & 0.31165888\\\\\n\tPCT &  8.375743 &  10.141162 & 6.84635591\\\\\n\tpresepsin & 14.136606 &  20.110562 & 7.10854265\\\\\n\tCRP &  5.111536 &   6.679264 & 3.51455177\\\\\n\tCD64 & 17.165532 &  68.496934 & 0.93830275\\\\\n\tIL-6 &  7.790352 &  14.582939 & 3.55360244\\\\\n\tsTREM-1 & 17.989279 & 152.796252 & 0.08999238\\\\\n\tLBP &  7.756740 &  35.952940 & 0.03677282\\\\\n\tSIRS &  3.914135 &  14.253367 & 0.57185014\\\\\n\tSOFA &  5.790714 &  11.692187 & 2.53997361\\\\\n\\end{tabular}\n",
            "text/plain": [
              "          mean      ub         lb        \n",
              "qSOFA      9.606980  43.680741 0.31165888\n",
              "PCT        8.375743  10.141162 6.84635591\n",
              "presepsin 14.136606  20.110562 7.10854265\n",
              "CRP        5.111536   6.679264 3.51455177\n",
              "CD64      17.165532  68.496934 0.93830275\n",
              "IL-6       7.790352  14.582939 3.55360244\n",
              "sTREM-1   17.989279 152.796252 0.08999238\n",
              "LBP        7.756740  35.952940 0.03677282\n",
              "SIRS       3.914135  14.253367 0.57185014\n",
              "SOFA       5.790714  11.692187 2.53997361"
            ]
          },
          "metadata": {}
        }
      ],
      "source": [
        "rownames(results.1mk.95$dor)=c('qSOFA', 'PCT', 'presepsin', 'CRP', 'CD64', 'IL-6', 'sTREM-1', 'LBP', 'SIRS', 'SOFA')\n",
        "results.1mk.95$dor"
      ]
    }
  ],
  "metadata": {
    "kernelspec": {
      "display_name": "R",
      "language": "R",
      "name": "ir"
    },
    "language_info": {
      "codemirror_mode": "r",
      "file_extension": ".r",
      "mimetype": "text/x-r-source",
      "name": "R",
      "pygments_lexer": "r",
      "version": "4.1.0"
    },
    "colab": {
      "provenance": []
    }
  },
  "nbformat": 4,
  "nbformat_minor": 0
}