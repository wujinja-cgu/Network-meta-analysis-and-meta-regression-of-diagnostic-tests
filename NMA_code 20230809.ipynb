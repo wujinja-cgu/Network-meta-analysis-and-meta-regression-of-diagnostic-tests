{
  "cells": [
    {
      "cell_type": "markdown",
      "metadata": {
        "id": "YP4d3tTqYoUw"
      },
      "source": [
        "### Load the packages"
      ]
    },
    {
      "cell_type": "markdown",
      "source": [
        "Code from Chin-Chieh Wu (Chang Gung University)"
      ],
      "metadata": {
        "id": "KDIhsE_3-l5H"
      }
    },
    {
      "cell_type": "code",
      "source": [
        "# Install the renv package if not already installed\n",
        "if (!requireNamespace(\"renv\", quietly = TRUE)) {\n",
        "  install.packages(\"renv\")\n",
        "}\n",
        "\n",
        "# Load or create a project-specific environment\n",
        "if (!file.exists(\"renv.lock\")) {\n",
        "  renv::init()\n",
        "} else {\n",
        "  renv::activate()\n",
        "}"
      ],
      "metadata": {
        "id": "AXd71xTZx4Y7",
        "outputId": "b4a0431e-9dd8-4ec0-ed45-aa1810d232af",
        "colab": {
          "base_uri": "https://localhost:8080/"
        }
      },
      "execution_count": null,
      "outputs": [
        {
          "output_type": "stream",
          "name": "stderr",
          "text": [
            "Installing package into ‘/usr/local/lib/R/site-library’\n",
            "(as ‘lib’ is unspecified)\n",
            "\n"
          ]
        },
        {
          "output_type": "stream",
          "name": "stdout",
          "text": [
            "The following package(s) will be updated in the lockfile:\n",
            "\n",
            "# CRAN -----------------------------------------------------------------------\n",
            "- renv   [* -> 1.0.0]\n",
            "\n",
            "The version of R recorded in the lockfile will be updated:\n",
            "- R      [* -> 4.3.1]\n",
            "\n",
            "- Lockfile written to '/content/renv.lock'.\n"
          ]
        }
      ]
    },
    {
      "cell_type": "code",
      "source": [
        "# Install required packages\n",
        "if (!requireNamespace(\"rstan\", quietly = TRUE)) {\n",
        "  install.packages(\"rstan\")\n",
        "}\n",
        "if (!requireNamespace(\"bayesplot\", quietly = TRUE)) {\n",
        "  install.packages(\"bayesplot\")\n",
        "}\n",
        "if (!requireNamespace(\"ggplot2\", quietly = TRUE)) {\n",
        "  install.packages(\"ggplot2\")\n",
        "}\n",
        "if (!requireNamespace(\"doParallel\", quietly = TRUE)) {\n",
        "  install.packages(\"doParallel\")\n",
        "}\n",
        "if (!requireNamespace(\"devtools\", quietly = TRUE)) {\n",
        "  install.packages(\"devtools\")\n",
        "}"
      ],
      "metadata": {
        "id": "PNHeoOrcx884",
        "outputId": "afd71bf2-bfc6-4999-d4bb-1148365597ce",
        "colab": {
          "base_uri": "https://localhost:8080/"
        }
      },
      "execution_count": null,
      "outputs": [
        {
          "output_type": "stream",
          "name": "stdout",
          "text": [
            "# Downloading packages -------------------------------------------------------\n",
            "\n",
            "- Downloading rstan from CRAN ...               OK [11.9 Mb in 0.58s]\n",
            "- Downloading inline from CRAN ...              OK [123.9 Kb in 3.2s]\n",
            "- Downloading gridExtra from CRAN ...           OK [1.1 Mb in 0.52s]\n",
            "- Downloading gtable from CRAN ...              OK [210.5 Kb in 0.48s]\n",
            "- Downloading cli from CRAN ...                 OK [1.2 Mb in 0.81s]\n",
            "- Downloading glue from CRAN ...                OK [143.5 Kb in 0.79s]\n",
            "- Downloading lifecycle from CRAN ...           OK [119.8 Kb in 0.81s]\n",
            "- Downloading rlang from CRAN ...               OK [1.5 Mb in 0.85s]\n",
            "- Downloading Rcpp from CRAN ...                OK [2 Mb in 0.8s]\n",
            "- Downloading RcppParallel from CRAN ...        OK [1.8 Mb in 0.5s]\n",
            "- Downloading loo from CRAN ...                 OK [1.8 Mb in 0.54s]\n",
            "- Downloading checkmate from CRAN ...           OK [700.7 Kb in 0.5s]\n",
            "- Downloading backports from CRAN ...           OK [92.8 Kb in 0.75s]\n",
            "- Downloading matrixStats from CRAN ...         OK [456 Kb in 0.46s]\n",
            "- Downloading pkgbuild from CRAN ...            OK [185.6 Kb in 0.75s]\n",
            "- Downloading callr from CRAN ...               OK [418.2 Kb in 0.76s]\n",
            "- Downloading processx from CRAN ...            OK [426.2 Kb in 0.76s]\n",
            "- Downloading ps from CRAN ...                  OK [374.9 Kb in 0.8s]\n",
            "- Downloading R6 from CRAN ...                  OK [80.6 Kb in 0.77s]\n",
            "- Downloading crayon from CRAN ...              OK [156 Kb in 0.74s]\n",
            "- Downloading desc from CRAN ...                OK [316.3 Kb in 0.75s]\n",
            "- Downloading rprojroot from CRAN ...           OK [98.8 Kb in 0.79s]\n",
            "- Downloading prettyunits from CRAN ...         OK [33.7 Kb in 0.53s]\n",
            "- Downloading StanHeaders from CRAN ...         OK [2.5 Mb in 0.53s]\n",
            "- Downloading RcppEigen from CRAN ...           OK [1.5 Mb in 0.82s]\n",
            "- Downloading ggplot2 from CRAN ...             OK [4.1 Mb in 0.85s]\n",
            "- Downloading isoband from CRAN ...             OK [1.6 Mb in 0.78s]\n",
            "- Downloading scales from CRAN ...              OK [592.1 Kb in 0.74s]\n",
            "- Downloading farver from CRAN ...              OK [1.4 Mb in 0.74s]\n",
            "- Downloading labeling from CRAN ...            OK [58.7 Kb in 0.75s]\n",
            "- Downloading munsell from CRAN ...             OK [237.9 Kb in 0.77s]\n",
            "- Downloading colorspace from CRAN ...          OK [2.5 Mb in 0.8s]\n",
            "- Downloading RColorBrewer from CRAN ...        OK [51.9 Kb in 0.73s]\n",
            "- Downloading viridisLite from CRAN ...         OK [1.2 Mb in 0.81s]\n",
            "- Downloading tibble from CRAN ...              OK [656.1 Kb in 0.79s]\n",
            "- Downloading fansi from CRAN ...               OK [299.4 Kb in 0.73s]\n",
            "- Downloading magrittr from CRAN ...            OK [215.9 Kb in 0.46s]\n",
            "- Downloading pillar from CRAN ...              OK [631.4 Kb in 0.82s]\n",
            "- Downloading utf8 from CRAN ...                OK [143.5 Kb in 0.81s]\n",
            "- Downloading vctrs from CRAN ...               OK [1.2 Mb in 0.74s]\n",
            "- Downloading pkgconfig from CRAN ...           OK [17.2 Kb in 0.72s]\n",
            "- Downloading withr from CRAN ...               OK [223.4 Kb in 0.77s]\n",
            "- Downloading BH from CRAN ...                  OK [12.3 Mb in 0.56s]\n",
            "\n",
            "The following package(s) will be installed:\n",
            "\n",
            "- backports    [1.4.1]\n",
            "- BH           [1.81.0-1]\n",
            "- callr        [3.7.3]\n",
            "- checkmate    [2.2.0]\n",
            "- cli          [3.6.1]\n",
            "- colorspace   [2.1-0]\n",
            "- crayon       [1.5.2]\n",
            "- desc         [1.4.2]\n",
            "- fansi        [1.0.4]\n",
            "- farver       [2.1.1]\n",
            "- ggplot2      [3.4.2]\n",
            "- glue         [1.6.2]\n",
            "- gridExtra    [2.3]\n",
            "- gtable       [0.3.3]\n",
            "- inline       [0.3.19]\n",
            "- isoband      [0.2.7]\n",
            "- labeling     [0.4.2]\n",
            "- lifecycle    [1.0.3]\n",
            "- loo          [2.6.0]\n",
            "- magrittr     [2.0.3]\n",
            "- matrixStats  [1.0.0]\n",
            "- munsell      [0.5.0]\n",
            "- pillar       [1.9.0]\n",
            "- pkgbuild     [1.4.2]\n",
            "- pkgconfig    [2.0.3]\n",
            "- prettyunits  [1.1.1]\n",
            "- processx     [3.8.2]\n",
            "- ps           [1.7.5]\n",
            "- R6           [2.5.1]\n",
            "- RColorBrewer [1.1-3]\n",
            "- Rcpp         [1.0.11]\n",
            "- RcppEigen    [0.3.3.9.3]\n",
            "- RcppParallel [5.1.7]\n",
            "- rlang        [1.1.1]\n",
            "- rprojroot    [2.0.3]\n",
            "- rstan        [2.21.8]\n",
            "- scales       [1.2.1]\n",
            "- StanHeaders  [2.26.27]\n",
            "- tibble       [3.2.1]\n",
            "- utf8         [1.2.3]\n",
            "- vctrs        [0.6.3]\n",
            "- viridisLite  [0.4.2]\n",
            "- withr        [2.5.0]\n",
            "\n",
            "These packages will be installed into \"/content/renv/library/R-4.3/x86_64-pc-linux-gnu\".\n",
            "\n",
            "# Installing packages --------------------------------------------------------\n",
            "\n",
            "- Installing inline ...                         OK [installed binary and cached in 0.41s]\n",
            "- Installing cli ...                            OK [installed binary and cached in 0.53s]\n",
            "- Installing glue ...                           OK [installed binary and cached in 0.41s]\n",
            "- Installing rlang ...                          OK [installed binary and cached in 0.59s]\n",
            "- Installing lifecycle ...                      OK [installed binary and cached in 0.61s]\n",
            "- Installing gtable ...                         OK [installed binary and cached in 0.74s]\n",
            "- Installing gridExtra ...                      OK [installed binary and cached in 0.63s]\n",
            "- Installing Rcpp ...                           OK [installed binary and cached in 1.2s]\n",
            "- Installing RcppParallel ...                   OK [installed binary and cached in 0.75s]\n",
            "- Installing backports ...                      OK [installed binary and cached in 0.35s]\n",
            "- Installing checkmate ...                      OK [installed binary and cached in 0.45s]\n",
            "- Installing matrixStats ...                    OK [installed binary and cached in 0.46s]\n",
            "- Installing loo ...                            OK [installed binary and cached in 0.58s]\n",
            "- Installing ps ...                             OK [installed binary and cached in 0.42s]\n",
            "- Installing R6 ...                             OK [installed binary and cached in 0.36s]\n",
            "- Installing processx ...                       OK [installed binary and cached in 0.44s]\n",
            "- Installing callr ...                          OK [installed binary and cached in 0.43s]\n",
            "- Installing crayon ...                         OK [installed binary and cached in 0.38s]\n",
            "- Installing rprojroot ...                      OK [installed binary and cached in 0.36s]\n",
            "- Installing desc ...                           OK [installed binary and cached in 0.43s]\n",
            "- Installing prettyunits ...                    OK [installed binary and cached in 0.37s]\n",
            "- Installing pkgbuild ...                       OK [installed binary and cached in 0.46s]\n",
            "- Installing RcppEigen ...                      OK [installed binary and cached in 2.5s]\n",
            "- Installing StanHeaders ...                    OK [installed binary and cached in 2.3s]\n",
            "- Installing isoband ...                        OK [installed binary and cached in 0.49s]\n",
            "- Installing farver ...                         OK [installed binary and cached in 0.49s]\n",
            "- Installing labeling ...                       OK [installed binary and cached in 0.36s]\n",
            "- Installing colorspace ...                     OK [installed binary and cached in 0.75s]\n",
            "- Installing munsell ...                        OK [installed binary and cached in 0.46s]\n",
            "- Installing RColorBrewer ...                   OK [installed binary and cached in 0.38s]\n",
            "- Installing viridisLite ...                    OK [installed binary and cached in 0.43s]\n",
            "- Installing scales ...                         OK [installed binary and cached in 0.58s]\n",
            "- Installing fansi ...                          OK [installed binary and cached in 0.41s]\n",
            "- Installing magrittr ...                       OK [installed binary and cached in 0.45s]\n",
            "- Installing utf8 ...                           OK [installed binary and cached in 0.39s]\n",
            "- Installing vctrs ...                          OK [installed binary and cached in 0.63s]\n",
            "- Installing pillar ...                         OK [installed binary and cached in 0.72s]\n",
            "- Installing pkgconfig ...                      OK [installed binary and cached in 0.36s]\n",
            "- Installing tibble ...                         OK [installed binary and cached in 1.1s]\n",
            "- Installing withr ...                          OK [installed binary and cached in 0.38s]\n",
            "- Installing ggplot2 ...                        OK [installed binary and cached in 1.2s]\n",
            "- Installing BH ...                             OK [installed binary and cached in 16s]\n",
            "- Installing rstan ...                          OK [installed binary and cached in 4.7s]\n",
            "\n",
            "Successfully installed 43 packages in 48 seconds.\n",
            "# Downloading packages -------------------------------------------------------\n",
            "\n",
            "- Downloading bayesplot from CRAN ...           OK [5.1 Mb in 0.92s]\n",
            "- Downloading dplyr from CRAN ...               OK [1.4 Mb in 0.77s]\n",
            "- Downloading generics from CRAN ...            OK [74.5 Kb in 0.45s]\n",
            "- Downloading tidyselect from CRAN ...          OK [214.8 Kb in 0.76s]\n",
            "- Downloading ggridges from CRAN ...            OK [2.1 Mb in 0.81s]\n",
            "- Downloading posterior from CRAN ...           OK [843.7 Kb in 1.1s]\n",
            "- Downloading abind from CRAN ...               OK [59.9 Kb in 0.77s]\n",
            "- Downloading tensorA from CRAN ...             OK [211.6 Kb in 0.94s]\n",
            "- Downloading distributional from CRAN ...      OK [540.1 Kb in 0.84s]\n",
            "- Downloading numDeriv from CRAN ...            OK [110.4 Kb in 0.78s]\n",
            "- Downloading digest from CRAN ...              OK [202.2 Kb in 0.8s]\n",
            "- Downloading reshape2 from CRAN ...            OK [112.6 Kb in 0.47s]\n",
            "- Downloading plyr from CRAN ...                OK [803.2 Kb in 0.47s]\n",
            "- Downloading stringr from CRAN ...             OK [297.1 Kb in 0.46s]\n",
            "- Downloading stringi from CRAN ...             OK [3.1 Mb in 0.77s]\n",
            "\n",
            "The following package(s) will be installed:\n",
            "\n",
            "- abind          [1.4-5]\n",
            "- bayesplot      [1.10.0]\n",
            "- digest         [0.6.33]\n",
            "- distributional [0.3.2]\n",
            "- dplyr          [1.1.2]\n",
            "- generics       [0.1.3]\n",
            "- ggridges       [0.5.4]\n",
            "- numDeriv       [2016.8-1.1]\n",
            "- plyr           [1.8.8]\n",
            "- posterior      [1.4.1]\n",
            "- reshape2       [1.4.4]\n",
            "- stringi        [1.7.12]\n",
            "- stringr        [1.5.0]\n",
            "- tensorA        [0.36.2]\n",
            "- tidyselect     [1.2.0]\n",
            "\n",
            "These packages will be installed into \"/content/renv/library/R-4.3/x86_64-pc-linux-gnu\".\n",
            "\n",
            "# Installing packages --------------------------------------------------------\n",
            "\n",
            "- Installing generics ...                       OK [installed binary and cached in 0.37s]\n",
            "- Installing tidyselect ...                     OK [installed binary and cached in 0.53s]\n",
            "- Installing dplyr ...                          OK [installed binary and cached in 0.9s]\n",
            "- Installing ggridges ...                       OK [installed binary and cached in 1.1s]\n",
            "- Installing abind ...                          OK [installed binary and cached in 0.37s]\n",
            "- Installing tensorA ...                        OK [installed binary and cached in 0.39s]\n",
            "- Installing numDeriv ...                       OK [installed binary and cached in 0.38s]\n",
            "- Installing digest ...                         OK [installed binary and cached in 0.41s]\n",
            "- Installing distributional ...                 OK [installed binary and cached in 1.0s]\n",
            "- Installing posterior ...                      OK [installed binary and cached in 1.1s]\n",
            "- Installing plyr ...                           OK [installed binary and cached in 0.7s]\n",
            "- Installing stringi ...                        OK [installed binary and cached in 0.85s]\n",
            "- Installing stringr ...                        OK [installed binary and cached in 0.59s]\n",
            "- Installing reshape2 ...                       OK [installed binary and cached in 0.61s]\n",
            "- Installing bayesplot ...                      OK [installed binary and cached in 1.3s]\n",
            "\n",
            "Successfully installed 15 packages in 11 seconds.\n",
            "# Downloading packages -------------------------------------------------------\n",
            "\n",
            "- Downloading doParallel from CRAN ...          OK [183.3 Kb in 0.83s]\n",
            "- Downloading foreach from CRAN ...             OK [134.8 Kb in 0.79s]\n",
            "- Downloading iterators from CRAN ...           OK [337.3 Kb in 0.78s]\n",
            "\n",
            "The following package(s) will be installed:\n",
            "\n",
            "- doParallel [1.0.17]\n",
            "- foreach    [1.5.2]\n",
            "- iterators  [1.0.14]\n",
            "\n",
            "These packages will be installed into \"/content/renv/library/R-4.3/x86_64-pc-linux-gnu\".\n",
            "\n",
            "# Installing packages --------------------------------------------------------\n",
            "\n",
            "- Installing iterators ...                      OK [installed binary and cached in 0.4s]\n",
            "- Installing foreach ...                        OK [installed binary and cached in 0.4s]\n",
            "- Installing doParallel ...                     OK [installed binary and cached in 0.4s]\n",
            "\n",
            "Successfully installed 3 packages in 1.3 seconds.\n",
            "# Downloading packages -------------------------------------------------------\n",
            "\n",
            "- Downloading devtools from CRAN ...            OK [417.4 Kb in 0.83s]\n",
            "- Downloading ellipsis from CRAN ...            OK [32.8 Kb in 0.74s]\n",
            "- Downloading fs from CRAN ...                  OK [282.9 Kb in 0.56s]\n",
            "- Downloading memoise from CRAN ...             OK [46.5 Kb in 0.88s]\n",
            "- Downloading cachem from CRAN ...              OK [64.6 Kb in 0.76s]\n",
            "- Downloading fastmap from CRAN ...             OK [60.4 Kb in 0.79s]\n",
            "- Downloading miniUI from CRAN ...              OK [33.4 Kb in 0.88s]\n",
            "- Downloading shiny from CRAN ...               OK [4.1 Mb in 0.48s]\n",
            "- Downloading httpuv from CRAN ...              OK [578.2 Kb in 0.8s]\n",
            "- Downloading promises from CRAN ...            OK [1.5 Mb in 0.8s]\n",
            "- Downloading later from CRAN ...               OK [127.6 Kb in 0.81s]\n",
            "- Downloading mime from CRAN ...                OK [32.3 Kb in 0.78s]\n",
            "- Downloading jsonlite from CRAN ...            OK [1 Mb in 0.81s]\n",
            "- Downloading xtable from CRAN ...              OK [684.5 Kb in 0.8s]\n",
            "- Downloading fontawesome from CRAN ...         OK [1.3 Mb in 0.91s]\n",
            "- Downloading htmltools from CRAN ...           OK [334.4 Kb in 0.79s]\n",
            "- Downloading base64enc from CRAN ...           OK [25.5 Kb in 0.7s]\n",
            "- Downloading sourcetools from CRAN ...         OK [44.9 Kb in 0.77s]\n",
            "- Downloading commonmark from CRAN ...          OK [142.4 Kb in 0.79s]\n",
            "- Downloading bslib from CRAN ...               OK [4.7 Mb in 0.74s]\n",
            "- Downloading jquerylib from CRAN ...           OK [514.2 Kb in 0.79s]\n",
            "- Downloading sass from CRAN ...                OK [2.3 Mb in 0.87s]\n",
            "- Downloading rappdirs from CRAN ...            OK [42.9 Kb in 0.75s]\n",
            "- Downloading pkgdown from CRAN ...             OK [715.4 Kb in 0.87s]\n",
            "- Downloading downlit from CRAN ...             OK [108.6 Kb in 0.83s]\n",
            "- Downloading brio from CRAN ...                OK [31.2 Kb in 0.78s]\n",
            "- Downloading evaluate from CRAN ...            OK [78.7 Kb in 0.78s]\n",
            "- Downloading yaml from CRAN ...                OK [109.1 Kb in 0.77s]\n",
            "- Downloading httr from CRAN ...                OK [486.9 Kb in 0.8s]\n",
            "- Downloading curl from CRAN ...                OK [745 Kb in 0.84s]\n",
            "- Downloading openssl from CRAN ...             OK [1.2 Mb in 0.79s]\n",
            "- Downloading askpass from CRAN ...             OK [19.7 Kb in 0.77s]\n",
            "- Downloading sys from CRAN ...                 OK [39.1 Kb in 0.78s]\n",
            "- Downloading purrr from CRAN ...               OK [476.2 Kb in 0.77s]\n",
            "- Downloading ragg from CRAN ...                OK [480 Kb in 0.83s]\n",
            "- Downloading systemfonts from CRAN ...         OK [258.4 Kb in 0.8s]\n",
            "- Downloading cpp11 from CRAN ...               OK [292.5 Kb in 0.78s]\n",
            "- Downloading textshaping from CRAN ...         OK [102.8 Kb in 0.79s]\n",
            "- Downloading rmarkdown from CRAN ...           OK [2.5 Mb in 0.85s]\n",
            "- Downloading knitr from CRAN ...               OK [1.4 Mb in 0.78s]\n",
            "- Downloading highr from CRAN ...               OK [38 Kb in 0.73s]\n",
            "- Downloading xfun from CRAN ...                OK [417.1 Kb in 0.73s]\n",
            "- Downloading tinytex from CRAN ...             OK [130.1 Kb in 0.73s]\n",
            "- Downloading whisker from CRAN ...             OK [64.3 Kb in 0.8s]\n",
            "- Downloading xml2 from CRAN ...                OK [225.5 Kb in 0.74s]\n",
            "- Downloading pkgload from CRAN ...             OK [172.3 Kb in 0.81s]\n",
            "- Downloading profvis from CRAN ...             OK [193.4 Kb in 0.81s]\n",
            "- Downloading htmlwidgets from CRAN ...         OK [792.8 Kb in 0.87s]\n",
            "- Downloading rcmdcheck from CRAN ...           OK [164.4 Kb in 0.8s]\n",
            "- Downloading sessioninfo from CRAN ...         OK [179.5 Kb in 0.88s]\n",
            "- Downloading xopen from CRAN ...               OK [21.9 Kb in 0.78s]\n",
            "- Downloading remotes from CRAN ...             OK [388.1 Kb in 0.79s]\n",
            "- Downloading roxygen2 from CRAN ...            OK [678.9 Kb in 0.76s]\n",
            "- Downloading brew from CRAN ...                OK [74.6 Kb in 1.0s]\n",
            "- Downloading rversions from CRAN ...           OK [62.9 Kb in 0.78s]\n",
            "- Downloading testthat from CRAN ...            OK [1.8 Mb in 0.79s]\n",
            "- Downloading praise from CRAN ...              OK [15.8 Kb in 0.7s]\n",
            "- Downloading waldo from CRAN ...               OK [100.3 Kb in 0.74s]\n",
            "- Downloading diffobj from CRAN ...             OK [982.6 Kb in 0.77s]\n",
            "- Downloading rematch2 from CRAN ...            OK [43.7 Kb in 0.74s]\n",
            "- Downloading urlchecker from CRAN ...          OK [33 Kb in 0.77s]\n",
            "- Downloading usethis from CRAN ...             OK [848 Kb in 0.76s]\n",
            "- Downloading clipr from CRAN ...               OK [49 Kb in 0.76s]\n",
            "- Downloading gert from CRAN ...                OK [2.7 Mb in 0.79s]\n",
            "- Downloading credentials from CRAN ...         OK [167.9 Kb in 0.78s]\n",
            "- Downloading rstudioapi from CRAN ...          OK [285.9 Kb in 0.98s]\n",
            "- Downloading zip from CRAN ...                 OK [617.3 Kb in 0.82s]\n",
            "- Downloading gh from CRAN ...                  OK [99.4 Kb in 0.83s]\n",
            "- Downloading gitcreds from CRAN ...            OK [93.3 Kb in 0.81s]\n",
            "- Downloading httr2 from CRAN ...               OK [371 Kb in 0.79s]\n",
            "- Downloading ini from CRAN ...                 OK [12.9 Kb in 0.78s]\n",
            "\n",
            "The following package(s) will be installed:\n",
            "\n",
            "- askpass     [1.1]\n",
            "- base64enc   [0.1-3]\n",
            "- brew        [1.0-8]\n",
            "- brio        [1.1.3]\n",
            "- bslib       [0.5.0]\n",
            "- cachem      [1.0.8]\n",
            "- clipr       [0.8.0]\n",
            "- commonmark  [1.9.0]\n",
            "- cpp11       [0.4.5]\n",
            "- credentials [1.3.2]\n",
            "- curl        [5.0.1]\n",
            "- devtools    [2.4.5]\n",
            "- diffobj     [0.3.5]\n",
            "- downlit     [0.4.3]\n",
            "- ellipsis    [0.3.2]\n",
            "- evaluate    [0.21]\n",
            "- fastmap     [1.1.1]\n",
            "- fontawesome [0.5.1]\n",
            "- fs          [1.6.3]\n",
            "- gert        [1.9.3]\n",
            "- gh          [1.4.0]\n",
            "- gitcreds    [0.1.2]\n",
            "- highr       [0.10]\n",
            "- htmltools   [0.5.5]\n",
            "- htmlwidgets [1.6.2]\n",
            "- httpuv      [1.6.11]\n",
            "- httr        [1.4.6]\n",
            "- httr2       [0.2.3]\n",
            "- ini         [0.3.1]\n",
            "- jquerylib   [0.1.4]\n",
            "- jsonlite    [1.8.7]\n",
            "- knitr       [1.43]\n",
            "- later       [1.3.1]\n",
            "- memoise     [2.0.1]\n",
            "- mime        [0.12]\n",
            "- miniUI      [0.1.1.1]\n",
            "- openssl     [2.1.0]\n",
            "- pkgdown     [2.0.7]\n",
            "- pkgload     [1.3.2.1]\n",
            "- praise      [1.0.0]\n",
            "- profvis     [0.3.8]\n",
            "- promises    [1.2.0.1]\n",
            "- purrr       [1.0.1]\n",
            "- ragg        [1.2.5]\n",
            "- rappdirs    [0.3.3]\n",
            "- rcmdcheck   [1.4.0]\n",
            "- rematch2    [2.1.2]\n",
            "- remotes     [2.4.2.1]\n",
            "- rmarkdown   [2.23]\n",
            "- roxygen2    [7.2.3]\n",
            "- rstudioapi  [0.15.0]\n",
            "- rversions   [2.1.2]\n",
            "- sass        [0.4.7]\n",
            "- sessioninfo [1.2.2]\n",
            "- shiny       [1.7.4.1]\n",
            "- sourcetools [0.1.7-1]\n",
            "- sys         [3.4.2]\n",
            "- systemfonts [1.0.4]\n",
            "- testthat    [3.1.10]\n",
            "- textshaping [0.3.6]\n",
            "- tinytex     [0.45]\n",
            "- urlchecker  [1.0.1]\n",
            "- usethis     [2.2.2]\n",
            "- waldo       [0.5.1]\n",
            "- whisker     [0.4.1]\n",
            "- xfun        [0.39]\n",
            "- xml2        [1.3.5]\n",
            "- xopen       [1.0.0]\n",
            "- xtable      [1.8-4]\n",
            "- yaml        [2.3.7]\n",
            "- zip         [2.3.0]\n",
            "\n",
            "These packages will be installed into \"/content/renv/library/R-4.3/x86_64-pc-linux-gnu\".\n",
            "\n",
            "# Installing packages --------------------------------------------------------\n",
            "\n",
            "- Installing ellipsis ...                       OK [installed binary and cached in 0.47s]\n",
            "- Installing fs ...                             OK [installed binary and cached in 0.45s]\n",
            "- Installing fastmap ...                        OK [installed binary and cached in 0.36s]\n",
            "- Installing cachem ...                         OK [installed binary and cached in 0.48s]\n",
            "- Installing memoise ...                        OK [installed binary and cached in 0.72s]\n",
            "- Installing later ...                          OK [installed binary and cached in 0.69s]\n",
            "- Installing promises ...                       OK [installed binary and cached in 0.73s]\n",
            "- Installing httpuv ...                         OK [installed binary and cached in 0.64s]\n",
            "- Installing mime ...                           OK [installed binary and cached in 0.37s]\n",
            "- Installing jsonlite ...                       OK [installed binary and cached in 0.52s]\n",
            "- Installing xtable ...                         OK [installed binary and cached in 0.44s]\n",
            "- Installing base64enc ...                      OK [installed binary and cached in 0.37s]\n",
            "- Installing htmltools ...                      OK [installed binary and cached in 0.5s]\n",
            "- Installing fontawesome ...                    OK [installed binary and cached in 0.63s]\n",
            "- Installing sourcetools ...                    OK [installed binary and cached in 0.43s]\n",
            "- Installing commonmark ...                     OK [installed binary and cached in 0.4s]\n",
            "- Installing jquerylib ...                      OK [installed binary and cached in 0.62s]\n",
            "- Installing rappdirs ...                       OK [installed binary and cached in 0.36s]\n",
            "- Installing sass ...                           OK [installed binary and cached in 0.79s]\n",
            "- Installing bslib ...                          OK [installed binary and cached in 1.5s]\n",
            "- Installing shiny ...                          OK [installed binary and cached in 1.6s]\n",
            "- Installing miniUI ...                         OK [installed binary and cached in 0.75s]\n",
            "- Installing brio ...                           OK [installed binary and cached in 0.38s]\n",
            "- Installing evaluate ...                       OK [installed binary and cached in 0.36s]\n",
            "- Installing yaml ...                           OK [installed binary and cached in 0.39s]\n",
            "- Installing downlit ...                        OK [installed binary and cached in 0.5s]\n",
            "- Installing curl ...                           OK [installed binary and cached in 0.53s]\n",
            "- Installing sys ...                            OK [installed binary and cached in 0.35s]\n",
            "- Installing askpass ...                        OK [installed binary and cached in 0.36s]\n",
            "- Installing openssl ...                        OK [installed binary and cached in 0.57s]\n",
            "- Installing httr ...                           OK [installed binary and cached in 0.45s]\n",
            "- Installing purrr ...                          OK [installed binary and cached in 0.56s]\n",
            "- Installing cpp11 ...                          OK [installed binary and cached in 0.47s]\n",
            "- Installing systemfonts ...                    OK [installed binary and cached in 0.39s]\n",
            "- Installing textshaping ...                    OK [installed binary and cached in 0.43s]\n",
            "- Installing ragg ...                           OK [installed binary and cached in 0.46s]\n",
            "- Installing xfun ...                           OK [installed binary and cached in 0.41s]\n",
            "- Installing highr ...                          OK [installed binary and cached in 0.38s]\n",
            "- Installing knitr ...                          OK [installed binary and cached in 0.63s]\n",
            "- Installing tinytex ...                        OK [installed binary and cached in 0.39s]\n",
            "- Installing rmarkdown ...                      OK [installed binary and cached in 1.1s]\n",
            "- Installing whisker ...                        OK [installed binary and cached in 0.57s]\n",
            "- Installing xml2 ...                           OK [installed binary and cached in 0.58s]\n",
            "- Installing pkgdown ...                        OK [installed binary and cached in 0.69s]\n",
            "- Installing pkgload ...                        OK [installed binary and cached in 0.74s]\n",
            "- Installing htmlwidgets ...                    OK [installed binary and cached in 0.64s]\n",
            "- Installing profvis ...                        OK [installed binary and cached in 0.68s]\n",
            "- Installing sessioninfo ...                    OK [installed binary and cached in 0.43s]\n",
            "- Installing xopen ...                          OK [installed binary and cached in 0.38s]\n",
            "- Installing rcmdcheck ...                      OK [installed binary and cached in 0.49s]\n",
            "- Installing remotes ...                        OK [installed binary and cached in 0.41s]\n",
            "- Installing brew ...                           OK [installed binary and cached in 0.4s]\n",
            "- Installing roxygen2 ...                       OK [installed binary and cached in 0.7s]\n",
            "- Installing rversions ...                      OK [installed binary and cached in 0.39s]\n",
            "- Installing praise ...                         OK [installed binary and cached in 0.37s]\n",
            "- Installing diffobj ...                        OK [installed binary and cached in 0.57s]\n",
            "- Installing rematch2 ...                       OK [installed binary and cached in 0.67s]\n",
            "- Installing waldo ...                          OK [installed binary and cached in 0.53s]\n",
            "- Installing testthat ...                       OK [installed binary and cached in 0.7s]\n",
            "- Installing urlchecker ...                     OK [installed binary and cached in 0.39s]\n",
            "- Installing clipr ...                          OK [installed binary and cached in 0.4s]\n",
            "- Installing credentials ...                    OK [installed binary and cached in 0.74s]\n",
            "- Installing rstudioapi ...                     OK [installed binary and cached in 0.45s]\n",
            "- Installing zip ...                            OK [installed binary and cached in 0.45s]\n",
            "- Installing gert ...                           OK [installed binary and cached in 0.8s]\n",
            "- Installing gitcreds ...                       OK [installed binary and cached in 0.36s]\n",
            "- Installing httr2 ...                          OK [installed binary and cached in 0.6s]\n",
            "- Installing ini ...                            OK [installed binary and cached in 0.35s]\n",
            "- Installing gh ...                             OK [installed binary and cached in 0.51s]\n",
            "- Installing usethis ...                        OK [installed binary and cached in 0.71s]\n",
            "- Installing devtools ...                       OK [installed binary and cached in 1.3s]\n",
            "\n",
            "Successfully installed 71 packages in 42 seconds.\n"
          ]
        }
      ]
    },
    {
      "cell_type": "code",
      "source": [
        "library(rstan)\n",
        "library(bayesplot)\n",
        "library(ggplot2)\n",
        "library(doParallel)\n",
        "library(devtools)\n",
        "Sys.setenv(PATH = paste(\"C:/rtools40/mingw64/bin/\", Sys.getenv(\"PATH\"), sep=\";\"))\n",
        "Sys.setenv(BINPREF = \"C:/rtools40/mingw64/bin/\")"
      ],
      "metadata": {
        "colab": {
          "base_uri": "https://localhost:8080/"
        },
        "id": "PDkcr3W-ZWwk",
        "outputId": "f149c7ea-5737-4cd4-f8fc-e53871aba1fe"
      },
      "execution_count": null,
      "outputs": [
        {
          "output_type": "stream",
          "name": "stderr",
          "text": [
            "Loading required package: StanHeaders\n",
            "\n",
            "Loading required package: ggplot2\n",
            "\n",
            "rstan (Version 2.21.8, GitRev: 2e1f913d3ca3)\n",
            "\n",
            "For execution on a local, multicore CPU with excess RAM we recommend calling\n",
            "options(mc.cores = parallel::detectCores()).\n",
            "To avoid recompilation of unchanged Stan programs, we recommend calling\n",
            "rstan_options(auto_write = TRUE)\n",
            "\n",
            "This is bayesplot version 1.10.0\n",
            "\n",
            "- Online documentation and vignettes at mc-stan.org/bayesplot\n",
            "\n",
            "- bayesplot theme set to bayesplot::theme_default()\n",
            "\n",
            "   * Does _not_ affect other ggplot2 plots\n",
            "\n",
            "   * See ?bayesplot_theme_set for details on theme setting\n",
            "\n",
            "Loading required package: foreach\n",
            "\n",
            "Loading required package: iterators\n",
            "\n",
            "Loading required package: parallel\n",
            "\n",
            "Loading required package: usethis\n",
            "\n"
          ]
        }
      ]
    },
    {
      "cell_type": "code",
      "source": [],
      "metadata": {
        "id": "QRECUXKl92mN"
      },
      "execution_count": null,
      "outputs": []
    },
    {
      "cell_type": "code",
      "execution_count": null,
      "metadata": {
        "colab": {
          "base_uri": "https://localhost:8080/",
          "height": 34
        },
        "id": "xBQIf5fUYoU2",
        "outputId": "3277d5fd-e05b-48e3-90b0-26e73a7340e7"
      },
      "outputs": [
        {
          "output_type": "display_data",
          "data": {
            "text/html": [
              "4"
            ],
            "text/markdown": "4",
            "text/latex": "4",
            "text/plain": [
              "[1] 4"
            ]
          },
          "metadata": {}
        }
      ],
      "source": [
        "rstan_options(auto_write=TRUE)\n",
        "options(mc.cores=parallel::detectCores())\n",
        "registerDoParallel(4)\n",
        "getDoParWorkers()"
      ]
    },
    {
      "cell_type": "markdown",
      "metadata": {
        "id": "sTt82vBzYoU3"
      },
      "source": [
        "### Define a function to prepare the parameters and data for further Bayesian analysis"
      ]
    },
    {
      "cell_type": "code",
      "execution_count": null,
      "metadata": {
        "id": "GFfPcl9iYoU3"
      },
      "outputs": [],
      "source": [
        "getpara<-function(filename=NULL,names.mk=NULL){\n",
        "          data.mk<-read.csv(filename)\n",
        "          names.study<-unique(fixlen.str(data.mk$Study))\n",
        "          hash.study<-1:length(names.study)\n",
        "          names(hash.study)<-names.study\n",
        "          hash.mk<-1:length(names.mk)\n",
        "          names(hash.mk)<-names.mk\n",
        "          para<-data.frame(study.names=fixlen.str(data.mk$Study),\n",
        "          Study=array(hash.study[as.character(fixlen.str(data.mk$Study))]),\n",
        "                      TP=round(data.mk$Case*data.mk$Sensitivity),\n",
        "                      TN=round(data.mk$Control*data.mk$Specificity),\n",
        "                      Dis=data.mk$Case,\n",
        "                      NDis=data.mk$Control,\n",
        "                      Test=array(hash.mk[as.character(data.mk$Marker)]))\n",
        "    return(list(para=para,data=data.mk))\n",
        "  }\n"
      ]
    },
    {
      "cell_type": "markdown",
      "metadata": {
        "id": "j8FuM0DTYoU3"
      },
      "source": [
        "### Define a function to get the upper and lower credible bound (97.5%)"
      ]
    },
    {
      "cell_type": "code",
      "execution_count": null,
      "metadata": {
        "id": "iS7T8Gd4YoU4"
      },
      "outputs": [],
      "source": [
        "get.ub.95<-function(x){\n",
        "            y=sort(x)\n",
        "            len=length(x)\n",
        "            return(y[round(len*0.975)])\n",
        "  }\n",
        "\n",
        "get.lb.95<-function(x){\n",
        "            y=sort(x)\n",
        "            len=length(x)\n",
        "            return(y[round(len*0.025)])\n",
        "  }"
      ]
    },
    {
      "cell_type": "markdown",
      "metadata": {
        "id": "NyKFZv_jYoU4"
      },
      "source": [
        "### Define a function to get the results from Network Meta-analysis"
      ]
    },
    {
      "cell_type": "code",
      "execution_count": null,
      "metadata": {
        "id": "zTKtcFYkYoU5"
      },
      "outputs": [],
      "source": [
        "get.nma<-function(data.ls=NULL,mk.names=NULL,n.study=1,conf=95){\n",
        "\t        data.nma<-data.ls$data.nma\n",
        "\t        func.ub<-NULL\n",
        "        \tfunc.lb<-NULL\n",
        "\t        if(conf==95){\n",
        "\t\t             func.ub<-get.ub.95\n",
        "\t\t             func.lb<-get.lb.95\n",
        "\t        } else if(conf==90){\n",
        "\t\t                  func.ub<-get.ub.90\n",
        "\t\t                  func.lb<-get.lb.90\n",
        "\t        }\n",
        "\t        data.nma.muse<-data.nma[paste('MU[',1,',',1:length(data.ls$mk),']',sep='')]\n",
        "\t        data.nma.musp<-data.nma[paste('MU[',2,',',1:length(data.ls$mk),']',sep='')]\n",
        "\t        data.nma.rrse<-data.nma[paste('RR[',1,',',1:length(data.ls$mk),']',sep='')]\n",
        "\t        data.nma.rrsp<-data.nma[paste('RR[',2,',',1:length(data.ls$mk),']',sep='')]\n",
        "\t        data.nma.orse<-data.nma[paste('OR[',1,',',1:length(data.ls$mk),']',sep='')]\n",
        "\t        data.nma.orsp<-data.nma[paste('OR[',2,',',1:length(data.ls$mk),']',sep='')]\n",
        "\t        data.nma.dor<-data.nma[paste('DOR[',1:length(data.ls$mk),']',sep='')]\n",
        "          data.nma.sindex<-data.nma[paste('S[',1:length(data.ls$mk),']',sep='')]\n",
        "          data.nma.sindex_se<-data.nma[paste('S_se[',1:length(data.ls$mk),']',sep='')]\n",
        "          data.nma.sindex_sp<-data.nma[paste('S_sp[',1:length(data.ls$mk),']',sep='')]\n",
        "\t        mu.info<-data.frame(mean_sp=array(unlist(lapply(data.nma.musp,mean))),\n",
        "\t                         ub_sp=array(unlist(lapply(data.nma.musp,func.ub))),\n",
        "\t                         lb_sp=array(unlist(lapply(data.nma.musp,func.lb))),\n",
        "\t                         mean_se=array(unlist(lapply(data.nma.muse,mean))),\n",
        "\t                         ub_se=array(unlist(lapply(data.nma.muse,func.ub))),\n",
        "\t                         lb_se=array(unlist(lapply(data.nma.muse,func.lb))))\n",
        "\t        rr.info<-data.frame(mean_sp=array(unlist(lapply(data.nma.rrsp,mean))),\n",
        "\t                         ub_sp=array(unlist(lapply(data.nma.rrsp,func.ub))),\n",
        "\t                         lb_sp=array(unlist(lapply(data.nma.rrsp,func.lb))),\n",
        "\t                         mean_se=array(unlist(lapply(data.nma.rrse,mean))),\n",
        "\t                         ub_se=array(unlist(lapply(data.nma.rrse,func.ub))),\n",
        "\t                         lb_se=array(unlist(lapply(data.nma.rrse,func.lb))))\n",
        "\t        or.info<-data.frame(mean_sp=array(unlist(lapply(data.nma.orsp,mean))),\n",
        "\t                         ub_sp=array(unlist(lapply(data.nma.orsp,func.ub))),\n",
        "\t                         lb_sp=array(unlist(lapply(data.nma.orsp,func.lb))),\n",
        "\t                         mean_se=array(unlist(lapply(data.nma.orse,mean))),\n",
        "\t                         ub_se=array(unlist(lapply(data.nma.orse,func.ub))),\n",
        "\t                         lb_se=array(unlist(lapply(data.nma.orse,func.lb))))\n",
        "\t        dor.info<-data.frame(mean=array(unlist(lapply(data.nma.dor,mean))),\n",
        "\t                        ub=array(unlist(lapply(data.nma.dor,func.ub))),\n",
        "\t                        lb=array(unlist(lapply(data.nma.dor,func.lb))))\n",
        "          sindex.info<-data.frame(mean=array(unlist(lapply(data.nma.sindex,mean))),\n",
        "\t                          ub=array(unlist(lapply(data.nma.sindex,func.ub))),\n",
        "\t                          lb=array(unlist(lapply(data.nma.sindex,func.lb))))\n",
        "          sindex_se.info<-data.frame(mean=array(unlist(lapply(data.nma.sindex_se,mean))),\n",
        "\t                           ub=array(unlist(lapply(data.nma.sindex_se,func.ub))),\n",
        "\t                           lb=array(unlist(lapply(data.nma.sindex_se,func.lb))))\n",
        "          sindex_sp.info<-data.frame(mean=array(unlist(lapply(data.nma.sindex_sp,mean))),\n",
        "\t                           ub=array(unlist(lapply(data.nma.sindex_sp,func.ub))),\n",
        "\t                           lb=array(unlist(lapply(data.nma.sindex_sp,func.lb))))\n",
        "\t        results.nma<-list(marker=mk.names[mk.names %in% data.ls$mk],\n",
        "\t                 mu=mu.info,\n",
        "\t                 rr=rr.info,\n",
        "\t                 or=or.info,\n",
        "\t                 dor=dor.info,\n",
        "                   sindex=sindex.info,\n",
        "                   sindex_se=sindex_se.info,\n",
        "                   sindex_sp=sindex_sp.info)\n",
        "\t   return(results.nma)\n",
        "}"
      ]
    },
    {
      "cell_type": "markdown",
      "metadata": {
        "id": "4jWSr8TyYoU7"
      },
      "source": [
        "### Define a function to extract results from analysis"
      ]
    },
    {
      "cell_type": "code",
      "execution_count": null,
      "metadata": {
        "id": "JV4AsEZ3YoU7"
      },
      "outputs": [],
      "source": [
        "fixlen.str<-function(string.arr=NULL){\n",
        "                   max.len<-max(nchar(as.character(string.arr)))\n",
        "\t                 rule<-paste('% -',as.character(max.len),'s',sep='')\n",
        "\t                 string.arr.fix<-sprintf(rule,string.arr)\n",
        "\t                 return(string.arr.fix)\n",
        "}\n",
        "fit.extract<-function(fit.data=NULL,filename.save=NULL){\n",
        "\t                          results.sum<-summary(fit.data)[[1]]\n",
        "\t                          results.simdata<-fit.data@sim$samples[[1]]\n",
        "\t                          save(results.sum,results.simdata,file=filename.save)\n",
        "\t                          return(results.simdata)\n",
        "}"
      ]
    },
    {
      "cell_type": "markdown",
      "metadata": {
        "id": "Hlonp9MWYoU8"
      },
      "source": [
        "##########################################################\n",
        "###  Network Meta-analysis (stan code)\n",
        "##########################################################"
      ]
    },
    {
      "cell_type": "code",
      "execution_count": null,
      "metadata": {
        "id": "VnQstLOmYoU8"
      },
      "outputs": [],
      "source": [
        "stan.code.nma<-'\n",
        "data{\n",
        "   int N;  //number of comparison??? - 121\n",
        "   int Nt; //number of test - 10\n",
        "   int Ns; //number of study - 72\n",
        "   int TP[N];\n",
        "   int Dis[N];  //diseased\n",
        "   int TN[N];\n",
        "   int NDis[N]; //non-diseased\n",
        "   int Study[N];\n",
        "   int Test[N];\n",
        "}\n",
        "parameters{\n",
        "      matrix[2, Nt] logitmu;\n",
        "      vector[Ns] nu[2];\n",
        "      matrix[Ns, Nt] delta[2];\n",
        "      vector<lower=0>[Nt] tau[2]; //*\n",
        "      vector<lower=0>[2] sigmab;\n",
        "      real<lower=-1, upper=1> rho;\n",
        "}\n",
        "transformed parameters{\n",
        "             matrix[Ns, 2] p_i[Nt];\n",
        "             matrix[2, Nt] MU;\n",
        "             matrix[2, Nt] RR;\n",
        "             matrix[2, Nt] OR;\n",
        "             vector[Nt] DOR;\n",
        "             vector[Nt] S;\n",
        "             vector[Nt] S_se;\n",
        "             vector[Nt] S_sp;\n",
        "             matrix[Nt, Nt] A;\n",
        "             matrix[Nt, Nt] B;\n",
        "             matrix[Nt, Nt] C;\n",
        "             matrix[Nt, Nt] A_se;\n",
        "             matrix[Nt, Nt] B_se;\n",
        "             matrix[Nt, Nt] C_se;\n",
        "             matrix[Nt, Nt] A_sp;\n",
        "             matrix[Nt, Nt] B_sp;\n",
        "             matrix[Nt, Nt] C_sp;\n",
        "             vector<lower=0>[Nt] tausq[2];\n",
        "             vector<lower=0>[2] sigmabsq;\n",
        "             matrix[Nt, Nt] sigmasq[2];\n",
        "             matrix[Nt, Nt] rhow[2];\n",
        "\n",
        "    for (i in 1:Ns){\n",
        "        for (j in 1:2){\n",
        "            for (k in 1:Nt)\n",
        "                      p_i[k][i,j] = inv_logit(logitmu[j,k] +  nu[j][i] + delta[j][i,k]);\n",
        "        }\n",
        "    }\n",
        "\n",
        "    for (j in 1:2){\n",
        "        for (k in 1:Nt){\n",
        "                  MU[j,k] = mean(col(p_i[k], j));\n",
        "        }\n",
        "        tausq[j] = (tau[j]).*(tau[j]);\n",
        "    }\n",
        "\n",
        "    for (j in 1:2){\n",
        "        for (k in 1:Nt){\n",
        "                  RR[j, k] = MU[j, k]/MU[j, 1];\n",
        "                  OR[j, k] = (MU[j, k]*(1 - MU[j, 1]))/(MU[j, 1]*(1 - MU[j, k]));\n",
        "         }\n",
        "    }\n",
        "\n",
        "    for (l in 1:Nt){\n",
        "              DOR[l] = (MU[1, l]*MU[2, l])/((1 - MU[1, l])*(1 - MU[2, l]));\n",
        "\n",
        "        for(m in 1:Nt){\n",
        "                 A[l, m] = if_else((MU[1, l] > MU[1, m]) && (MU[2, l] > MU[2, m]), 1, 0);\n",
        "                 B[l, m] = if_else((MU[1, l] < MU[1, m]) && (MU[2, l] < MU[2, m]), 1, 0);\n",
        "                 C[l, m] = if_else((MU[1, l] == MU[1, m]) && (MU[2, l] == MU[2, m]), 1, 0);\n",
        "\n",
        "                 A_se[l, m] = if_else((MU[1, l] > MU[1, m]), 1, 0);\n",
        "                 B_se[l, m] = if_else((MU[1, l] < MU[1, m]), 1, 0);\n",
        "                 C_se[l, m] = if_else((MU[1, l] == MU[1, m]), 1, 0);\n",
        "\n",
        "                 A_sp[l, m] = if_else((MU[2, l] > MU[2, m]), 1, 0);\n",
        "                 B_sp[l, m] = if_else((MU[2, l] < MU[2, m]), 1, 0);\n",
        "                 C_sp[l, m] = if_else((MU[2, l] == MU[2, m]), 1, 0);\n",
        "        }\n",
        "\n",
        "        S[l] = (2*sum(row(A, l)) + sum(row(C, l)))/(2*sum(row(B, l)) + sum(row(C, l)));\n",
        "        S_se[l] = (2*sum(row(A_se, l)) + sum(row(C_se, l)))/(2*sum(row(B_se, l)) + sum(row(C_se, l)));\n",
        "        S_sp[l] = (2*sum(row(A_sp, l)) + sum(row(C_sp, l)))/(2*sum(row(B_sp, l)) + sum(row(C_sp, l)));\n",
        "    }\n",
        "\n",
        "    sigmabsq = (sigmab).*(sigmab);\n",
        "\n",
        "    for (j in 1:2){\n",
        "        for (k in 1:Nt){\n",
        "            for (l in 1:Nt){\n",
        "                      sigmasq[j][k,l] = (sigmabsq[j] + tausq[j][k])*((sigmabsq[j] + tausq[j][l]));\n",
        "                      rhow[j][k,l] = sigmabsq[j]/sqrt(sigmasq[j][k,l]);\n",
        "            }\n",
        "        }\n",
        "    }\n",
        "\n",
        "}\n",
        "model{\n",
        "\t   //Priors\n",
        "       for (j in 1:2){\n",
        "                 logitmu[j] ~ normal(0, 5);\n",
        "\t\t             tau[j] ~ cauchy(0, 2.5);\n",
        "       }\n",
        "\n",
        "        sigmab ~ cauchy(0, 2.5);\n",
        "\t      rho ~ uniform(-1, 1);\n",
        "        nu[2] ~ normal(0, sigmab[2]);\n",
        "\n",
        "       for (i in 1:Ns){\n",
        "                 nu[1][i] ~ normal((sigmab[1]/sigmab[2])*rho*nu[2][i], sqrt(sigmabsq[1]*(1 - (rho*rho))));\n",
        "          for (j in 1:2){\n",
        "              for (k in 1:Nt)\n",
        "                        delta[j][i,k] ~ normal(0, tau[j][k]);\n",
        "        }\n",
        "    }\n",
        "\n",
        "    for (n in 1:N){\n",
        "              TP[n] ~ binomial(Dis[n], p_i[Test[n]][Study[n], 1]);\n",
        "              TN[n] ~ binomial(NDis[n], p_i[Test[n]][Study[n], 2]);\n",
        "    }\n",
        "\n",
        "}\n",
        "generated quantities{\n",
        "\n",
        "    vector[2*N] loglik;\n",
        "\n",
        "    for (n in 1:N)\n",
        "             loglik[n] = binomial_lpmf(TN[n]| NDis[n], p_i[Test[n]][Study[n], 1]);\n",
        "\n",
        "    for (n in (N+1):(2*N))\n",
        "             loglik[n] = binomial_lpmf(TN[n-N]| NDis[n-N], p_i[Test[n-N]][Study[n-N], 2]);\n",
        "\n",
        "}\n",
        "'"
      ]
    },
    {
      "cell_type": "markdown",
      "metadata": {
        "id": "efD8IVzzYoU9"
      },
      "source": [
        "### Lists of Biomarkers in network meta-analysis"
      ]
    },
    {
      "cell_type": "code",
      "execution_count": null,
      "metadata": {
        "id": "-CQiwtUdYoU-"
      },
      "outputs": [],
      "source": [
        "mk.names=c('qSOFA','PCT','presepsin','CRP','CD64','IL-6','sTREM-1','LBP','SIRS','SOFA')"
      ]
    },
    {
      "cell_type": "markdown",
      "metadata": {
        "id": "Nbi-bZCHYoU-"
      },
      "source": [
        "### Data set to used"
      ]
    },
    {
      "cell_type": "code",
      "execution_count": null,
      "metadata": {
        "id": "d7ZVaEadYoU-"
      },
      "outputs": [],
      "source": [
        "filename<-'https://raw.githubusercontent.com/wujinja-cgu/Network-meta-analysis-and-meta-regression-of-diagnostic-tests/main/Sepsis_nma_data.csv'"
      ]
    },
    {
      "cell_type": "markdown",
      "metadata": {
        "id": "W94syBLdYoU_"
      },
      "source": [
        "### Parameters lists"
      ]
    },
    {
      "cell_type": "code",
      "execution_count": null,
      "metadata": {
        "id": "9CHdPlS9YoU_"
      },
      "outputs": [],
      "source": [
        "para.ls<-getpara(filename=filename,names.mk=mk.names)\n",
        "para<-para.ls$para\n",
        "data<-para.ls$data"
      ]
    },
    {
      "cell_type": "markdown",
      "metadata": {
        "id": "At2cvaCNYoU_"
      },
      "source": [
        "### Prepare data for Network Meta-analysis"
      ]
    },
    {
      "cell_type": "code",
      "execution_count": null,
      "metadata": {
        "id": "5WeFERCYYoU_"
      },
      "outputs": [],
      "source": [
        "para.as.ls.nma<-list(N=nrow(para),\n",
        "           Nt=length(unique(para$Test)),\n",
        "           Ns=length(unique(para$Study)),\n",
        "           TP=para$TP,\n",
        "           Dis=para$Dis,\n",
        "           TN=para$TN,\n",
        "           NDis=para$NDis,\n",
        "           Study=as.numeric(para$Study),\n",
        "           Test=para$Test)"
      ]
    },
    {
      "cell_type": "markdown",
      "metadata": {
        "id": "u39xVIdzYoU_"
      },
      "source": [
        "### Compiling model"
      ]
    },
    {
      "cell_type": "code",
      "execution_count": null,
      "metadata": {
        "colab": {
          "base_uri": "https://localhost:8080/"
        },
        "id": "vBJMrUZxYoU_",
        "outputId": "9238d6f1-fd2f-4148-c6c3-79bdee47f512"
      },
      "outputs": [
        {
          "output_type": "stream",
          "name": "stderr",
          "text": [
            "Warning message:\n",
            "“There were 2 divergent transitions after warmup. See\n",
            "https://mc-stan.org/misc/warnings.html#divergent-transitions-after-warmup\n",
            "to find out why this is a problem and how to eliminate them.”\n",
            "Warning message:\n",
            "“There were 1 chains where the estimated Bayesian Fraction of Missing Information was low. See\n",
            "https://mc-stan.org/misc/warnings.html#bfmi-low”\n",
            "Warning message:\n",
            "“Examine the pairs() plot to diagnose sampling problems\n",
            "”\n"
          ]
        }
      ],
      "source": [
        "stan.model.nma<-stan(model_code=stan.code.nma,\n",
        "           data=para.as.ls.nma,\n",
        "           iter=1,\n",
        "           warmup=0,\n",
        "           chains=2)"
      ]
    },
    {
      "cell_type": "markdown",
      "metadata": {
        "id": "EddwMv9jYoVA"
      },
      "source": [
        "### Running model"
      ]
    },
    {
      "cell_type": "code",
      "execution_count": null,
      "metadata": {
        "colab": {
          "base_uri": "https://localhost:8080/",
          "height": 362
        },
        "id": "y3M4vTVGYoVA",
        "outputId": "8636e0f2-6634-41af-9f17-346409436731"
      },
      "outputs": [
        {
          "output_type": "stream",
          "name": "stderr",
          "text": [
            "Warning message:\n",
            "“There were 4 chains where the estimated Bayesian Fraction of Missing Information was low. See\n",
            "https://mc-stan.org/misc/warnings.html#bfmi-low”\n",
            "Warning message:\n",
            "“Examine the pairs() plot to diagnose sampling problems\n",
            "”\n",
            "Warning message:\n",
            "“The largest R-hat is NA, indicating chains have not mixed.\n",
            "Running the chains for more iterations may help. See\n",
            "https://mc-stan.org/misc/warnings.html#r-hat”\n",
            "Warning message:\n",
            "“Bulk Effective Samples Size (ESS) is too low, indicating posterior means and medians may be unreliable.\n",
            "Running the chains for more iterations may help. See\n",
            "https://mc-stan.org/misc/warnings.html#bulk-ess”\n",
            "Warning message:\n",
            "“Tail Effective Samples Size (ESS) is too low, indicating posterior variances and tail quantiles may be unreliable.\n",
            "Running the chains for more iterations may help. See\n",
            "https://mc-stan.org/misc/warnings.html#tail-ess”\n"
          ]
        },
        {
          "output_type": "display_data",
          "data": {
            "text/plain": [
              "Time difference of 17.56225 mins"
            ]
          },
          "metadata": {}
        }
      ],
      "source": [
        "start_time <- Sys.time()\n",
        "fit.nma<-stan(fit=stan.model.nma,\n",
        "              data=para.as.ls.nma,\n",
        "              iter=200,\n",
        "              chains=4,\n",
        "              cores=4,\n",
        "              control=list(adapt_delta=0.99,\n",
        "                           stepsize=0.01,\n",
        "                           max_treedepth=17))\n",
        "end_time <- Sys.time()\n",
        "end_time - start_time"
      ]
    },
    {
      "cell_type": "markdown",
      "metadata": {
        "id": "CqRsXPyTYoVA"
      },
      "source": [
        "### Save the results as .RData and .csv"
      ]
    },
    {
      "cell_type": "code",
      "execution_count": null,
      "metadata": {
        "id": "SRl6FPKFYoVA"
      },
      "outputs": [],
      "source": [
        "filename.simdata.save<-'fit_nma_simdata_qSOFAasreference.RData'\n",
        "filename.results.save<-'out_nma_sepsis3_qSOFAasreference.csv'\n",
        "results.nma<-fit.extract(fit.data=fit.nma,filename.save=filename.simdata.save)\n",
        "results.nma.95<-get.nma(data.ls=list(mk=mk.names[unique(para$Test)],\n",
        "                                         data.nma=results.nma),mk.names=mk.names,\n",
        "                            conf=95)\n",
        "write.csv(results.nma.95,filename.results.save)"
      ]
    },
    {
      "cell_type": "markdown",
      "metadata": {
        "id": "SyTxYrdmYoVA"
      },
      "source": [
        "### Print the results of pooled sensitivity and specificity from Network Meta-analysis"
      ]
    },
    {
      "cell_type": "code",
      "execution_count": null,
      "metadata": {
        "colab": {
          "base_uri": "https://localhost:8080/",
          "height": 411
        },
        "id": "TpyodoAYYoVA",
        "outputId": "04a67ef4-5c3c-4bea-f1f0-9bf37cd912e1"
      },
      "outputs": [
        {
          "output_type": "display_data",
          "data": {
            "text/html": [
              "<table class=\"dataframe\">\n",
              "<caption>A data.frame: 10 × 6</caption>\n",
              "<thead>\n",
              "\t<tr><th></th><th scope=col>mean_sp</th><th scope=col>ub_sp</th><th scope=col>lb_sp</th><th scope=col>mean_se</th><th scope=col>ub_se</th><th scope=col>lb_se</th></tr>\n",
              "\t<tr><th></th><th scope=col>&lt;dbl&gt;</th><th scope=col>&lt;dbl&gt;</th><th scope=col>&lt;dbl&gt;</th><th scope=col>&lt;dbl&gt;</th><th scope=col>&lt;dbl&gt;</th><th scope=col>&lt;dbl&gt;</th></tr>\n",
              "</thead>\n",
              "<tbody>\n",
              "\t<tr><th scope=row>qSOFA</th><td>0.8108337</td><td>0.9752205</td><td>0.4169209</td><td>0.3652054</td><td>0.6226168</td><td>0.1502642</td></tr>\n",
              "\t<tr><th scope=row>PCT</th><td>0.7457838</td><td>0.7787765</td><td>0.7209262</td><td>0.7321883</td><td>0.7591662</td><td>0.6975057</td></tr>\n",
              "\t<tr><th scope=row>presepsin</th><td>0.7225757</td><td>0.7925544</td><td>0.6353709</td><td>0.7890475</td><td>0.8526443</td><td>0.6949692</td></tr>\n",
              "\t<tr><th scope=row>CRP</th><td>0.6922244</td><td>0.7412481</td><td>0.6023845</td><td>0.6768215</td><td>0.7158947</td><td>0.6233629</td></tr>\n",
              "\t<tr><th scope=row>CD64</th><td>0.7899123</td><td>0.9169901</td><td>0.5975382</td><td>0.7927140</td><td>0.9287771</td><td>0.5122726</td></tr>\n",
              "\t<tr><th scope=row>IL-6</th><td>0.7453952</td><td>0.8327502</td><td>0.5845577</td><td>0.7072184</td><td>0.7842695</td><td>0.5855139</td></tr>\n",
              "\t<tr><th scope=row>sTREM-1</th><td>0.6398267</td><td>0.9301467</td><td>0.2244031</td><td>0.5104235</td><td>0.7316838</td><td>0.1376613</td></tr>\n",
              "\t<tr><th scope=row>LBP</th><td>0.5921977</td><td>0.8140960</td><td>0.3126832</td><td>0.6375726</td><td>0.8177326</td><td>0.4000812</td></tr>\n",
              "\t<tr><th scope=row>SIRS</th><td>0.5137728</td><td>0.6676873</td><td>0.3668140</td><td>0.7475128</td><td>0.8779292</td><td>0.5584685</td></tr>\n",
              "\t<tr><th scope=row>SOFA</th><td>0.8176703</td><td>0.9013496</td><td>0.6107001</td><td>0.5713457</td><td>0.6879630</td><td>0.4445756</td></tr>\n",
              "</tbody>\n",
              "</table>\n"
            ],
            "text/markdown": "\nA data.frame: 10 × 6\n\n| <!--/--> | mean_sp &lt;dbl&gt; | ub_sp &lt;dbl&gt; | lb_sp &lt;dbl&gt; | mean_se &lt;dbl&gt; | ub_se &lt;dbl&gt; | lb_se &lt;dbl&gt; |\n|---|---|---|---|---|---|---|\n| qSOFA | 0.8108337 | 0.9752205 | 0.4169209 | 0.3652054 | 0.6226168 | 0.1502642 |\n| PCT | 0.7457838 | 0.7787765 | 0.7209262 | 0.7321883 | 0.7591662 | 0.6975057 |\n| presepsin | 0.7225757 | 0.7925544 | 0.6353709 | 0.7890475 | 0.8526443 | 0.6949692 |\n| CRP | 0.6922244 | 0.7412481 | 0.6023845 | 0.6768215 | 0.7158947 | 0.6233629 |\n| CD64 | 0.7899123 | 0.9169901 | 0.5975382 | 0.7927140 | 0.9287771 | 0.5122726 |\n| IL-6 | 0.7453952 | 0.8327502 | 0.5845577 | 0.7072184 | 0.7842695 | 0.5855139 |\n| sTREM-1 | 0.6398267 | 0.9301467 | 0.2244031 | 0.5104235 | 0.7316838 | 0.1376613 |\n| LBP | 0.5921977 | 0.8140960 | 0.3126832 | 0.6375726 | 0.8177326 | 0.4000812 |\n| SIRS | 0.5137728 | 0.6676873 | 0.3668140 | 0.7475128 | 0.8779292 | 0.5584685 |\n| SOFA | 0.8176703 | 0.9013496 | 0.6107001 | 0.5713457 | 0.6879630 | 0.4445756 |\n\n",
            "text/latex": "A data.frame: 10 × 6\n\\begin{tabular}{r|llllll}\n  & mean\\_sp & ub\\_sp & lb\\_sp & mean\\_se & ub\\_se & lb\\_se\\\\\n  & <dbl> & <dbl> & <dbl> & <dbl> & <dbl> & <dbl>\\\\\n\\hline\n\tqSOFA & 0.8108337 & 0.9752205 & 0.4169209 & 0.3652054 & 0.6226168 & 0.1502642\\\\\n\tPCT & 0.7457838 & 0.7787765 & 0.7209262 & 0.7321883 & 0.7591662 & 0.6975057\\\\\n\tpresepsin & 0.7225757 & 0.7925544 & 0.6353709 & 0.7890475 & 0.8526443 & 0.6949692\\\\\n\tCRP & 0.6922244 & 0.7412481 & 0.6023845 & 0.6768215 & 0.7158947 & 0.6233629\\\\\n\tCD64 & 0.7899123 & 0.9169901 & 0.5975382 & 0.7927140 & 0.9287771 & 0.5122726\\\\\n\tIL-6 & 0.7453952 & 0.8327502 & 0.5845577 & 0.7072184 & 0.7842695 & 0.5855139\\\\\n\tsTREM-1 & 0.6398267 & 0.9301467 & 0.2244031 & 0.5104235 & 0.7316838 & 0.1376613\\\\\n\tLBP & 0.5921977 & 0.8140960 & 0.3126832 & 0.6375726 & 0.8177326 & 0.4000812\\\\\n\tSIRS & 0.5137728 & 0.6676873 & 0.3668140 & 0.7475128 & 0.8779292 & 0.5584685\\\\\n\tSOFA & 0.8176703 & 0.9013496 & 0.6107001 & 0.5713457 & 0.6879630 & 0.4445756\\\\\n\\end{tabular}\n",
            "text/plain": [
              "          mean_sp   ub_sp     lb_sp     mean_se   ub_se     lb_se    \n",
              "qSOFA     0.8108337 0.9752205 0.4169209 0.3652054 0.6226168 0.1502642\n",
              "PCT       0.7457838 0.7787765 0.7209262 0.7321883 0.7591662 0.6975057\n",
              "presepsin 0.7225757 0.7925544 0.6353709 0.7890475 0.8526443 0.6949692\n",
              "CRP       0.6922244 0.7412481 0.6023845 0.6768215 0.7158947 0.6233629\n",
              "CD64      0.7899123 0.9169901 0.5975382 0.7927140 0.9287771 0.5122726\n",
              "IL-6      0.7453952 0.8327502 0.5845577 0.7072184 0.7842695 0.5855139\n",
              "sTREM-1   0.6398267 0.9301467 0.2244031 0.5104235 0.7316838 0.1376613\n",
              "LBP       0.5921977 0.8140960 0.3126832 0.6375726 0.8177326 0.4000812\n",
              "SIRS      0.5137728 0.6676873 0.3668140 0.7475128 0.8779292 0.5584685\n",
              "SOFA      0.8176703 0.9013496 0.6107001 0.5713457 0.6879630 0.4445756"
            ]
          },
          "metadata": {}
        }
      ],
      "source": [
        "rownames(results.nma.95$mu)=c('qSOFA','PCT','presepsin','CRP','CD64','IL-6','sTREM-1','LBP','SIRS','SOFA')\n",
        "results.nma.95$mu"
      ]
    },
    {
      "cell_type": "markdown",
      "metadata": {
        "id": "4CZOUG03YoVB"
      },
      "source": [
        "### Print the results of pooled DOR from Network Meta-analysis"
      ]
    },
    {
      "cell_type": "code",
      "execution_count": null,
      "metadata": {
        "colab": {
          "base_uri": "https://localhost:8080/",
          "height": 411
        },
        "id": "3pULuZc7YoVB",
        "outputId": "5f9ed290-6ebe-4e8e-869b-fa7ac0c123e4"
      },
      "outputs": [
        {
          "output_type": "display_data",
          "data": {
            "text/html": [
              "<table class=\"dataframe\">\n",
              "<caption>A data.frame: 10 × 3</caption>\n",
              "<thead>\n",
              "\t<tr><th></th><th scope=col>mean</th><th scope=col>ub</th><th scope=col>lb</th></tr>\n",
              "\t<tr><th></th><th scope=col>&lt;dbl&gt;</th><th scope=col>&lt;dbl&gt;</th><th scope=col>&lt;dbl&gt;</th></tr>\n",
              "</thead>\n",
              "<tbody>\n",
              "\t<tr><th scope=row>qSOFA</th><td> 7.199387</td><td>30.186290</td><td>0.2337816</td></tr>\n",
              "\t<tr><th scope=row>PCT</th><td> 8.244554</td><td>10.134053</td><td>6.8237728</td></tr>\n",
              "\t<tr><th scope=row>presepsin</th><td>10.530337</td><td>16.396428</td><td>4.8670759</td></tr>\n",
              "\t<tr><th scope=row>CRP</th><td> 4.953500</td><td> 6.627300</td><td>3.0820180</td></tr>\n",
              "\t<tr><th scope=row>CD64</th><td>24.370267</td><td>80.351082</td><td>1.7576558</td></tr>\n",
              "\t<tr><th scope=row>IL-6</th><td> 8.125826</td><td>13.740402</td><td>3.1031175</td></tr>\n",
              "\t<tr><th scope=row>sTREM-1</th><td> 4.857427</td><td>11.991378</td><td>0.2571905</td></tr>\n",
              "\t<tr><th scope=row>LBP</th><td> 3.327949</td><td> 9.770250</td><td>0.6645058</td></tr>\n",
              "\t<tr><th scope=row>SIRS</th><td> 3.701749</td><td> 7.920629</td><td>1.1141231</td></tr>\n",
              "\t<tr><th scope=row>SOFA</th><td> 7.102831</td><td>14.478047</td><td>1.9638274</td></tr>\n",
              "</tbody>\n",
              "</table>\n"
            ],
            "text/markdown": "\nA data.frame: 10 × 3\n\n| <!--/--> | mean &lt;dbl&gt; | ub &lt;dbl&gt; | lb &lt;dbl&gt; |\n|---|---|---|---|\n| qSOFA |  7.199387 | 30.186290 | 0.2337816 |\n| PCT |  8.244554 | 10.134053 | 6.8237728 |\n| presepsin | 10.530337 | 16.396428 | 4.8670759 |\n| CRP |  4.953500 |  6.627300 | 3.0820180 |\n| CD64 | 24.370267 | 80.351082 | 1.7576558 |\n| IL-6 |  8.125826 | 13.740402 | 3.1031175 |\n| sTREM-1 |  4.857427 | 11.991378 | 0.2571905 |\n| LBP |  3.327949 |  9.770250 | 0.6645058 |\n| SIRS |  3.701749 |  7.920629 | 1.1141231 |\n| SOFA |  7.102831 | 14.478047 | 1.9638274 |\n\n",
            "text/latex": "A data.frame: 10 × 3\n\\begin{tabular}{r|lll}\n  & mean & ub & lb\\\\\n  & <dbl> & <dbl> & <dbl>\\\\\n\\hline\n\tqSOFA &  7.199387 & 30.186290 & 0.2337816\\\\\n\tPCT &  8.244554 & 10.134053 & 6.8237728\\\\\n\tpresepsin & 10.530337 & 16.396428 & 4.8670759\\\\\n\tCRP &  4.953500 &  6.627300 & 3.0820180\\\\\n\tCD64 & 24.370267 & 80.351082 & 1.7576558\\\\\n\tIL-6 &  8.125826 & 13.740402 & 3.1031175\\\\\n\tsTREM-1 &  4.857427 & 11.991378 & 0.2571905\\\\\n\tLBP &  3.327949 &  9.770250 & 0.6645058\\\\\n\tSIRS &  3.701749 &  7.920629 & 1.1141231\\\\\n\tSOFA &  7.102831 & 14.478047 & 1.9638274\\\\\n\\end{tabular}\n",
            "text/plain": [
              "          mean      ub        lb       \n",
              "qSOFA      7.199387 30.186290 0.2337816\n",
              "PCT        8.244554 10.134053 6.8237728\n",
              "presepsin 10.530337 16.396428 4.8670759\n",
              "CRP        4.953500  6.627300 3.0820180\n",
              "CD64      24.370267 80.351082 1.7576558\n",
              "IL-6       8.125826 13.740402 3.1031175\n",
              "sTREM-1    4.857427 11.991378 0.2571905\n",
              "LBP        3.327949  9.770250 0.6645058\n",
              "SIRS       3.701749  7.920629 1.1141231\n",
              "SOFA       7.102831 14.478047 1.9638274"
            ]
          },
          "metadata": {}
        }
      ],
      "source": [
        "rownames(results.nma.95$dor)=c('qSOFA','PCT','presepsin','CRP','CD64','IL-6','sTREM-1','LBP','SIRS','SOFA')\n",
        "results.nma.95$dor"
      ]
    },
    {
      "cell_type": "markdown",
      "metadata": {
        "id": "fMhCYCyqYoVB"
      },
      "source": [
        "### Print the results of pooled Superiority index from Network Meta-analysis"
      ]
    },
    {
      "cell_type": "code",
      "execution_count": null,
      "metadata": {
        "colab": {
          "base_uri": "https://localhost:8080/",
          "height": 411
        },
        "id": "1cyQTnsOYoVB",
        "outputId": "b5d732ad-2fc7-4e6d-e0be-b33c5855d6b2"
      },
      "outputs": [
        {
          "output_type": "display_data",
          "data": {
            "text/html": [
              "<table class=\"dataframe\">\n",
              "<caption>A data.frame: 10 × 3</caption>\n",
              "<thead>\n",
              "\t<tr><th></th><th scope=col>mean</th><th scope=col>ub</th><th scope=col>lb</th></tr>\n",
              "\t<tr><th></th><th scope=col>&lt;dbl&gt;</th><th scope=col>&lt;dbl&gt;</th><th scope=col>&lt;dbl&gt;</th></tr>\n",
              "</thead>\n",
              "<tbody>\n",
              "\t<tr><th scope=row>qSOFA</th><td> 1.0871836</td><td> 5.000000</td><td>0.05263158</td></tr>\n",
              "\t<tr><th scope=row>PCT</th><td> 4.0750476</td><td>11.000000</td><td>0.60000000</td></tr>\n",
              "\t<tr><th scope=row>presepsin</th><td> 6.1103810</td><td>15.000000</td><td>1.00000000</td></tr>\n",
              "\t<tr><th scope=row>CRP</th><td> 0.5913189</td><td> 1.666667</td><td>0.11111111</td></tr>\n",
              "\t<tr><th scope=row>CD64</th><td>10.7892525</td><td>19.000000</td><td>0.33333333</td></tr>\n",
              "\t<tr><th scope=row>IL-6</th><td> 3.8141416</td><td>13.000000</td><td>0.09090909</td></tr>\n",
              "\t<tr><th scope=row>sTREM-1</th><td> 0.6099468</td><td> 5.000000</td><td>0.05882353</td></tr>\n",
              "\t<tr><th scope=row>LBP</th><td> 0.6484169</td><td> 7.000000</td><td>0.06666667</td></tr>\n",
              "\t<tr><th scope=row>SIRS</th><td> 0.7936698</td><td> 3.000000</td><td>0.06666667</td></tr>\n",
              "\t<tr><th scope=row>SOFA</th><td> 2.6010856</td><td> 9.000000</td><td>0.14285714</td></tr>\n",
              "</tbody>\n",
              "</table>\n"
            ],
            "text/markdown": "\nA data.frame: 10 × 3\n\n| <!--/--> | mean &lt;dbl&gt; | ub &lt;dbl&gt; | lb &lt;dbl&gt; |\n|---|---|---|---|\n| qSOFA |  1.0871836 |  5.000000 | 0.05263158 |\n| PCT |  4.0750476 | 11.000000 | 0.60000000 |\n| presepsin |  6.1103810 | 15.000000 | 1.00000000 |\n| CRP |  0.5913189 |  1.666667 | 0.11111111 |\n| CD64 | 10.7892525 | 19.000000 | 0.33333333 |\n| IL-6 |  3.8141416 | 13.000000 | 0.09090909 |\n| sTREM-1 |  0.6099468 |  5.000000 | 0.05882353 |\n| LBP |  0.6484169 |  7.000000 | 0.06666667 |\n| SIRS |  0.7936698 |  3.000000 | 0.06666667 |\n| SOFA |  2.6010856 |  9.000000 | 0.14285714 |\n\n",
            "text/latex": "A data.frame: 10 × 3\n\\begin{tabular}{r|lll}\n  & mean & ub & lb\\\\\n  & <dbl> & <dbl> & <dbl>\\\\\n\\hline\n\tqSOFA &  1.0871836 &  5.000000 & 0.05263158\\\\\n\tPCT &  4.0750476 & 11.000000 & 0.60000000\\\\\n\tpresepsin &  6.1103810 & 15.000000 & 1.00000000\\\\\n\tCRP &  0.5913189 &  1.666667 & 0.11111111\\\\\n\tCD64 & 10.7892525 & 19.000000 & 0.33333333\\\\\n\tIL-6 &  3.8141416 & 13.000000 & 0.09090909\\\\\n\tsTREM-1 &  0.6099468 &  5.000000 & 0.05882353\\\\\n\tLBP &  0.6484169 &  7.000000 & 0.06666667\\\\\n\tSIRS &  0.7936698 &  3.000000 & 0.06666667\\\\\n\tSOFA &  2.6010856 &  9.000000 & 0.14285714\\\\\n\\end{tabular}\n",
            "text/plain": [
              "          mean       ub        lb        \n",
              "qSOFA      1.0871836  5.000000 0.05263158\n",
              "PCT        4.0750476 11.000000 0.60000000\n",
              "presepsin  6.1103810 15.000000 1.00000000\n",
              "CRP        0.5913189  1.666667 0.11111111\n",
              "CD64      10.7892525 19.000000 0.33333333\n",
              "IL-6       3.8141416 13.000000 0.09090909\n",
              "sTREM-1    0.6099468  5.000000 0.05882353\n",
              "LBP        0.6484169  7.000000 0.06666667\n",
              "SIRS       0.7936698  3.000000 0.06666667\n",
              "SOFA       2.6010856  9.000000 0.14285714"
            ]
          },
          "metadata": {}
        }
      ],
      "source": [
        "rownames(results.nma.95$sindex)=c('qSOFA','PCT','presepsin','CRP','CD64','IL-6','sTREM-1','LBP','SIRS','SOFA')\n",
        "results.nma.95$sindex"
      ]
    },
    {
      "cell_type": "markdown",
      "metadata": {
        "id": "buVwHqjGYoVB"
      },
      "source": [
        "### Print the results of pooled Superiority index for Sensitivity from Network Meta-analysis"
      ]
    },
    {
      "cell_type": "code",
      "execution_count": null,
      "metadata": {
        "colab": {
          "base_uri": "https://localhost:8080/",
          "height": 411
        },
        "id": "Jt4qzMBzYoVB",
        "outputId": "f9901311-1c81-4c91-859d-e156b2a29568"
      },
      "outputs": [
        {
          "output_type": "display_data",
          "data": {
            "text/html": [
              "<table class=\"dataframe\">\n",
              "<caption>A data.frame: 10 × 3</caption>\n",
              "<thead>\n",
              "\t<tr><th></th><th scope=col>mean</th><th scope=col>ub</th><th scope=col>lb</th></tr>\n",
              "\t<tr><th></th><th scope=col>&lt;dbl&gt;</th><th scope=col>&lt;dbl&gt;</th><th scope=col>&lt;dbl&gt;</th></tr>\n",
              "</thead>\n",
              "<tbody>\n",
              "\t<tr><th scope=row>qSOFA</th><td> 0.1309599</td><td> 0.5384615</td><td>0.05263158</td></tr>\n",
              "\t<tr><th scope=row>PCT</th><td> 2.4387879</td><td> 5.6666667</td><td>0.81818182</td></tr>\n",
              "\t<tr><th scope=row>presepsin</th><td> 8.4208813</td><td>19.0000000</td><td>0.81818182</td></tr>\n",
              "\t<tr><th scope=row>CRP</th><td> 0.8634226</td><td> 1.8571429</td><td>0.33333333</td></tr>\n",
              "\t<tr><th scope=row>CD64</th><td>10.6630632</td><td>19.0000000</td><td>0.33333333</td></tr>\n",
              "\t<tr><th scope=row>IL-6</th><td> 1.7876742</td><td> 5.6666667</td><td>0.17647059</td></tr>\n",
              "\t<tr><th scope=row>sTREM-1</th><td> 0.6566413</td><td> 3.0000000</td><td>0.05263158</td></tr>\n",
              "\t<tr><th scope=row>LBP</th><td> 1.4766411</td><td> 5.6666667</td><td>0.05263158</td></tr>\n",
              "\t<tr><th scope=row>SIRS</th><td> 5.8335534</td><td>19.0000000</td><td>0.33333333</td></tr>\n",
              "\t<tr><th scope=row>SOFA</th><td> 0.3934856</td><td> 1.2222222</td><td>0.17647059</td></tr>\n",
              "</tbody>\n",
              "</table>\n"
            ],
            "text/markdown": "\nA data.frame: 10 × 3\n\n| <!--/--> | mean &lt;dbl&gt; | ub &lt;dbl&gt; | lb &lt;dbl&gt; |\n|---|---|---|---|\n| qSOFA |  0.1309599 |  0.5384615 | 0.05263158 |\n| PCT |  2.4387879 |  5.6666667 | 0.81818182 |\n| presepsin |  8.4208813 | 19.0000000 | 0.81818182 |\n| CRP |  0.8634226 |  1.8571429 | 0.33333333 |\n| CD64 | 10.6630632 | 19.0000000 | 0.33333333 |\n| IL-6 |  1.7876742 |  5.6666667 | 0.17647059 |\n| sTREM-1 |  0.6566413 |  3.0000000 | 0.05263158 |\n| LBP |  1.4766411 |  5.6666667 | 0.05263158 |\n| SIRS |  5.8335534 | 19.0000000 | 0.33333333 |\n| SOFA |  0.3934856 |  1.2222222 | 0.17647059 |\n\n",
            "text/latex": "A data.frame: 10 × 3\n\\begin{tabular}{r|lll}\n  & mean & ub & lb\\\\\n  & <dbl> & <dbl> & <dbl>\\\\\n\\hline\n\tqSOFA &  0.1309599 &  0.5384615 & 0.05263158\\\\\n\tPCT &  2.4387879 &  5.6666667 & 0.81818182\\\\\n\tpresepsin &  8.4208813 & 19.0000000 & 0.81818182\\\\\n\tCRP &  0.8634226 &  1.8571429 & 0.33333333\\\\\n\tCD64 & 10.6630632 & 19.0000000 & 0.33333333\\\\\n\tIL-6 &  1.7876742 &  5.6666667 & 0.17647059\\\\\n\tsTREM-1 &  0.6566413 &  3.0000000 & 0.05263158\\\\\n\tLBP &  1.4766411 &  5.6666667 & 0.05263158\\\\\n\tSIRS &  5.8335534 & 19.0000000 & 0.33333333\\\\\n\tSOFA &  0.3934856 &  1.2222222 & 0.17647059\\\\\n\\end{tabular}\n",
            "text/plain": [
              "          mean       ub         lb        \n",
              "qSOFA      0.1309599  0.5384615 0.05263158\n",
              "PCT        2.4387879  5.6666667 0.81818182\n",
              "presepsin  8.4208813 19.0000000 0.81818182\n",
              "CRP        0.8634226  1.8571429 0.33333333\n",
              "CD64      10.6630632 19.0000000 0.33333333\n",
              "IL-6       1.7876742  5.6666667 0.17647059\n",
              "sTREM-1    0.6566413  3.0000000 0.05263158\n",
              "LBP        1.4766411  5.6666667 0.05263158\n",
              "SIRS       5.8335534 19.0000000 0.33333333\n",
              "SOFA       0.3934856  1.2222222 0.17647059"
            ]
          },
          "metadata": {}
        }
      ],
      "source": [
        "rownames(results.nma.95$sindex_se)=c('qSOFA','PCT','presepsin','CRP','CD64','IL-6','sTREM-1','LBP','SIRS','SOFA')\n",
        "results.nma.95$sindex_se"
      ]
    },
    {
      "cell_type": "markdown",
      "metadata": {
        "id": "ueaoO4gAYoVB"
      },
      "source": [
        "### Print the results of pooled Superiority index for Specificity from Network Meta-analysis"
      ]
    },
    {
      "cell_type": "code",
      "execution_count": null,
      "metadata": {
        "colab": {
          "base_uri": "https://localhost:8080/",
          "height": 411
        },
        "id": "QZ02eQd-YoVC",
        "outputId": "799bd68d-214a-46c2-b5b9-368811a762d5"
      },
      "outputs": [
        {
          "output_type": "display_data",
          "data": {
            "text/html": [
              "<table class=\"dataframe\">\n",
              "<caption>A data.frame: 10 × 3</caption>\n",
              "<thead>\n",
              "\t<tr><th></th><th scope=col>mean</th><th scope=col>ub</th><th scope=col>lb</th></tr>\n",
              "\t<tr><th></th><th scope=col>&lt;dbl&gt;</th><th scope=col>&lt;dbl&gt;</th><th scope=col>&lt;dbl&gt;</th></tr>\n",
              "</thead>\n",
              "<tbody>\n",
              "\t<tr><th scope=row>qSOFA</th><td>10.3761803</td><td>19.0000000</td><td>0.05263158</td></tr>\n",
              "\t<tr><th scope=row>PCT</th><td> 1.7158235</td><td> 5.6666667</td><td>0.53846154</td></tr>\n",
              "\t<tr><th scope=row>presepsin</th><td> 1.3156935</td><td> 5.6666667</td><td>0.33333333</td></tr>\n",
              "\t<tr><th scope=row>CRP</th><td> 0.6521693</td><td> 1.2222222</td><td>0.17647059</td></tr>\n",
              "\t<tr><th scope=row>CD64</th><td> 5.6551506</td><td>19.0000000</td><td>0.17647059</td></tr>\n",
              "\t<tr><th scope=row>IL-6</th><td> 2.2856623</td><td> 5.6666667</td><td>0.17647059</td></tr>\n",
              "\t<tr><th scope=row>sTREM-1</th><td> 1.8826688</td><td>19.0000000</td><td>0.05263158</td></tr>\n",
              "\t<tr><th scope=row>LBP</th><td> 0.5058289</td><td> 3.0000000</td><td>0.05263158</td></tr>\n",
              "\t<tr><th scope=row>SIRS</th><td> 0.1784606</td><td> 0.8181818</td><td>0.05263158</td></tr>\n",
              "\t<tr><th scope=row>SOFA</th><td> 8.0974730</td><td>19.0000000</td><td>0.33333333</td></tr>\n",
              "</tbody>\n",
              "</table>\n"
            ],
            "text/markdown": "\nA data.frame: 10 × 3\n\n| <!--/--> | mean &lt;dbl&gt; | ub &lt;dbl&gt; | lb &lt;dbl&gt; |\n|---|---|---|---|\n| qSOFA | 10.3761803 | 19.0000000 | 0.05263158 |\n| PCT |  1.7158235 |  5.6666667 | 0.53846154 |\n| presepsin |  1.3156935 |  5.6666667 | 0.33333333 |\n| CRP |  0.6521693 |  1.2222222 | 0.17647059 |\n| CD64 |  5.6551506 | 19.0000000 | 0.17647059 |\n| IL-6 |  2.2856623 |  5.6666667 | 0.17647059 |\n| sTREM-1 |  1.8826688 | 19.0000000 | 0.05263158 |\n| LBP |  0.5058289 |  3.0000000 | 0.05263158 |\n| SIRS |  0.1784606 |  0.8181818 | 0.05263158 |\n| SOFA |  8.0974730 | 19.0000000 | 0.33333333 |\n\n",
            "text/latex": "A data.frame: 10 × 3\n\\begin{tabular}{r|lll}\n  & mean & ub & lb\\\\\n  & <dbl> & <dbl> & <dbl>\\\\\n\\hline\n\tqSOFA & 10.3761803 & 19.0000000 & 0.05263158\\\\\n\tPCT &  1.7158235 &  5.6666667 & 0.53846154\\\\\n\tpresepsin &  1.3156935 &  5.6666667 & 0.33333333\\\\\n\tCRP &  0.6521693 &  1.2222222 & 0.17647059\\\\\n\tCD64 &  5.6551506 & 19.0000000 & 0.17647059\\\\\n\tIL-6 &  2.2856623 &  5.6666667 & 0.17647059\\\\\n\tsTREM-1 &  1.8826688 & 19.0000000 & 0.05263158\\\\\n\tLBP &  0.5058289 &  3.0000000 & 0.05263158\\\\\n\tSIRS &  0.1784606 &  0.8181818 & 0.05263158\\\\\n\tSOFA &  8.0974730 & 19.0000000 & 0.33333333\\\\\n\\end{tabular}\n",
            "text/plain": [
              "          mean       ub         lb        \n",
              "qSOFA     10.3761803 19.0000000 0.05263158\n",
              "PCT        1.7158235  5.6666667 0.53846154\n",
              "presepsin  1.3156935  5.6666667 0.33333333\n",
              "CRP        0.6521693  1.2222222 0.17647059\n",
              "CD64       5.6551506 19.0000000 0.17647059\n",
              "IL-6       2.2856623  5.6666667 0.17647059\n",
              "sTREM-1    1.8826688 19.0000000 0.05263158\n",
              "LBP        0.5058289  3.0000000 0.05263158\n",
              "SIRS       0.1784606  0.8181818 0.05263158\n",
              "SOFA       8.0974730 19.0000000 0.33333333"
            ]
          },
          "metadata": {}
        }
      ],
      "source": [
        "rownames(results.nma.95$sindex_sp)=c('qSOFA','PCT','presepsin','CRP','CD64','IL-6','sTREM-1','LBP','SIRS','SOFA')\n",
        "results.nma.95$sindex_sp"
      ]
    },
    {
      "cell_type": "markdown",
      "metadata": {
        "id": "p4ufaIWfYoVC"
      },
      "source": [
        "##################################################################################\n",
        "###                          Univariable Network meta-regression                         ###\n",
        "##################################################################################"
      ]
    },
    {
      "cell_type": "markdown",
      "metadata": {
        "id": "BQ8T7W_6YoVC"
      },
      "source": [
        "### Define a function to get the results from Univariable Network Meta-regression"
      ]
    },
    {
      "cell_type": "code",
      "execution_count": null,
      "metadata": {
        "id": "NYNTAtMeYoVN"
      },
      "outputs": [],
      "source": [
        "get.nma.1mk<-function(data.ls=NULL,mk.names=NULL,n.study=1,conf=95){\n",
        "\t           data.nma<-data.ls$data.nma\n",
        "\t           func.ub<-NULL\n",
        "\t           func.lb<-NULL\n",
        "\t           if(conf==95){\n",
        "\t\t                func.ub<-get.ub.95\n",
        "\t\t                func.lb<-get.lb.95\n",
        "\t           } else if(conf==90){\n",
        "\t\t                     func.ub<-get.ub.90\n",
        "\t\t                     func.lb<-get.lb.90\n",
        "\t           }\n",
        "\t           data.nma.muse<-data.nma[paste('MU[',1,',',1:length(data.ls$mk),']',sep='')]\n",
        "\t           data.nma.musp<-data.nma[paste('MU[',2,',',1:length(data.ls$mk),']',sep='')]\n",
        "\t           data.nma.rrse<-data.nma[paste('RR[',1,',',1:length(data.ls$mk),']',sep='')]\n",
        "\t           data.nma.rrsp<-data.nma[paste('RR[',2,',',1:length(data.ls$mk),']',sep='')]\n",
        "\t           data.nma.orse<-data.nma[paste('OR[',1,',',1:length(data.ls$mk),']',sep='')]\n",
        "\t           data.nma.orsp<-data.nma[paste('OR[',2,',',1:length(data.ls$mk),']',sep='')]\n",
        "\t           data.nma.dor<-data.nma[paste('DOR[',1:length(data.ls$mk),']',sep='')]\n",
        "\t           data.nma.sindex<-data.nma[paste('S[',1:length(data.ls$mk),']',sep='')]\n",
        "\t           data.nma.sindex_se<-data.nma[paste('S_se[',1:length(data.ls$mk),']',sep='')]\n",
        "\t           data.nma.sindex_sp<-data.nma[paste('S_sp[',1:length(data.ls$mk),']',sep='')]\n",
        "\t           data.nma.beta1se<-data.nma[paste('beta1[1,',1:length(data.ls$mk),']',sep='')]\n",
        "\t           data.nma.beta1sp<-data.nma[paste('beta1[2,',1:length(data.ls$mk),']',sep='')]\n",
        "\t           mu.info<-data.frame(mean_sp=array(unlist(lapply(data.nma.musp,mean))),\n",
        "\t                            ub_sp=array(unlist(lapply(data.nma.musp,func.ub))),\n",
        "\t                            lb_sp=array(unlist(lapply(data.nma.musp,func.lb))),\n",
        "\t                            mean_se=array(unlist(lapply(data.nma.muse,mean))),\n",
        "\t                            ub_se=array(unlist(lapply(data.nma.muse,func.ub))),\n",
        "\t                            lb_se=array(unlist(lapply(data.nma.muse,func.lb))))\n",
        "\t           rr.info<-data.frame(mean_sp=array(unlist(lapply(data.nma.rrsp,mean))),\n",
        "\t                            ub_sp=array(unlist(lapply(data.nma.rrsp,func.ub))),\n",
        "\t                            lb_sp=array(unlist(lapply(data.nma.rrsp,func.lb))),\n",
        "\t                            mean_se=array(unlist(lapply(data.nma.rrse,mean))),\n",
        "\t                            ub_se=array(unlist(lapply(data.nma.rrse,func.ub))),\n",
        "\t                            lb_se=array(unlist(lapply(data.nma.rrse,func.lb))))\n",
        "\t           or.info<-data.frame(mean_sp=array(unlist(lapply(data.nma.orsp,mean))),\n",
        "\t                            ub_sp=array(unlist(lapply(data.nma.orsp,func.ub))),\n",
        "\t                            lb_sp=array(unlist(lapply(data.nma.orsp,func.lb))),\n",
        "\t                            mean_se=array(unlist(lapply(data.nma.orse,mean))),\n",
        "\t                            ub_se=array(unlist(lapply(data.nma.orse,func.ub))),\n",
        "\t                            lb_se=array(unlist(lapply(data.nma.orse,func.lb))))\n",
        "\t           dor.info<-data.frame(mean=array(unlist(lapply(data.nma.dor,mean))),\n",
        "\t                           ub=array(unlist(lapply(data.nma.dor,func.ub))),\n",
        "\t                           lb=array(unlist(lapply(data.nma.dor,func.lb))))\n",
        "\t           sindex.info<-data.frame(mean=array(unlist(lapply(data.nma.sindex,mean))),\n",
        "\t                             ub=array(unlist(lapply(data.nma.sindex,func.ub))),\n",
        "\t                             lb=array(unlist(lapply(data.nma.sindex,func.lb))))\n",
        "\t           sindex_se.info<-data.frame(mean=array(unlist(lapply(data.nma.sindex_se,mean))),\n",
        "\t                              ub=array(unlist(lapply(data.nma.sindex_se,func.ub))),\n",
        "\t                              lb=array(unlist(lapply(data.nma.sindex_se,func.lb))))\n",
        "\t           sindex_sp.info<-data.frame(mean=array(unlist(lapply(data.nma.sindex_sp,mean))),\n",
        "\t                              ub=array(unlist(lapply(data.nma.sindex_sp,func.ub))),\n",
        "\t                              lb=array(unlist(lapply(data.nma.sindex_sp,func.lb))))\n",
        "\t           beta1.info<-data.frame(mean_sp=array(unlist(lapply(data.nma.beta1sp,mean))),\n",
        "\t                              ub_sp=array(unlist(lapply(data.nma.beta1sp,func.ub))),\n",
        "\t                              lb_sp=array(unlist(lapply(data.nma.beta1sp,func.lb))),\n",
        "\t                              mean_se=array(unlist(lapply(data.nma.beta1se,mean))),\n",
        "\t                              ub_se=array(unlist(lapply(data.nma.beta1se,func.ub))),\n",
        "\t                              lb_se=array(unlist(lapply(data.nma.beta1se,func.lb))))\n",
        "\t           results.nma<-list(marker=mk.names[mk.names %in% data.ls$mk],\n",
        "\t                    mu=mu.info,\n",
        "\t                    rr=rr.info,\n",
        "\t                    or=or.info,\n",
        "\t                    dor=dor.info,\n",
        "\t                    sindex=sindex.info,\n",
        "\t                    sindex_se=sindex_se.info,\n",
        "\t                    sindex_sp=sindex_sp.info,\n",
        "\t                    beta1=beta1.info)\n",
        "\treturn(results.nma)\n",
        "}"
      ]
    },
    {
      "cell_type": "markdown",
      "metadata": {
        "id": "03WOILbyYoVO"
      },
      "source": [
        "### Univariable Network Meta-regression (STAN code)"
      ]
    },
    {
      "cell_type": "code",
      "execution_count": null,
      "metadata": {
        "id": "paIAQbsbYoVO"
      },
      "outputs": [],
      "source": [
        "stan.code.1mk<-'\n",
        "data{\n",
        "   int N;         //number of comparison (n=121)\n",
        "   int Nt;        //number of test (n=7)\n",
        "   int Ns;        //number of study (n=107)\n",
        "   int TP[N];\n",
        "   int Dis[N];    //diseased\n",
        "   int TN[N];\n",
        "   int NDis[N];   //non-diseased\n",
        "   int Study[N];\n",
        "   int Test[N];\n",
        "   int Covar1[N]; //one additional variable\n",
        "}\n",
        "\n",
        "parameters{\n",
        "      matrix[2,Nt] logitmu;\n",
        "      vector[Ns] nu[2];\n",
        "      matrix[Ns,Nt] delta[2];\n",
        "      vector<lower=0>[Nt] tau[2];\n",
        "      vector<lower=0>[2] sigmab;\n",
        "      real<lower=-1,upper=1> rho;\n",
        "      matrix[2,Nt] beta1;\n",
        "}\n",
        "\n",
        "transformed parameters{\n",
        "             matrix[Ns,2] p_i[Nt];\n",
        "             matrix[2,Nt] MU;\n",
        "             matrix[2,Nt] RR;\n",
        "             matrix[2,Nt] OR;\n",
        "             vector[Nt] DOR;\n",
        "             vector[Nt] S;\n",
        "             vector[Nt] S_se;\n",
        "             vector[Nt] S_sp;\n",
        "             matrix[Nt,Nt] A;\n",
        "             matrix[Nt,Nt] B;\n",
        "             matrix[Nt,Nt] C;\n",
        "             matrix[Nt, Nt] A_se;\n",
        "             matrix[Nt, Nt] B_se;\n",
        "             matrix[Nt, Nt] C_se;\n",
        "             matrix[Nt, Nt] A_sp;\n",
        "             matrix[Nt, Nt] B_sp;\n",
        "             matrix[Nt, Nt] C_sp;\n",
        "\n",
        "             vector<lower=0>[Nt] tausq[2];\n",
        "             vector<lower=0>[2] sigmabsq;\n",
        "\n",
        "             matrix[Nt,Nt] sigmasq[2];\n",
        "             matrix[Nt,Nt] rhow[2];\n",
        "\n",
        "for (i in 1:Ns){\n",
        "  for (j in 1:2){\n",
        "    for (k in 1:Nt){\n",
        "               p_i[k][i,j]=inv_logit(logitmu[j,k]+nu[j][i]+delta[j][i,k]+beta1[j,k]*Covar1[i]);\n",
        "            }\n",
        "        }\n",
        "    }\n",
        "\n",
        "for (j in 1:2){\n",
        "  for (k in 1:Nt){\n",
        "            MU[j,k]=mean(col(p_i[k],j));\n",
        "        }\n",
        "         tausq[j]=(tau[j]).*(tau[j]);\n",
        "    }\n",
        "\n",
        "for (j in 1:2){\n",
        "  for (k in 1:Nt){\n",
        "            RR[j,k]=MU[j,k]/MU[j,1];\n",
        "            OR[j,k]=(MU[j,k]*(1-MU[j,1]))/(MU[j,1]*(1-MU[j,k]));\n",
        "        }\n",
        "    }\n",
        "\n",
        "for (l in 1:Nt){\n",
        "          DOR[l]=(MU[1,l]*MU[2,l])/((1-MU[1,l])*(1-MU[2,l]));\n",
        "  for(m in 1:Nt){\n",
        "            A[l,m]=if_else((MU[1,l]>MU[1,m]) && (MU[2,l]>MU[2,m]),1,0);\n",
        "            B[l,m]=if_else((MU[1,l]<MU[1,m]) && (MU[2,l]<MU[2,m]),1,0);\n",
        "            C[l,m]=if_else((MU[1,l]==MU[1,m]) && (MU[2,l]==MU[2,m]),1,0);\n",
        "\n",
        "            A_se[l, m] = if_else((MU[1, l] > MU[1, m]), 1, 0);\n",
        "            B_se[l, m] = if_else((MU[1, l] < MU[1, m]), 1, 0);\n",
        "            C_se[l, m] = if_else((MU[1, l] == MU[1, m]), 1, 0);\n",
        "\n",
        "            A_sp[l, m] = if_else((MU[2, l] > MU[2, m]), 1, 0);\n",
        "            B_sp[l, m] = if_else((MU[2, l] < MU[2, m]), 1, 0);\n",
        "            C_sp[l, m] = if_else((MU[2, l] == MU[2, m]), 1, 0);\n",
        "      }\n",
        "        S[l]=(2*sum(row(A,l))+sum(row(C,l)))/(2*sum(row(B,l))+sum(row(C,l)));\n",
        "        S_se[l] = (2*sum(row(A_se, l)) + sum(row(C_se, l)))/(2*sum(row(B_se, l)) + sum(row(C_se, l)));\n",
        "        S_sp[l] = (2*sum(row(A_sp, l)) + sum(row(C_sp, l)))/(2*sum(row(B_sp, l)) + sum(row(C_sp, l)));\n",
        "  }\n",
        "\n",
        "    sigmabsq=(sigmab).*(sigmab);\n",
        "\n",
        "for (j in 1:2){\n",
        "  for (k in 1:Nt){\n",
        "    for (l in 1:Nt){\n",
        "              sigmasq[j][k,l]=(sigmabsq[j]+tausq[j][k])*((sigmabsq[j]+tausq[j][l]));\n",
        "              rhow[j][k,l]=sigmabsq[j]/sqrt(sigmasq[j][k,l]);\n",
        "          }\n",
        "      }\n",
        "  }\n",
        "}\n",
        "\n",
        "model{\n",
        "    //----Priors\n",
        "    for (j in 1:2){\n",
        "              logitmu[j]~normal(0,5);\n",
        "              tau[j]~cauchy(0,2.5);\n",
        "\n",
        "    for (k in 1:Nt){\n",
        "              beta1[j,k]~normal(0,5);\n",
        "          }\n",
        "      }\n",
        "        sigmab~cauchy(0, 2.5);\n",
        "        rho~uniform(-1, 1);\n",
        "        nu[2]~normal(0,sigmab[2]);\n",
        "\n",
        "    for (i in 1:Ns){\n",
        "              nu[1][i]~normal((sigmab[1]/sigmab[2])*rho*nu[2][i],sqrt(sigmabsq[1]*(1-(rho*rho))));\n",
        "      for (j in 1:2){\n",
        "        for (k in 1:Nt){\n",
        "                  delta[j][i,k]~normal(0,tau[j][k]);\n",
        "              }\n",
        "          }\n",
        "      }\n",
        "\n",
        "    for (n in 1:N){\n",
        "              TP[n]~binomial(Dis[n],p_i[Test[n]][Study[n],1]);\n",
        "              TN[n]~binomial(NDis[n],p_i[Test[n]][Study[n],2]);\n",
        "          }\n",
        "}\n",
        "\n",
        "    generated quantities{\n",
        "                vector[2*N] loglik;\n",
        "\n",
        "    for (n in 1:N){\n",
        "              loglik[n]=binomial_lpmf(TN[n]|NDis[n],p_i[Test[n]][Study[n],1]);\n",
        "          }\n",
        "      for (n in (N+1):(2*N)){\n",
        "                    loglik[n]=binomial_lpmf(TN[n-N]|NDis[n-N],p_i[Test[n-N]][Study[n-N],2]);\n",
        "                }\n",
        "            }\n",
        "'"
      ]
    },
    {
      "cell_type": "markdown",
      "metadata": {
        "id": "wgyO_SlxYoVO"
      },
      "source": [
        "### Prepare data for Network Meta-regression"
      ]
    },
    {
      "cell_type": "code",
      "execution_count": null,
      "metadata": {
        "id": "pmtJFf4yYoVP"
      },
      "outputs": [],
      "source": [
        "para.as.ls.1mk<-list(N=nrow(para),\n",
        "           Nt=length(unique(para$Test)),\n",
        "           Ns=length(unique(para$Study)),\n",
        "           TP=para$TP,\n",
        "           Dis=para$Dis,\n",
        "           TN=para$TN,\n",
        "           NDis=para$NDis,\n",
        "           Study=as.numeric(para$Study),\n",
        "           Test=para$Test,\n",
        "           Covar1=data$is.prevalence05)"
      ]
    },
    {
      "cell_type": "markdown",
      "metadata": {
        "id": "OGsdJbGIYoVP"
      },
      "source": [
        "### Compiling model"
      ]
    },
    {
      "cell_type": "code",
      "execution_count": null,
      "metadata": {
        "colab": {
          "base_uri": "https://localhost:8080/"
        },
        "id": "c22B89GkYoVP",
        "outputId": "f22e8533-af68-49f8-c040-cc7854110a85"
      },
      "outputs": [
        {
          "output_type": "stream",
          "name": "stdout",
          "text": [
            "\n",
            "SAMPLING FOR MODEL 'd63a5a9eefe03ef3da783ca7728595dc' NOW (CHAIN 1).\n",
            "Chain 1: \n",
            "Chain 1: Gradient evaluation took 0.000815 seconds\n",
            "Chain 1: 1000 transitions using 10 leapfrog steps per transition would take 8.15 seconds.\n",
            "Chain 1: Adjust your expectations accordingly!\n",
            "Chain 1: \n",
            "Chain 1: \n",
            "Chain 1: WARNING: No variance estimation is\n",
            "Chain 1:          performed for num_warmup < 20\n",
            "Chain 1: \n",
            "Chain 1: Iteration: 1 / 1 [100%]  (Sampling)\n",
            "Chain 1: \n",
            "Chain 1:  Elapsed Time: 2e-06 seconds (Warm-up)\n",
            "Chain 1:                0.001921 seconds (Sampling)\n",
            "Chain 1:                0.001923 seconds (Total)\n",
            "Chain 1: \n"
          ]
        },
        {
          "output_type": "stream",
          "name": "stderr",
          "text": [
            "Warning message:\n",
            "“There were 1 divergent transitions after warmup. See\n",
            "https://mc-stan.org/misc/warnings.html#divergent-transitions-after-warmup\n",
            "to find out why this is a problem and how to eliminate them.”\n",
            "Warning message:\n",
            "“Examine the pairs() plot to diagnose sampling problems\n",
            "”\n"
          ]
        }
      ],
      "source": [
        "stan.model.1mk<-stan(model_code=stan.code.1mk,\n",
        "           data=para.as.ls.1mk,\n",
        "           iter=1,\n",
        "           warmup=0,\n",
        "           chains=1)"
      ]
    },
    {
      "cell_type": "markdown",
      "metadata": {
        "id": "f1BIrWWnYoVP"
      },
      "source": [
        "### Running model"
      ]
    },
    {
      "cell_type": "code",
      "execution_count": null,
      "metadata": {
        "colab": {
          "base_uri": "https://localhost:8080/",
          "height": 362
        },
        "id": "ocpNy1p0YoVQ",
        "outputId": "e485dafa-5d78-4374-894b-a9123a9883f2"
      },
      "outputs": [
        {
          "metadata": {
            "tags": null
          },
          "name": "stderr",
          "output_type": "stream",
          "text": [
            "Warning message:\n",
            "“There were 3 chains where the estimated Bayesian Fraction of Missing Information was low. See\n",
            "https://mc-stan.org/misc/warnings.html#bfmi-low”\n",
            "Warning message:\n",
            "“Examine the pairs() plot to diagnose sampling problems\n",
            "”\n",
            "Warning message:\n",
            "“The largest R-hat is NA, indicating chains have not mixed.\n",
            "Running the chains for more iterations may help. See\n",
            "https://mc-stan.org/misc/warnings.html#r-hat”\n",
            "Warning message:\n",
            "“Bulk Effective Samples Size (ESS) is too low, indicating posterior means and medians may be unreliable.\n",
            "Running the chains for more iterations may help. See\n",
            "https://mc-stan.org/misc/warnings.html#bulk-ess”\n",
            "Warning message:\n",
            "“Tail Effective Samples Size (ESS) is too low, indicating posterior variances and tail quantiles may be unreliable.\n",
            "Running the chains for more iterations may help. See\n",
            "https://mc-stan.org/misc/warnings.html#tail-ess”\n"
          ]
        },
        {
          "data": {
            "text/plain": [
              "Time difference of 21.93722 mins"
            ]
          },
          "metadata": {},
          "output_type": "display_data"
        }
      ],
      "source": [
        "start_time <- Sys.time()\n",
        "fit.1mk<-stan(fit=stan.model.1mk,\n",
        "       data=para.as.ls.1mk,\n",
        "       iter=200,\n",
        "       chains=4,\n",
        "       cores=4,\n",
        "       control=list(adapt_delta=0.99,\n",
        "              stepsize=0.01,\n",
        "              max_treedepth=17))\n",
        "end_time <- Sys.time()\n",
        "end_time - start_time"
      ]
    },
    {
      "cell_type": "markdown",
      "metadata": {
        "id": "XWeggy2lYoVQ"
      },
      "source": [
        "### Save the results as .RData and .csv"
      ]
    },
    {
      "cell_type": "code",
      "execution_count": null,
      "metadata": {
        "id": "J1gs5SWZYoVQ"
      },
      "outputs": [],
      "source": [
        "filename.simdata.save<-'fit_1mk_simdata_sepsis_isprevalence05.RData'\n",
        "filename.results.save<-'out_1mk_sepsis_isprevalence05.csv'\n",
        "results.1mk<-fit.extract(fit.data=fit.1mk,filename.save=filename.simdata.save)\n",
        "results.1mk.95<-get.nma.1mk(data.ls=list(mk=mk.names[unique(para$Test)],\n",
        "                                         data.nma=results.1mk),mk.names=mk.names,\n",
        "                            conf=95)\n",
        "write.csv(results.1mk.95,filename.results.save)"
      ]
    },
    {
      "cell_type": "markdown",
      "metadata": {
        "id": "0LgLjh4WYoVQ"
      },
      "source": [
        "### Print the results of pooled sensitivity and specificity from Network Meta-regression"
      ]
    },
    {
      "cell_type": "code",
      "execution_count": null,
      "metadata": {
        "colab": {
          "base_uri": "https://localhost:8080/",
          "height": 411
        },
        "id": "Z6jjKAsRYoVQ",
        "outputId": "04cc5ea8-b7e6-4f3d-cae6-3bd7cbc5ae56"
      },
      "outputs": [
        {
          "output_type": "display_data",
          "data": {
            "text/html": [
              "<table class=\"dataframe\">\n",
              "<caption>A data.frame: 10 × 6</caption>\n",
              "<thead>\n",
              "\t<tr><th></th><th scope=col>mean_sp</th><th scope=col>ub_sp</th><th scope=col>lb_sp</th><th scope=col>mean_se</th><th scope=col>ub_se</th><th scope=col>lb_se</th></tr>\n",
              "\t<tr><th></th><th scope=col>&lt;dbl&gt;</th><th scope=col>&lt;dbl&gt;</th><th scope=col>&lt;dbl&gt;</th><th scope=col>&lt;dbl&gt;</th><th scope=col>&lt;dbl&gt;</th><th scope=col>&lt;dbl&gt;</th></tr>\n",
              "</thead>\n",
              "<tbody>\n",
              "\t<tr><th scope=row>qSOFA</th><td>0.8343904</td><td>0.9861647</td><td>0.5833991</td><td>0.3753245</td><td>0.6282312</td><td>0.13888902</td></tr>\n",
              "\t<tr><th scope=row>PCT</th><td>0.7462204</td><td>0.7705313</td><td>0.7231538</td><td>0.7322352</td><td>0.7646050</td><td>0.71296368</td></tr>\n",
              "\t<tr><th scope=row>presepsin</th><td>0.7271080</td><td>0.7874983</td><td>0.6445695</td><td>0.8226873</td><td>0.8668823</td><td>0.76242709</td></tr>\n",
              "\t<tr><th scope=row>CRP</th><td>0.7031980</td><td>0.7439010</td><td>0.6346436</td><td>0.6771432</td><td>0.7239936</td><td>0.62269597</td></tr>\n",
              "\t<tr><th scope=row>CD64</th><td>0.7924926</td><td>0.9247047</td><td>0.5879458</td><td>0.7151757</td><td>0.9395261</td><td>0.38651558</td></tr>\n",
              "\t<tr><th scope=row>IL-6</th><td>0.7380014</td><td>0.8293991</td><td>0.6509445</td><td>0.7140065</td><td>0.8058153</td><td>0.53058898</td></tr>\n",
              "\t<tr><th scope=row>sTREM-1</th><td>0.6157849</td><td>0.9636320</td><td>0.2331245</td><td>0.5978874</td><td>0.9358386</td><td>0.09638128</td></tr>\n",
              "\t<tr><th scope=row>LBP</th><td>0.5384333</td><td>0.9071572</td><td>0.1404003</td><td>0.4727226</td><td>0.9266352</td><td>0.08339972</td></tr>\n",
              "\t<tr><th scope=row>SIRS</th><td>0.5311905</td><td>0.7471237</td><td>0.3060454</td><td>0.6831586</td><td>0.8875260</td><td>0.43340942</td></tr>\n",
              "\t<tr><th scope=row>SOFA</th><td>0.7907249</td><td>0.8870827</td><td>0.6590323</td><td>0.5746732</td><td>0.6774505</td><td>0.42347857</td></tr>\n",
              "</tbody>\n",
              "</table>\n"
            ],
            "text/markdown": "\nA data.frame: 10 × 6\n\n| <!--/--> | mean_sp &lt;dbl&gt; | ub_sp &lt;dbl&gt; | lb_sp &lt;dbl&gt; | mean_se &lt;dbl&gt; | ub_se &lt;dbl&gt; | lb_se &lt;dbl&gt; |\n|---|---|---|---|---|---|---|\n| qSOFA | 0.8343904 | 0.9861647 | 0.5833991 | 0.3753245 | 0.6282312 | 0.13888902 |\n| PCT | 0.7462204 | 0.7705313 | 0.7231538 | 0.7322352 | 0.7646050 | 0.71296368 |\n| presepsin | 0.7271080 | 0.7874983 | 0.6445695 | 0.8226873 | 0.8668823 | 0.76242709 |\n| CRP | 0.7031980 | 0.7439010 | 0.6346436 | 0.6771432 | 0.7239936 | 0.62269597 |\n| CD64 | 0.7924926 | 0.9247047 | 0.5879458 | 0.7151757 | 0.9395261 | 0.38651558 |\n| IL-6 | 0.7380014 | 0.8293991 | 0.6509445 | 0.7140065 | 0.8058153 | 0.53058898 |\n| sTREM-1 | 0.6157849 | 0.9636320 | 0.2331245 | 0.5978874 | 0.9358386 | 0.09638128 |\n| LBP | 0.5384333 | 0.9071572 | 0.1404003 | 0.4727226 | 0.9266352 | 0.08339972 |\n| SIRS | 0.5311905 | 0.7471237 | 0.3060454 | 0.6831586 | 0.8875260 | 0.43340942 |\n| SOFA | 0.7907249 | 0.8870827 | 0.6590323 | 0.5746732 | 0.6774505 | 0.42347857 |\n\n",
            "text/latex": "A data.frame: 10 × 6\n\\begin{tabular}{r|llllll}\n  & mean\\_sp & ub\\_sp & lb\\_sp & mean\\_se & ub\\_se & lb\\_se\\\\\n  & <dbl> & <dbl> & <dbl> & <dbl> & <dbl> & <dbl>\\\\\n\\hline\n\tqSOFA & 0.8343904 & 0.9861647 & 0.5833991 & 0.3753245 & 0.6282312 & 0.13888902\\\\\n\tPCT & 0.7462204 & 0.7705313 & 0.7231538 & 0.7322352 & 0.7646050 & 0.71296368\\\\\n\tpresepsin & 0.7271080 & 0.7874983 & 0.6445695 & 0.8226873 & 0.8668823 & 0.76242709\\\\\n\tCRP & 0.7031980 & 0.7439010 & 0.6346436 & 0.6771432 & 0.7239936 & 0.62269597\\\\\n\tCD64 & 0.7924926 & 0.9247047 & 0.5879458 & 0.7151757 & 0.9395261 & 0.38651558\\\\\n\tIL-6 & 0.7380014 & 0.8293991 & 0.6509445 & 0.7140065 & 0.8058153 & 0.53058898\\\\\n\tsTREM-1 & 0.6157849 & 0.9636320 & 0.2331245 & 0.5978874 & 0.9358386 & 0.09638128\\\\\n\tLBP & 0.5384333 & 0.9071572 & 0.1404003 & 0.4727226 & 0.9266352 & 0.08339972\\\\\n\tSIRS & 0.5311905 & 0.7471237 & 0.3060454 & 0.6831586 & 0.8875260 & 0.43340942\\\\\n\tSOFA & 0.7907249 & 0.8870827 & 0.6590323 & 0.5746732 & 0.6774505 & 0.42347857\\\\\n\\end{tabular}\n",
            "text/plain": [
              "          mean_sp   ub_sp     lb_sp     mean_se   ub_se     lb_se     \n",
              "qSOFA     0.8343904 0.9861647 0.5833991 0.3753245 0.6282312 0.13888902\n",
              "PCT       0.7462204 0.7705313 0.7231538 0.7322352 0.7646050 0.71296368\n",
              "presepsin 0.7271080 0.7874983 0.6445695 0.8226873 0.8668823 0.76242709\n",
              "CRP       0.7031980 0.7439010 0.6346436 0.6771432 0.7239936 0.62269597\n",
              "CD64      0.7924926 0.9247047 0.5879458 0.7151757 0.9395261 0.38651558\n",
              "IL-6      0.7380014 0.8293991 0.6509445 0.7140065 0.8058153 0.53058898\n",
              "sTREM-1   0.6157849 0.9636320 0.2331245 0.5978874 0.9358386 0.09638128\n",
              "LBP       0.5384333 0.9071572 0.1404003 0.4727226 0.9266352 0.08339972\n",
              "SIRS      0.5311905 0.7471237 0.3060454 0.6831586 0.8875260 0.43340942\n",
              "SOFA      0.7907249 0.8870827 0.6590323 0.5746732 0.6774505 0.42347857"
            ]
          },
          "metadata": {}
        }
      ],
      "source": [
        "rownames(results.1mk.95$mu)=c('qSOFA', 'PCT', 'presepsin', 'CRP', 'CD64', 'IL-6', 'sTREM-1', 'LBP', 'SIRS', 'SOFA')\n",
        "results.1mk.95$mu"
      ]
    },
    {
      "cell_type": "markdown",
      "metadata": {
        "id": "u-nLl7aLYoVR"
      },
      "source": [
        "### Print the results of pooled DOR from Network Meta-regression"
      ]
    },
    {
      "cell_type": "code",
      "execution_count": null,
      "metadata": {
        "colab": {
          "base_uri": "https://localhost:8080/",
          "height": 411
        },
        "id": "NVWFHWB5YoVR",
        "outputId": "1579d4e9-34b0-427a-a0d8-3d1047f454d1"
      },
      "outputs": [
        {
          "output_type": "display_data",
          "data": {
            "text/html": [
              "<table class=\"dataframe\">\n",
              "<caption>A data.frame: 10 × 3</caption>\n",
              "<thead>\n",
              "\t<tr><th></th><th scope=col>mean</th><th scope=col>ub</th><th scope=col>lb</th></tr>\n",
              "\t<tr><th></th><th scope=col>&lt;dbl&gt;</th><th scope=col>&lt;dbl&gt;</th><th scope=col>&lt;dbl&gt;</th></tr>\n",
              "</thead>\n",
              "<tbody>\n",
              "\t<tr><th scope=row>qSOFA</th><td> 9.606980</td><td> 43.680741</td><td>0.31165888</td></tr>\n",
              "\t<tr><th scope=row>PCT</th><td> 8.375743</td><td> 10.141162</td><td>6.84635591</td></tr>\n",
              "\t<tr><th scope=row>presepsin</th><td>14.136606</td><td> 20.110562</td><td>7.10854265</td></tr>\n",
              "\t<tr><th scope=row>CRP</th><td> 5.111536</td><td>  6.679264</td><td>3.51455177</td></tr>\n",
              "\t<tr><th scope=row>CD64</th><td>17.165532</td><td> 68.496934</td><td>0.93830275</td></tr>\n",
              "\t<tr><th scope=row>IL-6</th><td> 7.790352</td><td> 14.582939</td><td>3.55360244</td></tr>\n",
              "\t<tr><th scope=row>sTREM-1</th><td>17.989279</td><td>152.796252</td><td>0.08999238</td></tr>\n",
              "\t<tr><th scope=row>LBP</th><td> 7.756740</td><td> 35.952940</td><td>0.03677282</td></tr>\n",
              "\t<tr><th scope=row>SIRS</th><td> 3.914135</td><td> 14.253367</td><td>0.57185014</td></tr>\n",
              "\t<tr><th scope=row>SOFA</th><td> 5.790714</td><td> 11.692187</td><td>2.53997361</td></tr>\n",
              "</tbody>\n",
              "</table>\n"
            ],
            "text/markdown": "\nA data.frame: 10 × 3\n\n| <!--/--> | mean &lt;dbl&gt; | ub &lt;dbl&gt; | lb &lt;dbl&gt; |\n|---|---|---|---|\n| qSOFA |  9.606980 |  43.680741 | 0.31165888 |\n| PCT |  8.375743 |  10.141162 | 6.84635591 |\n| presepsin | 14.136606 |  20.110562 | 7.10854265 |\n| CRP |  5.111536 |   6.679264 | 3.51455177 |\n| CD64 | 17.165532 |  68.496934 | 0.93830275 |\n| IL-6 |  7.790352 |  14.582939 | 3.55360244 |\n| sTREM-1 | 17.989279 | 152.796252 | 0.08999238 |\n| LBP |  7.756740 |  35.952940 | 0.03677282 |\n| SIRS |  3.914135 |  14.253367 | 0.57185014 |\n| SOFA |  5.790714 |  11.692187 | 2.53997361 |\n\n",
            "text/latex": "A data.frame: 10 × 3\n\\begin{tabular}{r|lll}\n  & mean & ub & lb\\\\\n  & <dbl> & <dbl> & <dbl>\\\\\n\\hline\n\tqSOFA &  9.606980 &  43.680741 & 0.31165888\\\\\n\tPCT &  8.375743 &  10.141162 & 6.84635591\\\\\n\tpresepsin & 14.136606 &  20.110562 & 7.10854265\\\\\n\tCRP &  5.111536 &   6.679264 & 3.51455177\\\\\n\tCD64 & 17.165532 &  68.496934 & 0.93830275\\\\\n\tIL-6 &  7.790352 &  14.582939 & 3.55360244\\\\\n\tsTREM-1 & 17.989279 & 152.796252 & 0.08999238\\\\\n\tLBP &  7.756740 &  35.952940 & 0.03677282\\\\\n\tSIRS &  3.914135 &  14.253367 & 0.57185014\\\\\n\tSOFA &  5.790714 &  11.692187 & 2.53997361\\\\\n\\end{tabular}\n",
            "text/plain": [
              "          mean      ub         lb        \n",
              "qSOFA      9.606980  43.680741 0.31165888\n",
              "PCT        8.375743  10.141162 6.84635591\n",
              "presepsin 14.136606  20.110562 7.10854265\n",
              "CRP        5.111536   6.679264 3.51455177\n",
              "CD64      17.165532  68.496934 0.93830275\n",
              "IL-6       7.790352  14.582939 3.55360244\n",
              "sTREM-1   17.989279 152.796252 0.08999238\n",
              "LBP        7.756740  35.952940 0.03677282\n",
              "SIRS       3.914135  14.253367 0.57185014\n",
              "SOFA       5.790714  11.692187 2.53997361"
            ]
          },
          "metadata": {}
        }
      ],
      "source": [
        "rownames(results.1mk.95$dor)=c('qSOFA', 'PCT', 'presepsin', 'CRP', 'CD64', 'IL-6', 'sTREM-1', 'LBP', 'SIRS', 'SOFA')\n",
        "results.1mk.95$dor"
      ]
    }
  ],
  "metadata": {
    "kernelspec": {
      "display_name": "R",
      "language": "R",
      "name": "ir"
    },
    "language_info": {
      "codemirror_mode": "r",
      "file_extension": ".r",
      "mimetype": "text/x-r-source",
      "name": "R",
      "pygments_lexer": "r",
      "version": "4.1.0"
    },
    "colab": {
      "provenance": []
    }
  },
  "nbformat": 4,
  "nbformat_minor": 0
}