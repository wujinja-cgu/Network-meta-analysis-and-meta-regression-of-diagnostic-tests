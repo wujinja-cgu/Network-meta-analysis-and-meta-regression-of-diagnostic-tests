{
 "cells": [
  {
   "cell_type": "markdown",
   "metadata": {},
   "source": [
    "### Load the packages"
   ]
  },
  {
   "cell_type": "code",
   "execution_count": null,
   "metadata": {},
   "outputs": [],
   "source": [
    "library(rstan)\n",
    "library(bayesplot)\n",
    "library(ggplot2)\n",
    "library(doParallel)\n",
    "library(devtools)\n",
    "Sys.setenv(PATH = paste(\"C:/rtools40/mingw64/bin/\", Sys.getenv(\"PATH\"), sep=\";\"))\n",
    "Sys.setenv(BINPREF = \"C:/rtools40/mingw64/bin/\")"
   ]
  },
  {
   "cell_type": "code",
   "execution_count": 3,
   "metadata": {},
   "outputs": [
    {
     "data": {
      "text/html": [
       "4"
      ],
      "text/latex": [
       "4"
      ],
      "text/markdown": [
       "4"
      ],
      "text/plain": [
       "[1] 4"
      ]
     },
     "metadata": {},
     "output_type": "display_data"
    }
   ],
   "source": [
    "rstan_options(auto_write=TRUE)\n",
    "options(mc.cores=parallel::detectCores())\n",
    "registerDoParallel(4)\n",
    "getDoParWorkers()"
   ]
  },
  {
   "cell_type": "markdown",
   "metadata": {},
   "source": [
    "### Define a function to prepare the parameters and data for further Bayesian analysis"
   ]
  },
  {
   "cell_type": "code",
   "execution_count": 4,
   "metadata": {},
   "outputs": [],
   "source": [
    "getpara<-function(filename=NULL,names.mk=NULL){\n",
    "          data.mk<-read.csv(filename)\n",
    "          names.study<-unique(fixlen.str(data.mk$Study))\n",
    "          hash.study<-1:length(names.study)\n",
    "          names(hash.study)<-names.study\n",
    "          hash.mk<-1:length(names.mk)\n",
    "          names(hash.mk)<-names.mk\n",
    "          para<-data.frame(study.names=fixlen.str(data.mk$Study),\n",
    "          Study=array(hash.study[as.character(fixlen.str(data.mk$Study))]),\n",
    "                      TP=round(data.mk$Case*data.mk$Sensitivity),\n",
    "                      TN=round(data.mk$Control*data.mk$Specificity),\n",
    "                      Dis=data.mk$Case,\n",
    "                      NDis=data.mk$Control,\n",
    "                      Test=array(hash.mk[as.character(data.mk$Marker)]))\n",
    "    return(list(para=para,data=data.mk))\n",
    "  }\n"
   ]
  },
  {
   "cell_type": "markdown",
   "metadata": {},
   "source": [
    "### Define a function to get the upper and lower credible bound (97.5%)"
   ]
  },
  {
   "cell_type": "code",
   "execution_count": 5,
   "metadata": {},
   "outputs": [],
   "source": [
    "get.ub.95<-function(x){\n",
    "            y=sort(x)\n",
    "            len=length(x)\n",
    "            return(y[round(len*0.975)])\n",
    "  }\n",
    "\n",
    "get.lb.95<-function(x){\n",
    "            y=sort(x)\n",
    "            len=length(x)\n",
    "            return(y[round(len*0.025)])\n",
    "  }"
   ]
  },
  {
   "cell_type": "markdown",
   "metadata": {},
   "source": [
    "### Define a function to get the results from Network Meta-analysis"
   ]
  },
  {
   "cell_type": "code",
   "execution_count": 6,
   "metadata": {},
   "outputs": [],
   "source": [
    "get.nma<-function(data.ls=NULL,mk.names=NULL,n.study=1,conf=95){\n",
    "\t        data.nma<-data.ls$data.nma\n",
    "\t        func.ub<-NULL\n",
    "        \tfunc.lb<-NULL\n",
    "\t        if(conf==95){\n",
    "\t\t                    func.ub<-get.ub.95\n",
    "\t\t                    func.lb<-get.lb.95\n",
    "\t        } else if(conf==90){\n",
    "\t\t                           func.ub<-get.ub.90\n",
    "\t\t                           func.lb<-get.lb.90\n",
    "\t        }\n",
    "\t        data.nma.muse<-data.nma[paste('MU[',1,',',1:length(data.ls$mk),']',sep='')]\n",
    "\t        data.nma.musp<-data.nma[paste('MU[',2,',',1:length(data.ls$mk),']',sep='')]\n",
    "\t        data.nma.rrse<-data.nma[paste('RR[',1,',',1:length(data.ls$mk),']',sep='')]\n",
    "\t        data.nma.rrsp<-data.nma[paste('RR[',2,',',1:length(data.ls$mk),']',sep='')]\n",
    "\t        data.nma.orse<-data.nma[paste('OR[',1,',',1:length(data.ls$mk),']',sep='')]\n",
    "\t        data.nma.orsp<-data.nma[paste('OR[',2,',',1:length(data.ls$mk),']',sep='')]\n",
    "\t        data.nma.dor<-data.nma[paste('DOR[',1:length(data.ls$mk),']',sep='')]\n",
    "            data.nma.sindex<-data.nma[paste('S[',1:length(data.ls$mk),']',sep='')]\n",
    "            data.nma.sindex_se<-data.nma[paste('S_se[',1:length(data.ls$mk),']',sep='')]\n",
    "            data.nma.sindex_sp<-data.nma[paste('S_sp[',1:length(data.ls$mk),']',sep='')]\n",
    "\t        mu.info<-data.frame(mean_sp=array(unlist(lapply(data.nma.musp,mean))),\n",
    "\t                            ub_sp=array(unlist(lapply(data.nma.musp,func.ub))),\n",
    "\t                            lb_sp=array(unlist(lapply(data.nma.musp,func.lb))),\n",
    "\t                            mean_se=array(unlist(lapply(data.nma.muse,mean))),\n",
    "\t                            ub_se=array(unlist(lapply(data.nma.muse,func.ub))),\n",
    "\t                            lb_se=array(unlist(lapply(data.nma.muse,func.lb))))\n",
    "\t        rr.info<-data.frame(mean_sp=array(unlist(lapply(data.nma.rrsp,mean))),\n",
    "\t                            ub_sp=array(unlist(lapply(data.nma.rrsp,func.ub))),\n",
    "\t                            lb_sp=array(unlist(lapply(data.nma.rrsp,func.lb))),\n",
    "\t                            mean_se=array(unlist(lapply(data.nma.rrse,mean))),\n",
    "\t                            ub_se=array(unlist(lapply(data.nma.rrse,func.ub))),\n",
    "\t                            lb_se=array(unlist(lapply(data.nma.rrse,func.lb))))\n",
    "\t        or.info<-data.frame(mean_sp=array(unlist(lapply(data.nma.orsp,mean))),\n",
    "\t                            ub_sp=array(unlist(lapply(data.nma.orsp,func.ub))),\n",
    "\t                            lb_sp=array(unlist(lapply(data.nma.orsp,func.lb))),\n",
    "\t                            mean_se=array(unlist(lapply(data.nma.orse,mean))),\n",
    "\t                            ub_se=array(unlist(lapply(data.nma.orse,func.ub))),\n",
    "\t                            lb_se=array(unlist(lapply(data.nma.orse,func.lb))))\n",
    "\t        dor.info<-data.frame(mean=array(unlist(lapply(data.nma.dor,mean))),\n",
    "\t                             ub=array(unlist(lapply(data.nma.dor,func.ub))),\n",
    "\t                             lb=array(unlist(lapply(data.nma.dor,func.lb))))\n",
    "            sindex.info<-data.frame(mean=array(unlist(lapply(data.nma.sindex,mean))),\n",
    "\t                                ub=array(unlist(lapply(data.nma.sindex,func.ub))),\n",
    "\t                                lb=array(unlist(lapply(data.nma.sindex,func.lb))))\n",
    "            sindex_se.info<-data.frame(mean=array(unlist(lapply(data.nma.sindex_se,mean))),\n",
    "\t                                   ub=array(unlist(lapply(data.nma.sindex_se,func.ub))),\n",
    "\t                                   lb=array(unlist(lapply(data.nma.sindex_se,func.lb))))\n",
    "            sindex_sp.info<-data.frame(mean=array(unlist(lapply(data.nma.sindex_sp,mean))),\n",
    "\t                                   ub=array(unlist(lapply(data.nma.sindex_sp,func.ub))),\n",
    "\t                                   lb=array(unlist(lapply(data.nma.sindex_sp,func.lb))))\n",
    "\t        results.nma<-list(marker=mk.names[mk.names %in% data.ls$mk],\n",
    "\t                          mu=mu.info,\n",
    "\t                          rr=rr.info,\n",
    "\t                          or=or.info,\n",
    "\t                          dor=dor.info,\n",
    "                              sindex=sindex.info,\n",
    "                              sindex_se=sindex_se.info,\n",
    "                              sindex_sp=sindex_sp.info)\n",
    "\t   return(results.nma)\n",
    "}"
   ]
  },
  {
   "cell_type": "markdown",
   "metadata": {},
   "source": [
    "### Define a function to extract results from analysis"
   ]
  },
  {
   "cell_type": "code",
   "execution_count": 8,
   "metadata": {},
   "outputs": [],
   "source": [
    "fixlen.str<-function(string.arr=NULL){\n",
    "                                     \t max.len<-max(nchar(as.character(string.arr)))\n",
    "\t                                     rule<-paste('% -',as.character(max.len),'s',sep='')\n",
    "\t                                     string.arr.fix<-sprintf(rule,string.arr)\n",
    "\t                                     return(string.arr.fix)\n",
    "}\n",
    "fit.extract<-function(fit.data=NULL,filename.save=NULL){\n",
    "\t                                                       results.sum<-summary(fit.data)[[1]]\n",
    "\t                                                       results.simdata<-fit.data@sim$samples[[1]]\n",
    "\t                                                       save(results.sum,results.simdata,file=filename.save)\n",
    "\t                                                       return(results.simdata)\n",
    "}"
   ]
  },
  {
   "cell_type": "markdown",
   "metadata": {},
   "source": [
    "##########################################################\n",
    "###  Network Meta-analysis (stan code)\n",
    "##########################################################"
   ]
  },
  {
   "cell_type": "code",
   "execution_count": 9,
   "metadata": {},
   "outputs": [],
   "source": [
    "stan.code.nma<-'\n",
    "data{\n",
    "     int N;  //number of comparison??? - 121\n",
    "     int Nt; //number of test - 10\n",
    "     int Ns; //number of study - 72\n",
    "     int TP[N];\n",
    "     int Dis[N];  //diseased\n",
    "     int TN[N];\n",
    "     int NDis[N]; //non-diseased\n",
    "     int Study[N];\n",
    "     int Test[N];\n",
    "}\n",
    "parameters{\n",
    "           matrix[2, Nt] logitmu;\n",
    "           vector[Ns] nu[2];\n",
    "           matrix[Ns, Nt] delta[2];\n",
    "           vector<lower=0>[Nt] tau[2]; //*\n",
    "           vector<lower=0>[2] sigmab; \n",
    "           real<lower=-1, upper=1> rho;\n",
    "}\n",
    "transformed parameters{\n",
    "                       matrix[Ns, 2] p_i[Nt];\n",
    "                       matrix[2, Nt] MU;\n",
    "                       matrix[2, Nt] RR;\n",
    "                       matrix[2, Nt] OR;\n",
    "                       vector[Nt] DOR;\n",
    "                       vector[Nt] S;\n",
    "                       vector[Nt] S_se;\n",
    "                       vector[Nt] S_sp;\n",
    "                       matrix[Nt, Nt] A;\n",
    "                       matrix[Nt, Nt] B;\n",
    "                       matrix[Nt, Nt] C;\n",
    "                       matrix[Nt, Nt] A_se;\n",
    "                       matrix[Nt, Nt] B_se;\n",
    "                       matrix[Nt, Nt] C_se;\n",
    "                       matrix[Nt, Nt] A_sp;\n",
    "                       matrix[Nt, Nt] B_sp;\n",
    "                       matrix[Nt, Nt] C_sp;\n",
    "                       vector<lower=0>[Nt] tausq[2];\n",
    "                       vector<lower=0>[2] sigmabsq;\n",
    "                       matrix[Nt, Nt] sigmasq[2];\n",
    "                       matrix[Nt, Nt] rhow[2];\n",
    "\n",
    "    for (i in 1:Ns){\n",
    "        for (j in 1:2){\n",
    "            for (k in 1:Nt)\n",
    "                p_i[k][i,j] = inv_logit(logitmu[j,k] +  nu[j][i] + delta[j][i,k]);\n",
    "        }\n",
    "    }\n",
    " \n",
    "    for (j in 1:2){\n",
    "        for (k in 1:Nt){\n",
    "                         MU[j,k] = mean(col(p_i[k], j));\n",
    "        }\n",
    "        tausq[j] = (tau[j]).*(tau[j]);\n",
    "    }\n",
    "\n",
    "    for (j in 1:2){\n",
    "        for (k in 1:Nt){\n",
    "                         RR[j, k] = MU[j, k]/MU[j, 1]; \n",
    "                         OR[j, k] = (MU[j, k]*(1 - MU[j, 1]))/(MU[j, 1]*(1 - MU[j, k]));\n",
    "         }\n",
    "    }\n",
    "\n",
    "    for (l in 1:Nt){\n",
    "                     DOR[l] = (MU[1, l]*MU[2, l])/((1 - MU[1, l])*(1 - MU[2, l]));\n",
    "\n",
    "        for(m in 1:Nt){\n",
    "                        A[l, m] = if_else((MU[1, l] > MU[1, m]) && (MU[2, l] > MU[2, m]), 1, 0);\n",
    "                        B[l, m] = if_else((MU[1, l] < MU[1, m]) && (MU[2, l] < MU[2, m]), 1, 0);\n",
    "                        C[l, m] = if_else((MU[1, l] == MU[1, m]) && (MU[2, l] == MU[2, m]), 1, 0);\n",
    "\n",
    "                        A_se[l, m] = if_else((MU[1, l] > MU[1, m]), 1, 0);\n",
    "                        B_se[l, m] = if_else((MU[1, l] < MU[1, m]), 1, 0);\n",
    "                        C_se[l, m] = if_else((MU[1, l] == MU[1, m]), 1, 0);\n",
    "\n",
    "                        A_sp[l, m] = if_else((MU[2, l] > MU[2, m]), 1, 0);\n",
    "                        B_sp[l, m] = if_else((MU[2, l] < MU[2, m]), 1, 0);\n",
    "                        C_sp[l, m] = if_else((MU[2, l] == MU[2, m]), 1, 0);\n",
    "        }\n",
    "\n",
    "        S[l] = (2*sum(row(A, l)) + sum(row(C, l)))/(2*sum(row(B, l)) + sum(row(C, l)));\n",
    "        S_se[l] = (2*sum(row(A_se, l)) + sum(row(C_se, l)))/(2*sum(row(B_se, l)) + sum(row(C_se, l)));\n",
    "        S_sp[l] = (2*sum(row(A_sp, l)) + sum(row(C_sp, l)))/(2*sum(row(B_sp, l)) + sum(row(C_sp, l)));\n",
    "    }\n",
    "    \n",
    "    sigmabsq = (sigmab).*(sigmab);\n",
    "\n",
    "    for (j in 1:2){\n",
    "        for (k in 1:Nt){\n",
    "            for (l in 1:Nt){\n",
    "                             sigmasq[j][k,l] = (sigmabsq[j] + tausq[j][k])*((sigmabsq[j] + tausq[j][l]));\n",
    "                             rhow[j][k,l] = sigmabsq[j]/sqrt(sigmasq[j][k,l]);\n",
    "            }\n",
    "        }\n",
    "    }\n",
    "\n",
    "}\n",
    "model{\n",
    "\t   //Priors\n",
    "       for (j in 1:2){\n",
    "                       logitmu[j] ~ normal(0, 5);\n",
    "\t\t               tau[j] ~ cauchy(0, 2.5);\n",
    "       }\n",
    "\n",
    "         sigmab ~ cauchy(0, 2.5);\n",
    "\t     rho ~ uniform(-1, 1);\n",
    "         nu[2] ~ normal(0, sigmab[2]);\n",
    "      \n",
    "       for (i in 1:Ns){\n",
    "                       nu[1][i] ~ normal((sigmab[1]/sigmab[2])*rho*nu[2][i], sqrt(sigmabsq[1]*(1 - (rho*rho))));\n",
    "          for (j in 1:2){\n",
    "              for (k in 1:Nt)\n",
    "                              delta[j][i,k] ~ normal(0, tau[j][k]);\n",
    "        }\n",
    "    }\n",
    "\n",
    "    for (n in 1:N){\n",
    "                    TP[n] ~ binomial(Dis[n], p_i[Test[n]][Study[n], 1]);\n",
    "                    TN[n] ~ binomial(NDis[n], p_i[Test[n]][Study[n], 2]);\n",
    "    }\n",
    "\n",
    "}\n",
    "generated quantities{\n",
    "    \n",
    "    vector[2*N] loglik;\n",
    "\n",
    "    for (n in 1:N)\n",
    "                   loglik[n] = binomial_lpmf(TN[n]| NDis[n], p_i[Test[n]][Study[n], 1]);\n",
    "\n",
    "    for (n in (N+1):(2*N))\n",
    "                   loglik[n] = binomial_lpmf(TN[n-N]| NDis[n-N], p_i[Test[n-N]][Study[n-N], 2]);\n",
    "\n",
    "}\n",
    "'"
   ]
  },
  {
   "cell_type": "markdown",
   "metadata": {},
   "source": [
    "### Lists of Biomarkers in network meta-analysis "
   ]
  },
  {
   "cell_type": "code",
   "execution_count": 10,
   "metadata": {},
   "outputs": [],
   "source": [
    "mk.names=c('qSOFA',\n",
    "           'PCT',\n",
    "           'presepsin',\n",
    "           'CRP',\n",
    "           'CD64',\n",
    "           'IL-6',\n",
    "           'sTREM-1',\n",
    "           'LBP',\n",
    "           'SIRS',\n",
    "           'SOFA')"
   ]
  },
  {
   "cell_type": "markdown",
   "metadata": {},
   "source": [
    "### Data set to used"
   ]
  },
  {
   "cell_type": "code",
   "execution_count": null,
   "metadata": {},
   "outputs": [],
   "source": [
    "filename<-'Sepsis_nma_data.csv'"
   ]
  },
  {
   "cell_type": "markdown",
   "metadata": {},
   "source": [
    "### Parameters lists"
   ]
  },
  {
   "cell_type": "code",
   "execution_count": null,
   "metadata": {},
   "outputs": [],
   "source": [
    "para.ls<-getpara(filename=filename,names.mk=mk.names)\n",
    "para<-para.ls$para\n",
    "data<-para.ls$data"
   ]
  },
  {
   "cell_type": "markdown",
   "metadata": {},
   "source": [
    "### Prepare data for Network Meta-analysis"
   ]
  },
  {
   "cell_type": "code",
   "execution_count": null,
   "metadata": {},
   "outputs": [],
   "source": [
    "para.as.ls.nma<-list(N=nrow(para),\n",
    "                     Nt=length(unique(para$Test)),\n",
    "                     Ns=length(unique(para$Study)),\n",
    "                     TP=para$TP,\n",
    "                     Dis=para$Dis,\n",
    "                     TN=para$TN,\n",
    "                     NDis=para$NDis,\n",
    "                     Study=as.numeric(para$Study),\n",
    "                     Test=para$Test)"
   ]
  },
  {
   "cell_type": "markdown",
   "metadata": {},
   "source": [
    "### Compiling model"
   ]
  },
  {
   "cell_type": "code",
   "execution_count": 11,
   "metadata": {},
   "outputs": [
    {
     "name": "stderr",
     "output_type": "stream",
     "text": [
      "Warning message:\n",
      "\"There were 2 divergent transitions after warmup. See\n",
      "http://mc-stan.org/misc/warnings.html#divergent-transitions-after-warmup\n",
      "to find out why this is a problem and how to eliminate them.\"\n",
      "Warning message:\n",
      "\"There were 1 chains where the estimated Bayesian Fraction of Missing Information was low. See\n",
      "http://mc-stan.org/misc/warnings.html#bfmi-low\"\n",
      "Warning message:\n",
      "\"Examine the pairs() plot to diagnose sampling problems\n",
      "\"\n"
     ]
    }
   ],
   "source": [
    "stan.model.nma<-stan(model_code=stan.code.nma,\n",
    "                     data=para.as.ls.nma, \n",
    "                     iter=1, \n",
    "                     warmup=0, \n",
    "                     chains=2)"
   ]
  },
  {
   "cell_type": "markdown",
   "metadata": {},
   "source": [
    "### Running model"
   ]
  },
  {
   "cell_type": "code",
   "execution_count": 12,
   "metadata": {},
   "outputs": [
    {
     "name": "stderr",
     "output_type": "stream",
     "text": [
      "Warning message:\n",
      "\"There were 3 divergent transitions after warmup. See\n",
      "http://mc-stan.org/misc/warnings.html#divergent-transitions-after-warmup\n",
      "to find out why this is a problem and how to eliminate them.\"\n",
      "Warning message:\n",
      "\"There were 4 chains where the estimated Bayesian Fraction of Missing Information was low. See\n",
      "http://mc-stan.org/misc/warnings.html#bfmi-low\"\n",
      "Warning message:\n",
      "\"Examine the pairs() plot to diagnose sampling problems\n",
      "\"\n",
      "Warning message:\n",
      "\"The largest R-hat is NA, indicating chains have not mixed.\n",
      "Running the chains for more iterations may help. See\n",
      "http://mc-stan.org/misc/warnings.html#r-hat\"\n",
      "Warning message:\n",
      "\"Bulk Effective Samples Size (ESS) is too low, indicating posterior means and medians may be unreliable.\n",
      "Running the chains for more iterations may help. See\n",
      "http://mc-stan.org/misc/warnings.html#bulk-ess\"\n",
      "Warning message:\n",
      "\"Tail Effective Samples Size (ESS) is too low, indicating posterior variances and tail quantiles may be unreliable.\n",
      "Running the chains for more iterations may help. See\n",
      "http://mc-stan.org/misc/warnings.html#tail-ess\"\n"
     ]
    },
    {
     "data": {
      "text/plain": [
       "Time difference of 12.61385 hours"
      ]
     },
     "metadata": {},
     "output_type": "display_data"
    }
   ],
   "source": [
    "start_time <- Sys.time()\n",
    "fit.nma<-stan(fit=stan.model.nma,\n",
    "              data=para.as.ls.nma,\n",
    "              iter=20000,\n",
    "              chains=4,\n",
    "              cores=4,\n",
    "              control=list(adapt_delta=0.99,\n",
    "                           stepsize=0.01,\n",
    "                           max_treedepth=17))\n",
    "end_time <- Sys.time()\n",
    "end_time - start_time"
   ]
  },
  {
   "cell_type": "markdown",
   "metadata": {},
   "source": [
    "### Save the results as .RData and .csv"
   ]
  },
  {
   "cell_type": "code",
   "execution_count": 13,
   "metadata": {},
   "outputs": [],
   "source": [
    "filename.simdata.save<-'fit_nma_simdata_qSOFAasreference.RData'\n",
    "filename.results.save<-'out_nma_sepsis3_qSOFAasreference.csv'\n",
    "results.nma<-fit.extract(fit.data=fit.nma,filename.save=filename.simdata.save)\n",
    "results.nma.95<-get.nma(data.ls=list(mk=mk.names[unique(para$Test)],\n",
    "                                         data.nma=results.nma),mk.names=mk.names,\n",
    "                            conf=95)\n",
    "write.csv(results.nma.95,filename.results.save)"
   ]
  },
  {
   "cell_type": "markdown",
   "metadata": {},
   "source": [
    "### Print the results of pooled sensitivity and specificity from Network Meta-analysis"
   ]
  },
  {
   "cell_type": "code",
   "execution_count": 14,
   "metadata": {},
   "outputs": [
    {
     "data": {
      "text/html": [
       "<table class=\"dataframe\">\n",
       "<caption>A data.frame: 10 × 6</caption>\n",
       "<thead>\n",
       "\t<tr><th></th><th scope=col>mean_sp</th><th scope=col>ub_sp</th><th scope=col>lb_sp</th><th scope=col>mean_se</th><th scope=col>ub_se</th><th scope=col>lb_se</th></tr>\n",
       "\t<tr><th></th><th scope=col>&lt;dbl&gt;</th><th scope=col>&lt;dbl&gt;</th><th scope=col>&lt;dbl&gt;</th><th scope=col>&lt;dbl&gt;</th><th scope=col>&lt;dbl&gt;</th><th scope=col>&lt;dbl&gt;</th></tr>\n",
       "</thead>\n",
       "<tbody>\n",
       "\t<tr><th scope=row>qSOFA</th><td>0.9350399</td><td>0.9851064</td><td>0.7152199</td><td>0.3441670</td><td>0.5782082</td><td>0.1758317</td></tr>\n",
       "\t<tr><th scope=row>PCT</th><td>0.7479259</td><td>0.7720325</td><td>0.7205966</td><td>0.7355990</td><td>0.7612861</td><td>0.7070737</td></tr>\n",
       "\t<tr><th scope=row>presepsin</th><td>0.7328942</td><td>0.7937598</td><td>0.6529221</td><td>0.7983973</td><td>0.8487443</td><td>0.7378142</td></tr>\n",
       "\t<tr><th scope=row>CRP</th><td>0.7022493</td><td>0.7442045</td><td>0.6570001</td><td>0.6793854</td><td>0.7225907</td><td>0.6322632</td></tr>\n",
       "\t<tr><th scope=row>CD64</th><td>0.7825432</td><td>0.9089204</td><td>0.5728038</td><td>0.7869876</td><td>0.9242837</td><td>0.5304800</td></tr>\n",
       "\t<tr><th scope=row>IL-6</th><td>0.7445243</td><td>0.8390475</td><td>0.6297946</td><td>0.7220959</td><td>0.7947150</td><td>0.6369029</td></tr>\n",
       "\t<tr><th scope=row>sTREM-1</th><td>0.7599295</td><td>0.9364470</td><td>0.3599408</td><td>0.5090747</td><td>0.8029378</td><td>0.2181196</td></tr>\n",
       "\t<tr><th scope=row>LBP</th><td>0.5980572</td><td>0.8360774</td><td>0.2872839</td><td>0.6146363</td><td>0.8459895</td><td>0.2868398</td></tr>\n",
       "\t<tr><th scope=row>SIRS</th><td>0.5298767</td><td>0.6749732</td><td>0.3716796</td><td>0.7698001</td><td>0.8709361</td><td>0.6088603</td></tr>\n",
       "\t<tr><th scope=row>SOFA</th><td>0.8145416</td><td>0.9038454</td><td>0.6757202</td><td>0.5623407</td><td>0.6798560</td><td>0.4299383</td></tr>\n",
       "</tbody>\n",
       "</table>\n"
      ],
      "text/latex": [
       "A data.frame: 10 × 6\n",
       "\\begin{tabular}{r|llllll}\n",
       "  & mean\\_sp & ub\\_sp & lb\\_sp & mean\\_se & ub\\_se & lb\\_se\\\\\n",
       "  & <dbl> & <dbl> & <dbl> & <dbl> & <dbl> & <dbl>\\\\\n",
       "\\hline\n",
       "\tqSOFA & 0.9350399 & 0.9851064 & 0.7152199 & 0.3441670 & 0.5782082 & 0.1758317\\\\\n",
       "\tPCT & 0.7479259 & 0.7720325 & 0.7205966 & 0.7355990 & 0.7612861 & 0.7070737\\\\\n",
       "\tpresepsin & 0.7328942 & 0.7937598 & 0.6529221 & 0.7983973 & 0.8487443 & 0.7378142\\\\\n",
       "\tCRP & 0.7022493 & 0.7442045 & 0.6570001 & 0.6793854 & 0.7225907 & 0.6322632\\\\\n",
       "\tCD64 & 0.7825432 & 0.9089204 & 0.5728038 & 0.7869876 & 0.9242837 & 0.5304800\\\\\n",
       "\tIL-6 & 0.7445243 & 0.8390475 & 0.6297946 & 0.7220959 & 0.7947150 & 0.6369029\\\\\n",
       "\tsTREM-1 & 0.7599295 & 0.9364470 & 0.3599408 & 0.5090747 & 0.8029378 & 0.2181196\\\\\n",
       "\tLBP & 0.5980572 & 0.8360774 & 0.2872839 & 0.6146363 & 0.8459895 & 0.2868398\\\\\n",
       "\tSIRS & 0.5298767 & 0.6749732 & 0.3716796 & 0.7698001 & 0.8709361 & 0.6088603\\\\\n",
       "\tSOFA & 0.8145416 & 0.9038454 & 0.6757202 & 0.5623407 & 0.6798560 & 0.4299383\\\\\n",
       "\\end{tabular}\n"
      ],
      "text/markdown": [
       "\n",
       "A data.frame: 10 × 6\n",
       "\n",
       "| <!--/--> | mean_sp &lt;dbl&gt; | ub_sp &lt;dbl&gt; | lb_sp &lt;dbl&gt; | mean_se &lt;dbl&gt; | ub_se &lt;dbl&gt; | lb_se &lt;dbl&gt; |\n",
       "|---|---|---|---|---|---|---|\n",
       "| qSOFA | 0.9350399 | 0.9851064 | 0.7152199 | 0.3441670 | 0.5782082 | 0.1758317 |\n",
       "| PCT | 0.7479259 | 0.7720325 | 0.7205966 | 0.7355990 | 0.7612861 | 0.7070737 |\n",
       "| presepsin | 0.7328942 | 0.7937598 | 0.6529221 | 0.7983973 | 0.8487443 | 0.7378142 |\n",
       "| CRP | 0.7022493 | 0.7442045 | 0.6570001 | 0.6793854 | 0.7225907 | 0.6322632 |\n",
       "| CD64 | 0.7825432 | 0.9089204 | 0.5728038 | 0.7869876 | 0.9242837 | 0.5304800 |\n",
       "| IL-6 | 0.7445243 | 0.8390475 | 0.6297946 | 0.7220959 | 0.7947150 | 0.6369029 |\n",
       "| sTREM-1 | 0.7599295 | 0.9364470 | 0.3599408 | 0.5090747 | 0.8029378 | 0.2181196 |\n",
       "| LBP | 0.5980572 | 0.8360774 | 0.2872839 | 0.6146363 | 0.8459895 | 0.2868398 |\n",
       "| SIRS | 0.5298767 | 0.6749732 | 0.3716796 | 0.7698001 | 0.8709361 | 0.6088603 |\n",
       "| SOFA | 0.8145416 | 0.9038454 | 0.6757202 | 0.5623407 | 0.6798560 | 0.4299383 |\n",
       "\n"
      ],
      "text/plain": [
       "          mean_sp   ub_sp     lb_sp     mean_se   ub_se     lb_se    \n",
       "qSOFA     0.9350399 0.9851064 0.7152199 0.3441670 0.5782082 0.1758317\n",
       "PCT       0.7479259 0.7720325 0.7205966 0.7355990 0.7612861 0.7070737\n",
       "presepsin 0.7328942 0.7937598 0.6529221 0.7983973 0.8487443 0.7378142\n",
       "CRP       0.7022493 0.7442045 0.6570001 0.6793854 0.7225907 0.6322632\n",
       "CD64      0.7825432 0.9089204 0.5728038 0.7869876 0.9242837 0.5304800\n",
       "IL-6      0.7445243 0.8390475 0.6297946 0.7220959 0.7947150 0.6369029\n",
       "sTREM-1   0.7599295 0.9364470 0.3599408 0.5090747 0.8029378 0.2181196\n",
       "LBP       0.5980572 0.8360774 0.2872839 0.6146363 0.8459895 0.2868398\n",
       "SIRS      0.5298767 0.6749732 0.3716796 0.7698001 0.8709361 0.6088603\n",
       "SOFA      0.8145416 0.9038454 0.6757202 0.5623407 0.6798560 0.4299383"
      ]
     },
     "metadata": {},
     "output_type": "display_data"
    }
   ],
   "source": [
    "rownames(results.nma.95$mu)=c('qSOFA','PCT','presepsin','CRP','CD64','IL-6','sTREM-1','LBP','SIRS','SOFA')\n",
    "results.nma.95$mu"
   ]
  },
  {
   "cell_type": "markdown",
   "metadata": {},
   "source": [
    "### Print the results of pooled DOR from Network Meta-analysis"
   ]
  },
  {
   "cell_type": "code",
   "execution_count": 15,
   "metadata": {},
   "outputs": [
    {
     "data": {
      "text/html": [
       "<table class=\"dataframe\">\n",
       "<caption>A data.frame: 10 × 3</caption>\n",
       "<thead>\n",
       "\t<tr><th></th><th scope=col>mean</th><th scope=col>ub</th><th scope=col>lb</th></tr>\n",
       "\t<tr><th></th><th scope=col>&lt;dbl&gt;</th><th scope=col>&lt;dbl&gt;</th><th scope=col>&lt;dbl&gt;</th></tr>\n",
       "</thead>\n",
       "<tbody>\n",
       "\t<tr><th scope=row>qSOFA</th><td>14.443244</td><td>46.480593</td><td>1.1222626</td></tr>\n",
       "\t<tr><th scope=row>PCT</th><td> 8.314756</td><td> 9.949846</td><td>6.8265738</td></tr>\n",
       "\t<tr><th scope=row>presepsin</th><td>11.372290</td><td>17.581497</td><td>6.5560658</td></tr>\n",
       "\t<tr><th scope=row>CRP</th><td> 5.072736</td><td> 6.628437</td><td>3.7886449</td></tr>\n",
       "\t<tr><th scope=row>CD64</th><td>20.560039</td><td>65.251860</td><td>3.1663166</td></tr>\n",
       "\t<tr><th scope=row>IL-6</th><td> 8.232974</td><td>15.037211</td><td>4.0102368</td></tr>\n",
       "\t<tr><th scope=row>sTREM-1</th><td> 6.435750</td><td>26.593486</td><td>0.4222318</td></tr>\n",
       "\t<tr><th scope=row>LBP</th><td> 3.703925</td><td>13.032341</td><td>0.3917135</td></tr>\n",
       "\t<tr><th scope=row>SIRS</th><td> 4.337863</td><td> 9.251447</td><td>1.4698339</td></tr>\n",
       "\t<tr><th scope=row>SOFA</th><td> 6.550304</td><td>13.845146</td><td>2.3031518</td></tr>\n",
       "</tbody>\n",
       "</table>\n"
      ],
      "text/latex": [
       "A data.frame: 10 × 3\n",
       "\\begin{tabular}{r|lll}\n",
       "  & mean & ub & lb\\\\\n",
       "  & <dbl> & <dbl> & <dbl>\\\\\n",
       "\\hline\n",
       "\tqSOFA & 14.443244 & 46.480593 & 1.1222626\\\\\n",
       "\tPCT &  8.314756 &  9.949846 & 6.8265738\\\\\n",
       "\tpresepsin & 11.372290 & 17.581497 & 6.5560658\\\\\n",
       "\tCRP &  5.072736 &  6.628437 & 3.7886449\\\\\n",
       "\tCD64 & 20.560039 & 65.251860 & 3.1663166\\\\\n",
       "\tIL-6 &  8.232974 & 15.037211 & 4.0102368\\\\\n",
       "\tsTREM-1 &  6.435750 & 26.593486 & 0.4222318\\\\\n",
       "\tLBP &  3.703925 & 13.032341 & 0.3917135\\\\\n",
       "\tSIRS &  4.337863 &  9.251447 & 1.4698339\\\\\n",
       "\tSOFA &  6.550304 & 13.845146 & 2.3031518\\\\\n",
       "\\end{tabular}\n"
      ],
      "text/markdown": [
       "\n",
       "A data.frame: 10 × 3\n",
       "\n",
       "| <!--/--> | mean &lt;dbl&gt; | ub &lt;dbl&gt; | lb &lt;dbl&gt; |\n",
       "|---|---|---|---|\n",
       "| qSOFA | 14.443244 | 46.480593 | 1.1222626 |\n",
       "| PCT |  8.314756 |  9.949846 | 6.8265738 |\n",
       "| presepsin | 11.372290 | 17.581497 | 6.5560658 |\n",
       "| CRP |  5.072736 |  6.628437 | 3.7886449 |\n",
       "| CD64 | 20.560039 | 65.251860 | 3.1663166 |\n",
       "| IL-6 |  8.232974 | 15.037211 | 4.0102368 |\n",
       "| sTREM-1 |  6.435750 | 26.593486 | 0.4222318 |\n",
       "| LBP |  3.703925 | 13.032341 | 0.3917135 |\n",
       "| SIRS |  4.337863 |  9.251447 | 1.4698339 |\n",
       "| SOFA |  6.550304 | 13.845146 | 2.3031518 |\n",
       "\n"
      ],
      "text/plain": [
       "          mean      ub        lb       \n",
       "qSOFA     14.443244 46.480593 1.1222626\n",
       "PCT        8.314756  9.949846 6.8265738\n",
       "presepsin 11.372290 17.581497 6.5560658\n",
       "CRP        5.072736  6.628437 3.7886449\n",
       "CD64      20.560039 65.251860 3.1663166\n",
       "IL-6       8.232974 15.037211 4.0102368\n",
       "sTREM-1    6.435750 26.593486 0.4222318\n",
       "LBP        3.703925 13.032341 0.3917135\n",
       "SIRS       4.337863  9.251447 1.4698339\n",
       "SOFA       6.550304 13.845146 2.3031518"
      ]
     },
     "metadata": {},
     "output_type": "display_data"
    }
   ],
   "source": [
    "rownames(results.nma.95$dor)=c('qSOFA','PCT','presepsin','CRP','CD64','IL-6','sTREM-1','LBP','SIRS','SOFA')\n",
    "results.nma.95$dor"
   ]
  },
  {
   "cell_type": "markdown",
   "metadata": {},
   "source": [
    "### Print the results of pooled Superiority index from Network Meta-analysis"
   ]
  },
  {
   "cell_type": "code",
   "execution_count": 16,
   "metadata": {},
   "outputs": [
    {
     "data": {
      "text/html": [
       "<table class=\"dataframe\">\n",
       "<caption>A data.frame: 10 × 3</caption>\n",
       "<thead>\n",
       "\t<tr><th></th><th scope=col>mean</th><th scope=col>ub</th><th scope=col>lb</th></tr>\n",
       "\t<tr><th></th><th scope=col>&lt;dbl&gt;</th><th scope=col>&lt;dbl&gt;</th><th scope=col>&lt;dbl&gt;</th></tr>\n",
       "</thead>\n",
       "<tbody>\n",
       "\t<tr><th scope=row>qSOFA</th><td>1.4664688</td><td> 5</td><td>0.09090909</td></tr>\n",
       "\t<tr><th scope=row>PCT</th><td>3.0241305</td><td> 9</td><td>0.60000000</td></tr>\n",
       "\t<tr><th scope=row>presepsin</th><td>5.8816784</td><td>13</td><td>1.00000000</td></tr>\n",
       "\t<tr><th scope=row>CRP</th><td>0.4295164</td><td> 1</td><td>0.09090909</td></tr>\n",
       "\t<tr><th scope=row>CD64</th><td>9.3992845</td><td>17</td><td>0.20000000</td></tr>\n",
       "\t<tr><th scope=row>IL-6</th><td>2.9691787</td><td>11</td><td>0.14285714</td></tr>\n",
       "\t<tr><th scope=row>sTREM-1</th><td>1.6088342</td><td>11</td><td>0.05882353</td></tr>\n",
       "\t<tr><th scope=row>LBP</th><td>0.6456096</td><td> 5</td><td>0.05882353</td></tr>\n",
       "\t<tr><th scope=row>SIRS</th><td>0.7163563</td><td> 3</td><td>0.07692308</td></tr>\n",
       "\t<tr><th scope=row>SOFA</th><td>1.7611805</td><td> 7</td><td>0.09090909</td></tr>\n",
       "</tbody>\n",
       "</table>\n"
      ],
      "text/latex": [
       "A data.frame: 10 × 3\n",
       "\\begin{tabular}{r|lll}\n",
       "  & mean & ub & lb\\\\\n",
       "  & <dbl> & <dbl> & <dbl>\\\\\n",
       "\\hline\n",
       "\tqSOFA & 1.4664688 &  5 & 0.09090909\\\\\n",
       "\tPCT & 3.0241305 &  9 & 0.60000000\\\\\n",
       "\tpresepsin & 5.8816784 & 13 & 1.00000000\\\\\n",
       "\tCRP & 0.4295164 &  1 & 0.09090909\\\\\n",
       "\tCD64 & 9.3992845 & 17 & 0.20000000\\\\\n",
       "\tIL-6 & 2.9691787 & 11 & 0.14285714\\\\\n",
       "\tsTREM-1 & 1.6088342 & 11 & 0.05882353\\\\\n",
       "\tLBP & 0.6456096 &  5 & 0.05882353\\\\\n",
       "\tSIRS & 0.7163563 &  3 & 0.07692308\\\\\n",
       "\tSOFA & 1.7611805 &  7 & 0.09090909\\\\\n",
       "\\end{tabular}\n"
      ],
      "text/markdown": [
       "\n",
       "A data.frame: 10 × 3\n",
       "\n",
       "| <!--/--> | mean &lt;dbl&gt; | ub &lt;dbl&gt; | lb &lt;dbl&gt; |\n",
       "|---|---|---|---|\n",
       "| qSOFA | 1.4664688 |  5 | 0.09090909 |\n",
       "| PCT | 3.0241305 |  9 | 0.60000000 |\n",
       "| presepsin | 5.8816784 | 13 | 1.00000000 |\n",
       "| CRP | 0.4295164 |  1 | 0.09090909 |\n",
       "| CD64 | 9.3992845 | 17 | 0.20000000 |\n",
       "| IL-6 | 2.9691787 | 11 | 0.14285714 |\n",
       "| sTREM-1 | 1.6088342 | 11 | 0.05882353 |\n",
       "| LBP | 0.6456096 |  5 | 0.05882353 |\n",
       "| SIRS | 0.7163563 |  3 | 0.07692308 |\n",
       "| SOFA | 1.7611805 |  7 | 0.09090909 |\n",
       "\n"
      ],
      "text/plain": [
       "          mean      ub lb        \n",
       "qSOFA     1.4664688  5 0.09090909\n",
       "PCT       3.0241305  9 0.60000000\n",
       "presepsin 5.8816784 13 1.00000000\n",
       "CRP       0.4295164  1 0.09090909\n",
       "CD64      9.3992845 17 0.20000000\n",
       "IL-6      2.9691787 11 0.14285714\n",
       "sTREM-1   1.6088342 11 0.05882353\n",
       "LBP       0.6456096  5 0.05882353\n",
       "SIRS      0.7163563  3 0.07692308\n",
       "SOFA      1.7611805  7 0.09090909"
      ]
     },
     "metadata": {},
     "output_type": "display_data"
    }
   ],
   "source": [
    "rownames(results.nma.95$sindex)=c('qSOFA','PCT','presepsin','CRP','CD64','IL-6','sTREM-1','LBP','SIRS','SOFA')\n",
    "results.nma.95$sindex"
   ]
  },
  {
   "cell_type": "markdown",
   "metadata": {},
   "source": [
    "### Print the results of pooled Superiority index for Sensitivity from Network Meta-analysis"
   ]
  },
  {
   "cell_type": "code",
   "execution_count": 17,
   "metadata": {},
   "outputs": [
    {
     "data": {
      "text/html": [
       "<table class=\"dataframe\">\n",
       "<caption>A data.frame: 10 × 3</caption>\n",
       "<thead>\n",
       "\t<tr><th></th><th scope=col>mean</th><th scope=col>ub</th><th scope=col>lb</th></tr>\n",
       "\t<tr><th></th><th scope=col>&lt;dbl&gt;</th><th scope=col>&lt;dbl&gt;</th><th scope=col>&lt;dbl&gt;</th></tr>\n",
       "</thead>\n",
       "<tbody>\n",
       "\t<tr><th scope=row>qSOFA</th><td> 0.1020947</td><td> 0.3333333</td><td>0.05263158</td></tr>\n",
       "\t<tr><th scope=row>PCT</th><td> 2.0154658</td><td> 5.6666667</td><td>0.81818182</td></tr>\n",
       "\t<tr><th scope=row>presepsin</th><td> 8.6837312</td><td>19.0000000</td><td>1.85714286</td></tr>\n",
       "\t<tr><th scope=row>CRP</th><td> 0.8413185</td><td> 1.8571429</td><td>0.33333333</td></tr>\n",
       "\t<tr><th scope=row>CD64</th><td>10.0677703</td><td>19.0000000</td><td>0.33333333</td></tr>\n",
       "\t<tr><th scope=row>IL-6</th><td> 1.9551572</td><td> 5.6666667</td><td>0.53846154</td></tr>\n",
       "\t<tr><th scope=row>sTREM-1</th><td> 0.7176841</td><td> 5.6666667</td><td>0.05263158</td></tr>\n",
       "\t<tr><th scope=row>LBP</th><td> 1.5406844</td><td>19.0000000</td><td>0.05263158</td></tr>\n",
       "\t<tr><th scope=row>SIRS</th><td> 6.3767813</td><td>19.0000000</td><td>0.53846154</td></tr>\n",
       "\t<tr><th scope=row>SOFA</th><td> 0.3644230</td><td> 0.8181818</td><td>0.17647059</td></tr>\n",
       "</tbody>\n",
       "</table>\n"
      ],
      "text/latex": [
       "A data.frame: 10 × 3\n",
       "\\begin{tabular}{r|lll}\n",
       "  & mean & ub & lb\\\\\n",
       "  & <dbl> & <dbl> & <dbl>\\\\\n",
       "\\hline\n",
       "\tqSOFA &  0.1020947 &  0.3333333 & 0.05263158\\\\\n",
       "\tPCT &  2.0154658 &  5.6666667 & 0.81818182\\\\\n",
       "\tpresepsin &  8.6837312 & 19.0000000 & 1.85714286\\\\\n",
       "\tCRP &  0.8413185 &  1.8571429 & 0.33333333\\\\\n",
       "\tCD64 & 10.0677703 & 19.0000000 & 0.33333333\\\\\n",
       "\tIL-6 &  1.9551572 &  5.6666667 & 0.53846154\\\\\n",
       "\tsTREM-1 &  0.7176841 &  5.6666667 & 0.05263158\\\\\n",
       "\tLBP &  1.5406844 & 19.0000000 & 0.05263158\\\\\n",
       "\tSIRS &  6.3767813 & 19.0000000 & 0.53846154\\\\\n",
       "\tSOFA &  0.3644230 &  0.8181818 & 0.17647059\\\\\n",
       "\\end{tabular}\n"
      ],
      "text/markdown": [
       "\n",
       "A data.frame: 10 × 3\n",
       "\n",
       "| <!--/--> | mean &lt;dbl&gt; | ub &lt;dbl&gt; | lb &lt;dbl&gt; |\n",
       "|---|---|---|---|\n",
       "| qSOFA |  0.1020947 |  0.3333333 | 0.05263158 |\n",
       "| PCT |  2.0154658 |  5.6666667 | 0.81818182 |\n",
       "| presepsin |  8.6837312 | 19.0000000 | 1.85714286 |\n",
       "| CRP |  0.8413185 |  1.8571429 | 0.33333333 |\n",
       "| CD64 | 10.0677703 | 19.0000000 | 0.33333333 |\n",
       "| IL-6 |  1.9551572 |  5.6666667 | 0.53846154 |\n",
       "| sTREM-1 |  0.7176841 |  5.6666667 | 0.05263158 |\n",
       "| LBP |  1.5406844 | 19.0000000 | 0.05263158 |\n",
       "| SIRS |  6.3767813 | 19.0000000 | 0.53846154 |\n",
       "| SOFA |  0.3644230 |  0.8181818 | 0.17647059 |\n",
       "\n"
      ],
      "text/plain": [
       "          mean       ub         lb        \n",
       "qSOFA      0.1020947  0.3333333 0.05263158\n",
       "PCT        2.0154658  5.6666667 0.81818182\n",
       "presepsin  8.6837312 19.0000000 1.85714286\n",
       "CRP        0.8413185  1.8571429 0.33333333\n",
       "CD64      10.0677703 19.0000000 0.33333333\n",
       "IL-6       1.9551572  5.6666667 0.53846154\n",
       "sTREM-1    0.7176841  5.6666667 0.05263158\n",
       "LBP        1.5406844 19.0000000 0.05263158\n",
       "SIRS       6.3767813 19.0000000 0.53846154\n",
       "SOFA       0.3644230  0.8181818 0.17647059"
      ]
     },
     "metadata": {},
     "output_type": "display_data"
    }
   ],
   "source": [
    "rownames(results.nma.95$sindex_se)=c('qSOFA','PCT','presepsin','CRP','CD64','IL-6','sTREM-1','LBP','SIRS','SOFA')\n",
    "results.nma.95$sindex_se"
   ]
  },
  {
   "cell_type": "markdown",
   "metadata": {},
   "source": [
    "### Print the results of pooled Superiority index for Specificity from Network Meta-analysis"
   ]
  },
  {
   "cell_type": "code",
   "execution_count": 18,
   "metadata": {},
   "outputs": [
    {
     "data": {
      "text/html": [
       "<table class=\"dataframe\">\n",
       "<caption>A data.frame: 10 × 3</caption>\n",
       "<thead>\n",
       "\t<tr><th></th><th scope=col>mean</th><th scope=col>ub</th><th scope=col>lb</th></tr>\n",
       "\t<tr><th></th><th scope=col>&lt;dbl&gt;</th><th scope=col>&lt;dbl&gt;</th><th scope=col>&lt;dbl&gt;</th></tr>\n",
       "</thead>\n",
       "<tbody>\n",
       "\t<tr><th scope=row>qSOFA</th><td>17.1766824</td><td>19.0000000</td><td>0.53846154</td></tr>\n",
       "\t<tr><th scope=row>PCT</th><td> 1.2779094</td><td> 3.0000000</td><td>0.53846154</td></tr>\n",
       "\t<tr><th scope=row>presepsin</th><td> 1.0677171</td><td> 3.0000000</td><td>0.17647059</td></tr>\n",
       "\t<tr><th scope=row>CRP</th><td> 0.5152468</td><td> 1.2222222</td><td>0.17647059</td></tr>\n",
       "\t<tr><th scope=row>CD64</th><td> 3.0148812</td><td> 5.6666667</td><td>0.17647059</td></tr>\n",
       "\t<tr><th scope=row>IL-6</th><td> 1.4688587</td><td> 5.6666667</td><td>0.17647059</td></tr>\n",
       "\t<tr><th scope=row>sTREM-1</th><td> 3.5072922</td><td>19.0000000</td><td>0.05263158</td></tr>\n",
       "\t<tr><th scope=row>LBP</th><td> 0.5707948</td><td> 5.6666667</td><td>0.05263158</td></tr>\n",
       "\t<tr><th scope=row>SIRS</th><td> 0.1207383</td><td> 0.3333333</td><td>0.05263158</td></tr>\n",
       "\t<tr><th scope=row>SOFA</th><td> 3.9449898</td><td>19.0000000</td><td>0.33333333</td></tr>\n",
       "</tbody>\n",
       "</table>\n"
      ],
      "text/latex": [
       "A data.frame: 10 × 3\n",
       "\\begin{tabular}{r|lll}\n",
       "  & mean & ub & lb\\\\\n",
       "  & <dbl> & <dbl> & <dbl>\\\\\n",
       "\\hline\n",
       "\tqSOFA & 17.1766824 & 19.0000000 & 0.53846154\\\\\n",
       "\tPCT &  1.2779094 &  3.0000000 & 0.53846154\\\\\n",
       "\tpresepsin &  1.0677171 &  3.0000000 & 0.17647059\\\\\n",
       "\tCRP &  0.5152468 &  1.2222222 & 0.17647059\\\\\n",
       "\tCD64 &  3.0148812 &  5.6666667 & 0.17647059\\\\\n",
       "\tIL-6 &  1.4688587 &  5.6666667 & 0.17647059\\\\\n",
       "\tsTREM-1 &  3.5072922 & 19.0000000 & 0.05263158\\\\\n",
       "\tLBP &  0.5707948 &  5.6666667 & 0.05263158\\\\\n",
       "\tSIRS &  0.1207383 &  0.3333333 & 0.05263158\\\\\n",
       "\tSOFA &  3.9449898 & 19.0000000 & 0.33333333\\\\\n",
       "\\end{tabular}\n"
      ],
      "text/markdown": [
       "\n",
       "A data.frame: 10 × 3\n",
       "\n",
       "| <!--/--> | mean &lt;dbl&gt; | ub &lt;dbl&gt; | lb &lt;dbl&gt; |\n",
       "|---|---|---|---|\n",
       "| qSOFA | 17.1766824 | 19.0000000 | 0.53846154 |\n",
       "| PCT |  1.2779094 |  3.0000000 | 0.53846154 |\n",
       "| presepsin |  1.0677171 |  3.0000000 | 0.17647059 |\n",
       "| CRP |  0.5152468 |  1.2222222 | 0.17647059 |\n",
       "| CD64 |  3.0148812 |  5.6666667 | 0.17647059 |\n",
       "| IL-6 |  1.4688587 |  5.6666667 | 0.17647059 |\n",
       "| sTREM-1 |  3.5072922 | 19.0000000 | 0.05263158 |\n",
       "| LBP |  0.5707948 |  5.6666667 | 0.05263158 |\n",
       "| SIRS |  0.1207383 |  0.3333333 | 0.05263158 |\n",
       "| SOFA |  3.9449898 | 19.0000000 | 0.33333333 |\n",
       "\n"
      ],
      "text/plain": [
       "          mean       ub         lb        \n",
       "qSOFA     17.1766824 19.0000000 0.53846154\n",
       "PCT        1.2779094  3.0000000 0.53846154\n",
       "presepsin  1.0677171  3.0000000 0.17647059\n",
       "CRP        0.5152468  1.2222222 0.17647059\n",
       "CD64       3.0148812  5.6666667 0.17647059\n",
       "IL-6       1.4688587  5.6666667 0.17647059\n",
       "sTREM-1    3.5072922 19.0000000 0.05263158\n",
       "LBP        0.5707948  5.6666667 0.05263158\n",
       "SIRS       0.1207383  0.3333333 0.05263158\n",
       "SOFA       3.9449898 19.0000000 0.33333333"
      ]
     },
     "metadata": {},
     "output_type": "display_data"
    }
   ],
   "source": [
    "rownames(results.nma.95$sindex_sp)=c('qSOFA','PCT','presepsin','CRP','CD64','IL-6','sTREM-1','LBP','SIRS','SOFA')\n",
    "results.nma.95$sindex_sp"
   ]
  },
  {
   "cell_type": "markdown",
   "metadata": {},
   "source": [
    "##################################################################################\n",
    "###                          Univariable Network meta-regression                         ###\n",
    "##################################################################################"
   ]
  },
  {
   "cell_type": "markdown",
   "metadata": {},
   "source": [
    "### Define a function to get the results from Univariable Network Meta-regression"
   ]
  },
  {
   "cell_type": "code",
   "execution_count": null,
   "metadata": {},
   "outputs": [],
   "source": [
    "get.nma.1mk<-function(data.ls=NULL,mk.names=NULL,n.study=1,conf=95){\n",
    "\t           data.nma<-data.ls$data.nma\n",
    "\t           func.ub<-NULL\n",
    "\t           func.lb<-NULL\n",
    "\t           if(conf==95){\n",
    "\t\t                      func.ub<-get.ub.95\n",
    "\t\t                      func.lb<-get.lb.95\n",
    "\t           } else if(conf==90){\n",
    "\t\t                             func.ub<-get.ub.90\n",
    "\t\t                             func.lb<-get.lb.90\n",
    "\t           }\n",
    "\t           data.nma.muse<-data.nma[paste('MU[',1,',',1:length(data.ls$mk),']',sep='')]\n",
    "\t           data.nma.musp<-data.nma[paste('MU[',2,',',1:length(data.ls$mk),']',sep='')]\n",
    "\t           data.nma.rrse<-data.nma[paste('RR[',1,',',1:length(data.ls$mk),']',sep='')]\n",
    "\t           data.nma.rrsp<-data.nma[paste('RR[',2,',',1:length(data.ls$mk),']',sep='')]\n",
    "\t           data.nma.orse<-data.nma[paste('OR[',1,',',1:length(data.ls$mk),']',sep='')]\n",
    "\t           data.nma.orsp<-data.nma[paste('OR[',2,',',1:length(data.ls$mk),']',sep='')]\n",
    "\t           data.nma.dor<-data.nma[paste('DOR[',1:length(data.ls$mk),']',sep='')]\n",
    "\t           data.nma.sindex<-data.nma[paste('S[',1:length(data.ls$mk),']',sep='')]\n",
    "\t           data.nma.sindex_se<-data.nma[paste('S_se[',1:length(data.ls$mk),']',sep='')]\n",
    "\t           data.nma.sindex_sp<-data.nma[paste('S_sp[',1:length(data.ls$mk),']',sep='')]\n",
    "\t           data.nma.beta1se<-data.nma[paste('beta1[1,',1:length(data.ls$mk),']',sep='')]\n",
    "\t           data.nma.beta1sp<-data.nma[paste('beta1[2,',1:length(data.ls$mk),']',sep='')]\n",
    "\t           mu.info<-data.frame(mean_sp=array(unlist(lapply(data.nma.musp,mean))),\n",
    "\t                               ub_sp=array(unlist(lapply(data.nma.musp,func.ub))),\n",
    "\t                               lb_sp=array(unlist(lapply(data.nma.musp,func.lb))),\n",
    "\t                               mean_se=array(unlist(lapply(data.nma.muse,mean))),\n",
    "\t                               ub_se=array(unlist(lapply(data.nma.muse,func.ub))),\n",
    "\t                               lb_se=array(unlist(lapply(data.nma.muse,func.lb))))\n",
    "\t           rr.info<-data.frame(mean_sp=array(unlist(lapply(data.nma.rrsp,mean))),\n",
    "\t                               ub_sp=array(unlist(lapply(data.nma.rrsp,func.ub))),\n",
    "\t                               lb_sp=array(unlist(lapply(data.nma.rrsp,func.lb))),\n",
    "\t                               mean_se=array(unlist(lapply(data.nma.rrse,mean))),\n",
    "\t                               ub_se=array(unlist(lapply(data.nma.rrse,func.ub))),\n",
    "\t                               lb_se=array(unlist(lapply(data.nma.rrse,func.lb))))\n",
    "\t           or.info<-data.frame(mean_sp=array(unlist(lapply(data.nma.orsp,mean))),\n",
    "\t                               ub_sp=array(unlist(lapply(data.nma.orsp,func.ub))),\n",
    "\t                               lb_sp=array(unlist(lapply(data.nma.orsp,func.lb))),\n",
    "\t                               mean_se=array(unlist(lapply(data.nma.orse,mean))),\n",
    "\t                               ub_se=array(unlist(lapply(data.nma.orse,func.ub))),\n",
    "\t                               lb_se=array(unlist(lapply(data.nma.orse,func.lb))))\n",
    "\t           dor.info<-data.frame(mean=array(unlist(lapply(data.nma.dor,mean))),\n",
    "\t                                ub=array(unlist(lapply(data.nma.dor,func.ub))),\n",
    "\t                                lb=array(unlist(lapply(data.nma.dor,func.lb))))\n",
    "\t           sindex.info<-data.frame(mean=array(unlist(lapply(data.nma.sindex,mean))),\n",
    "\t                                   ub=array(unlist(lapply(data.nma.sindex,func.ub))),\n",
    "\t                                   lb=array(unlist(lapply(data.nma.sindex,func.lb))))\n",
    "\t           sindex_se.info<-data.frame(mean=array(unlist(lapply(data.nma.sindex_se,mean))),\n",
    "\t                                      ub=array(unlist(lapply(data.nma.sindex_se,func.ub))),\n",
    "\t                                      lb=array(unlist(lapply(data.nma.sindex_se,func.lb))))\n",
    "\t           sindex_sp.info<-data.frame(mean=array(unlist(lapply(data.nma.sindex_sp,mean))),\n",
    "\t                                      ub=array(unlist(lapply(data.nma.sindex_sp,func.ub))),\n",
    "\t                                      lb=array(unlist(lapply(data.nma.sindex_sp,func.lb))))\n",
    "\t           beta1.info<-data.frame(mean_sp=array(unlist(lapply(data.nma.beta1sp,mean))),\n",
    "\t                                  ub_sp=array(unlist(lapply(data.nma.beta1sp,func.ub))),\n",
    "\t                                  lb_sp=array(unlist(lapply(data.nma.beta1sp,func.lb))),\n",
    "\t                                  mean_se=array(unlist(lapply(data.nma.beta1se,mean))),\n",
    "\t                                  ub_se=array(unlist(lapply(data.nma.beta1se,func.ub))),\n",
    "\t                                  lb_se=array(unlist(lapply(data.nma.beta1se,func.lb))))\n",
    "\t           results.nma<-list(marker=mk.names[mk.names %in% data.ls$mk],\n",
    "\t                             mu=mu.info,\n",
    "\t                             rr=rr.info,\n",
    "\t                             or=or.info,\n",
    "\t                             dor=dor.info,\n",
    "\t                             sindex=sindex.info,\n",
    "\t                             sindex_se=sindex_se.info,\n",
    "\t                             sindex_sp=sindex_sp.info,\n",
    "\t                             beta1=beta1.info)\n",
    "\treturn(results.nma)\n",
    "}"
   ]
  },
  {
   "cell_type": "markdown",
   "metadata": {},
   "source": [
    "### Univariable Network Meta-regression (STAN code)"
   ]
  },
  {
   "cell_type": "code",
   "execution_count": null,
   "metadata": {},
   "outputs": [],
   "source": [
    "stan.code.1mk<-'\n",
    "                data{\n",
    "                      int N;         //number of comparison (n=121)\n",
    "                      int Nt;        //number of test (n=7)\n",
    "                      int Ns;        //number of study (n=107)\n",
    "                      int TP[N];\n",
    "                      int Dis[N];    //diseased\n",
    "                      int TN[N];\n",
    "                      int NDis[N];   //non-diseased\n",
    "                      int Study[N];\n",
    "                      int Test[N];\n",
    "                      int Covar1[N]; //one additional variable\n",
    "                    }\n",
    "\n",
    "                parameters{\n",
    "                            matrix[2,Nt] logitmu;\n",
    "                            vector[Ns] nu[2];\n",
    "                            matrix[Ns,Nt] delta[2];\n",
    "                            vector<lower=0>[2] tau;\n",
    "                            vector<lower=0>[2] sigmab; \n",
    "                            real<lower=-1,upper=1> rho;\n",
    "                            matrix[2,Nt] beta1;\n",
    "                        }\n",
    "\n",
    "                transformed parameters{\n",
    "                                        matrix[Ns,2] p_i[Nt];\n",
    "                                        matrix[2,Nt] MU;\n",
    "                                        matrix[2,Nt] RR;\n",
    "                                        matrix[2,Nt] OR;\n",
    "                                        vector[Nt] DOR;\n",
    "                                        vector[Nt] S;\n",
    "                                        vector[Nt] S_se;\n",
    "                                        vector[Nt] S_sp;\n",
    "                                        matrix[Nt,Nt] A;\n",
    "                                        matrix[Nt,Nt] B;\n",
    "                                        matrix[Nt,Nt] C;\n",
    "                                        matrix[Nt, Nt] A_se;\n",
    "                                        matrix[Nt, Nt] B_se;\n",
    "                                        matrix[Nt, Nt] C_se;\n",
    "                                        matrix[Nt, Nt] A_sp;\n",
    "                                        matrix[Nt, Nt] B_sp;\n",
    "                                        matrix[Nt, Nt] C_sp;\n",
    "\n",
    "                                        vector<lower=0>[2] tausq;\n",
    "                                        vector<lower=0>[2] sigmabsq;\n",
    "\n",
    "                                        matrix[Nt,Nt] sigmasq[2];\n",
    "                                        matrix[Nt,Nt] rhow[2];\n",
    "\n",
    "                for (i in 1:Ns){\n",
    "                     for (j in 1:2){\n",
    "                          for (k in 1:Nt){\n",
    "                                           p_i[k][i,j]=inv_logit(logitmu[j,k]+nu[j][i]+delta[j][i,k]+beta1[j,k]*Covar1[i]);\n",
    "                           }\n",
    "                      }\n",
    "                 }\n",
    "\n",
    "                for (j in 1:2){\n",
    "                     for (k in 1:Nt){\n",
    "                                      MU[j,k]=mean(col(p_i[k],j));\n",
    "                      }\n",
    "                }\n",
    "                  \n",
    "                for (j in 1:2){\n",
    "                     for (k in 1:Nt){\n",
    "                                      RR[j,k]=MU[j,k]/MU[j,1]; \n",
    "                                      OR[j,k]=(MU[j,k]*(1-MU[j,1]))/(MU[j,1]*(1-MU[j,k]));\n",
    "                       }\n",
    "                 }\n",
    "\n",
    "                for (l in 1:Nt){\n",
    "                                 DOR[l]=(MU[1,l]*MU[2,l])/((1-MU[1,l])*(1-MU[2,l]));\n",
    "                     for(m in 1:Nt){\n",
    "                                     A[l,m]=if_else((MU[1,l]>MU[1,m]) && (MU[2,l]>MU[2,m]),1,0);\n",
    "                                     B[l,m]=if_else((MU[1,l]<MU[1,m]) && (MU[2,l]<MU[2,m]),1,0);\n",
    "                                     C[l,m]=if_else((MU[1,l]==MU[1,m]) && (MU[2,l]==MU[2,m]),1,0);\n",
    "                                     \n",
    "                                     A_se[l, m] = if_else((MU[1, l] > MU[1, m]), 1, 0);\n",
    "                                     B_se[l, m] = if_else((MU[1, l] < MU[1, m]), 1, 0);\n",
    "                                     C_se[l, m] = if_else((MU[1, l] == MU[1, m]), 1, 0);\n",
    " \n",
    "                                     A_sp[l, m] = if_else((MU[2, l] > MU[2, m]), 1, 0);\n",
    "                                     B_sp[l, m] = if_else((MU[2, l] < MU[2, m]), 1, 0);\n",
    "                                     C_sp[l, m] = if_else((MU[2, l] == MU[2, m]), 1, 0);\n",
    "                      }\n",
    "                        S[l]=(2*sum(row(A,l))+sum(row(C,l)))/(2*sum(row(B,l))+sum(row(C,l)));\n",
    "                        S_se[l] = (2*sum(row(A_se, l)) + sum(row(C_se, l)))/(2*sum(row(B_se, l)) + sum(row(C_se, l)));\n",
    "                        S_sp[l] = (2*sum(row(A_sp, l)) + sum(row(C_sp, l)))/(2*sum(row(B_sp, l)) + sum(row(C_sp, l)));\n",
    "                }\n",
    "                 tausq=(tau).*(tau);  \n",
    "                 sigmabsq=(sigmab).*(sigmab);\n",
    "\n",
    "                for (j in 1:2){\n",
    "                     for (k in 1:Nt){\n",
    "                          for (l in 1:Nt){\n",
    "                                           sigmasq[j][k,l]=(sigmabsq[j]+tausq[j])*((sigmabsq[j]+tausq[j]));\n",
    "                                           rhow[j][k,l]=sigmabsq[j]/sqrt(sigmasq[j][k,l]);\n",
    "                            }\n",
    "                       }\n",
    "                 }\n",
    "            }\n",
    "\n",
    "                model{\n",
    "                      //Priors\n",
    "                      for (j in 1:2){\n",
    "                                      logitmu[j]~normal(0,5);\n",
    "                                      tau[j]~cauchy(0,2.5);\n",
    "                                      sigmab[j]~gamma(5,1);\n",
    "                           for (k in 1:Nt){\n",
    "                                            beta1[j,k]~normal(0,5);\n",
    "                           }            \n",
    "                      }\n",
    "                       rho~uniform(-1, 1);\n",
    "                       nu[2]~normal(0,sigmab[2]);\n",
    "\n",
    "                      for (i in 1:Ns){\n",
    "                                       nu[1][i]~normal((sigmab[1]/sigmab[2])*rho*nu[2][i],sqrt(sigmabsq[1]*(1-(rho*rho))));\n",
    "                           for (j in 1:2){\n",
    "                               for (k in 1:Nt){\n",
    "                                                delta[j][i,k]~normal(0,tau[j][k]);\n",
    "                              }\n",
    "                         }\n",
    "                      }\n",
    "\n",
    "                     for (n in 1:N){\n",
    "                                     TP[n]~binomial(Dis[n],p_i[Test[n]][Study[n],1]);\n",
    "                                     TN[n]~binomial(NDis[n],p_i[Test[n]][Study[n],2]);\n",
    "                      }\n",
    "\n",
    "                    }\n",
    "\n",
    "                generated quantities{\n",
    "                                      vector[2*N] loglik;\n",
    "\n",
    "                                      for (n in 1:N){\n",
    "                                                      loglik[n]=binomial_lpmf(TN[n]|NDis[n],p_i[Test[n]][Study[n],1]);\n",
    "                                       }\n",
    "                                      for (n in (N+1):(2*N)){\n",
    "                                                              loglik[n]=binomial_lpmf(TN[n-N]|NDis[n-N],p_i[Test[n-N]][Study[n-N],2]);\n",
    "                                       }\n",
    "                }\n",
    "'"
   ]
  },
  {
   "cell_type": "markdown",
   "metadata": {},
   "source": [
    "### Prepare data for Network Meta-regression"
   ]
  },
  {
   "cell_type": "code",
   "execution_count": null,
   "metadata": {},
   "outputs": [],
   "source": [
    "para.as.ls.1mk<-list(N=nrow(para),\n",
    "                     Nt=length(unique(para$Test)),\n",
    "                     Ns=length(unique(para$Study)),\n",
    "                     TP=para$TP,\n",
    "                     Dis=para$Dis,\n",
    "                     TN=para$TN,\n",
    "                     NDis=para$NDis,\n",
    "                     Study=as.numeric(para$Study),\n",
    "                     Test=para$Test,\n",
    "                     Covar1=data$is.prevalence05)"
   ]
  },
  {
   "cell_type": "markdown",
   "metadata": {},
   "source": [
    "### Compiling model"
   ]
  },
  {
   "cell_type": "code",
   "execution_count": null,
   "metadata": {},
   "outputs": [],
   "source": [
    "stan.model.1mk<-stan(model_code=stan.code.1mk, \n",
    "                     data=para.as.ls.1mk, \n",
    "                     iter=1, \n",
    "                     warmup=0, \n",
    "                     chains=1)"
   ]
  },
  {
   "cell_type": "markdown",
   "metadata": {},
   "source": [
    "### Running model"
   ]
  },
  {
   "cell_type": "code",
   "execution_count": null,
   "metadata": {},
   "outputs": [],
   "source": [
    "start_time <- Sys.time()\n",
    "fit.1mk<-stan(fit=stan.model.1mk,\n",
    "              data=para.as.ls.1mk,\n",
    "              iter=20000,\n",
    "              chains=4,\n",
    "              cores=4,\n",
    "              control=list(adapt_delta=0.99,\n",
    "                           stepsize=0.01,\n",
    "                           max_treedepth=17))\n",
    "end_time <- Sys.time()\n",
    "end_time - start_time"
   ]
  },
  {
   "cell_type": "markdown",
   "metadata": {},
   "source": [
    "### Save the results as .RData and .csv"
   ]
  },
  {
   "cell_type": "code",
   "execution_count": null,
   "metadata": {},
   "outputs": [],
   "source": [
    "filename.simdata.save<-'fit_1mk_simdata_sepsis_isprevalence05.RData'\n",
    "filename.results.save<-'out_1mk_sepsis_isprevalence05.csv'\n",
    "results.1mk<-fit.extract(fit.data=fit.1mk,filename.save=filename.simdata.save)\n",
    "results.1mk.95<-get.nma.1mk(data.ls=list(mk=mk.names[unique(para$Test)],\n",
    "                                         data.nma=results.1mk),mk.names=mk.names,\n",
    "                            conf=95)\n",
    "write.csv(results.1mk.95,filename.results.save)"
   ]
  },
  {
   "cell_type": "markdown",
   "metadata": {},
   "source": [
    "### Print the results of pooled sensitivity and specificity from Network Meta-regression"
   ]
  },
  {
   "cell_type": "code",
   "execution_count": null,
   "metadata": {},
   "outputs": [],
   "source": [
    "rownames(results.1mk.95$mu)=c('qSOFA', 'PCT', 'presepsin', 'CRP', 'CD64', 'IL-6', 'sTREM-1', 'LBP', 'SIRS', 'SOFA')\n",
    "results.lmk.95$mu"
   ]
  },
  {
   "cell_type": "markdown",
   "metadata": {},
   "source": [
    "### Print the results of pooled DOR from Network Meta-regression"
   ]
  },
  {
   "cell_type": "code",
   "execution_count": null,
   "metadata": {},
   "outputs": [],
   "source": [
    "rownames(results.1mk.95$dor)=c('qSOFA', 'PCT', 'presepsin', 'CRP', 'CD64', 'IL-6', 'sTREM-1', 'LBP', 'SIRS', 'SOFA')\n",
    "results.1mk.95$dor"
   ]
  }
 ],
 "metadata": {
  "kernelspec": {
   "display_name": "R",
   "language": "R",
   "name": "ir"
  },
  "language_info": {
   "codemirror_mode": "r",
   "file_extension": ".r",
   "mimetype": "text/x-r-source",
   "name": "R",
   "pygments_lexer": "r",
   "version": "4.1.3"
  }
 },
 "nbformat": 4,
 "nbformat_minor": 4
}
