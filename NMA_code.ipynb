{
 "cells": [
  {
   "cell_type": "markdown",
   "metadata": {},
   "source": [
    "### Load the packages"
   ]
  },
  {
   "cell_type": "code",
   "execution_count": 1,
   "metadata": {},
   "outputs": [
    {
     "name": "stderr",
     "output_type": "stream",
     "text": [
      "載入需要的套件：StanHeaders\n",
      "\n",
      "載入需要的套件：ggplot2\n",
      "\n",
      "rstan (Version 2.21.2, GitRev: 2e1f913d3ca3)\n",
      "\n",
      "For execution on a local, multicore CPU with excess RAM we recommend calling\n",
      "options(mc.cores = parallel::detectCores()).\n",
      "To avoid recompilation of unchanged Stan programs, we recommend calling\n",
      "rstan_options(auto_write = TRUE)\n",
      "\n",
      "Do not specify '-march=native' in 'LOCAL_CPPFLAGS' or a Makevars file\n",
      "\n",
      "This is bayesplot version 1.8.1\n",
      "\n",
      "- Online documentation and vignettes at mc-stan.org/bayesplot\n",
      "\n",
      "- bayesplot theme set to bayesplot::theme_default()\n",
      "\n",
      "   * Does _not_ affect other ggplot2 plots\n",
      "\n",
      "   * See ?bayesplot_theme_set for details on theme setting\n",
      "\n",
      "載入需要的套件：foreach\n",
      "\n",
      "載入需要的套件：iterators\n",
      "\n",
      "載入需要的套件：parallel\n",
      "\n",
      "載入需要的套件：usethis\n",
      "\n"
     ]
    }
   ],
   "source": [
    "library(rstan)\n",
    "library(bayesplot)\n",
    "library(ggplot2)\n",
    "library(doParallel)\n",
    "library(devtools)\n",
    "Sys.setenv(PATH = paste(\"C:/rtools40/mingw64/bin/\", Sys.getenv(\"PATH\"), sep=\";\"))\n",
    "Sys.setenv(BINPREF = \"C:/rtools40/mingw64/bin/\")"
   ]
  },
  {
   "cell_type": "code",
   "execution_count": 2,
   "metadata": {},
   "outputs": [
    {
     "data": {
      "text/html": [
       "4"
      ],
      "text/latex": [
       "4"
      ],
      "text/markdown": [
       "4"
      ],
      "text/plain": [
       "[1] 4"
      ]
     },
     "metadata": {},
     "output_type": "display_data"
    }
   ],
   "source": [
    "rstan_options(auto_write=TRUE)\n",
    "options(mc.cores=parallel::detectCores())\n",
    "registerDoParallel(4)\n",
    "getDoParWorkers()"
   ]
  },
  {
   "cell_type": "markdown",
   "metadata": {},
   "source": [
    "### Define a function to prepare the parameters and data for further Bayesian analysis"
   ]
  },
  {
   "cell_type": "code",
   "execution_count": 3,
   "metadata": {},
   "outputs": [],
   "source": [
    "getpara<-function(filename=NULL,names.mk=NULL){\n",
    "          data.mk<-read.csv(filename)\n",
    "          names.study<-unique(fixlen.str(data.mk$Study))\n",
    "          hash.study<-1:length(names.study)\n",
    "          names(hash.study)<-names.study\n",
    "          hash.mk<-1:length(names.mk)\n",
    "          names(hash.mk)<-names.mk\n",
    "          para<-data.frame(study.names=fixlen.str(data.mk$Study),\n",
    "          Study=array(hash.study[as.character(fixlen.str(data.mk$Study))]),\n",
    "                      TP=round(data.mk$Case*data.mk$Sensitivity),\n",
    "                      TN=round(data.mk$Control*data.mk$Specificity),\n",
    "                      Dis=data.mk$Case,\n",
    "                      NDis=data.mk$Control,\n",
    "                      Test=array(hash.mk[as.character(data.mk$Marker)]))\n",
    "    return(list(para=para,data=data.mk))\n",
    "  }\n"
   ]
  },
  {
   "cell_type": "markdown",
   "metadata": {},
   "source": [
    "### Define a function to get the upper and lower credible bound (97.5%)"
   ]
  },
  {
   "cell_type": "code",
   "execution_count": 4,
   "metadata": {},
   "outputs": [],
   "source": [
    "get.ub.95<-function(x){\n",
    "            y=sort(x)\n",
    "            len=length(x)\n",
    "            return(y[round(len*0.975)])\n",
    "  }\n",
    "\n",
    "get.lb.95<-function(x){\n",
    "            y=sort(x)\n",
    "            len=length(x)\n",
    "            return(y[round(len*0.025)])\n",
    "  }"
   ]
  },
  {
   "cell_type": "markdown",
   "metadata": {},
   "source": [
    "### Define a function to get the results from Network Meta-analysis"
   ]
  },
  {
   "cell_type": "code",
   "execution_count": 5,
   "metadata": {},
   "outputs": [],
   "source": [
    "get.nma<-function(data.ls=NULL,mk.names=NULL,n.study=1,conf=95){\n",
    "\t        data.nma<-data.ls$data.nma\n",
    "\t        func.ub<-NULL\n",
    "        \tfunc.lb<-NULL\n",
    "\t        if(conf==95){\n",
    "\t\t                    func.ub<-get.ub.95\n",
    "\t\t                    func.lb<-get.lb.95\n",
    "\t        } else if(conf==90){\n",
    "\t\t                           func.ub<-get.ub.90\n",
    "\t\t                           func.lb<-get.lb.90\n",
    "\t        }\n",
    "\t        data.nma.muse<-data.nma[paste('MU[',1,',',1:length(data.ls$mk),']',sep='')]\n",
    "\t        data.nma.musp<-data.nma[paste('MU[',2,',',1:length(data.ls$mk),']',sep='')]\n",
    "\t        data.nma.rrse<-data.nma[paste('RR[',1,',',1:length(data.ls$mk),']',sep='')]\n",
    "\t        data.nma.rrsp<-data.nma[paste('RR[',2,',',1:length(data.ls$mk),']',sep='')]\n",
    "\t        data.nma.orse<-data.nma[paste('OR[',1,',',1:length(data.ls$mk),']',sep='')]\n",
    "\t        data.nma.orsp<-data.nma[paste('OR[',2,',',1:length(data.ls$mk),']',sep='')]\n",
    "\t        data.nma.dor<-data.nma[paste('DOR[',1:length(data.ls$mk),']',sep='')]\n",
    "            data.nma.sindex<-data.nma[paste('S[',1:length(data.ls$mk),']',sep='')]\n",
    "            data.nma.sindex_se<-data.nma[paste('S_se[',1:length(data.ls$mk),']',sep='')]\n",
    "            data.nma.sindex_sp<-data.nma[paste('S_sp[',1:length(data.ls$mk),']',sep='')]\n",
    "\t        mu.info<-data.frame(mean_sp=array(unlist(lapply(data.nma.musp,mean))),\n",
    "\t                            ub_sp=array(unlist(lapply(data.nma.musp,func.ub))),\n",
    "\t                            lb_sp=array(unlist(lapply(data.nma.musp,func.lb))),\n",
    "\t                            mean_se=array(unlist(lapply(data.nma.muse,mean))),\n",
    "\t                            ub_se=array(unlist(lapply(data.nma.muse,func.ub))),\n",
    "\t                            lb_se=array(unlist(lapply(data.nma.muse,func.lb))))\n",
    "\t        rr.info<-data.frame(mean_sp=array(unlist(lapply(data.nma.rrsp,mean))),\n",
    "\t                            ub_sp=array(unlist(lapply(data.nma.rrsp,func.ub))),\n",
    "\t                            lb_sp=array(unlist(lapply(data.nma.rrsp,func.lb))),\n",
    "\t                            mean_se=array(unlist(lapply(data.nma.rrse,mean))),\n",
    "\t                            ub_se=array(unlist(lapply(data.nma.rrse,func.ub))),\n",
    "\t                            lb_se=array(unlist(lapply(data.nma.rrse,func.lb))))\n",
    "\t        or.info<-data.frame(mean_sp=array(unlist(lapply(data.nma.orsp,mean))),\n",
    "\t                            ub_sp=array(unlist(lapply(data.nma.orsp,func.ub))),\n",
    "\t                            lb_sp=array(unlist(lapply(data.nma.orsp,func.lb))),\n",
    "\t                            mean_se=array(unlist(lapply(data.nma.orse,mean))),\n",
    "\t                            ub_se=array(unlist(lapply(data.nma.orse,func.ub))),\n",
    "\t                            lb_se=array(unlist(lapply(data.nma.orse,func.lb))))\n",
    "\t        dor.info<-data.frame(mean=array(unlist(lapply(data.nma.dor,mean))),\n",
    "\t                             ub=array(unlist(lapply(data.nma.dor,func.ub))),\n",
    "\t                             lb=array(unlist(lapply(data.nma.dor,func.lb))))\n",
    "            sindex.info<-data.frame(mean=array(unlist(lapply(data.nma.sindex,mean))),\n",
    "\t                                ub=array(unlist(lapply(data.nma.sindex,func.ub))),\n",
    "\t                                lb=array(unlist(lapply(data.nma.sindex,func.lb))))\n",
    "            sindex_se.info<-data.frame(mean=array(unlist(lapply(data.nma.sindex_se,mean))),\n",
    "\t                                   ub=array(unlist(lapply(data.nma.sindex_se,func.ub))),\n",
    "\t                                   lb=array(unlist(lapply(data.nma.sindex_se,func.lb))))\n",
    "            sindex_sp.info<-data.frame(mean=array(unlist(lapply(data.nma.sindex_sp,mean))),\n",
    "\t                                   ub=array(unlist(lapply(data.nma.sindex_sp,func.ub))),\n",
    "\t                                   lb=array(unlist(lapply(data.nma.sindex_sp,func.lb))))\n",
    "\t        results.nma<-list(marker=mk.names[mk.names %in% data.ls$mk],\n",
    "\t                          mu=mu.info,\n",
    "\t                          rr=rr.info,\n",
    "\t                          or=or.info,\n",
    "\t                          dor=dor.info,\n",
    "                              sindex=sindex.info,\n",
    "                              sindex_se=sindex_se.info,\n",
    "                              sindex_sp=sindex_sp.info)\n",
    "\t   return(results.nma)\n",
    "}"
   ]
  },
  {
   "cell_type": "markdown",
   "metadata": {},
   "source": [
    "### Define a function to extract results from analysis"
   ]
  },
  {
   "cell_type": "code",
   "execution_count": 6,
   "metadata": {},
   "outputs": [],
   "source": [
    "fixlen.str<-function(string.arr=NULL){\n",
    "                                     \t max.len<-max(nchar(as.character(string.arr)))\n",
    "\t                                     rule<-paste('% -',as.character(max.len),'s',sep='')\n",
    "\t                                     string.arr.fix<-sprintf(rule,string.arr)\n",
    "\t                                     return(string.arr.fix)\n",
    "}\n",
    "fit.extract<-function(fit.data=NULL,filename.save=NULL){\n",
    "\t                                                       results.sum<-summary(fit.data)[[1]]\n",
    "\t                                                       results.simdata<-fit.data@sim$samples[[1]]\n",
    "\t                                                       save(results.sum,results.simdata,file=filename.save)\n",
    "\t                                                       return(results.simdata)\n",
    "}"
   ]
  },
  {
   "cell_type": "markdown",
   "metadata": {},
   "source": [
    "##########################################################\n",
    "###  Network Meta-analysis (stan code)\n",
    "##########################################################"
   ]
  },
  {
   "cell_type": "code",
   "execution_count": 7,
   "metadata": {},
   "outputs": [],
   "source": [
    "stan.code.nma<-'\n",
    "data{\n",
    "     int N;  //number of comparison??? - 121\n",
    "     int Nt; //number of test - 10\n",
    "     int Ns; //number of study - 72\n",
    "     int TP[N];\n",
    "     int Dis[N];  //diseased\n",
    "     int TN[N];\n",
    "     int NDis[N]; //non-diseased\n",
    "     int Study[N];\n",
    "     int Test[N];\n",
    "}\n",
    "parameters{\n",
    "           matrix[2, Nt] logitmu;\n",
    "           vector[Ns] nu[2];\n",
    "           matrix[Ns, Nt] delta[2];\n",
    "           vector<lower=0>[Nt] tau[2]; //*\n",
    "           vector<lower=0>[2] sigmab; \n",
    "           real<lower=-1, upper=1> rho;\n",
    "}\n",
    "transformed parameters{\n",
    "                       matrix[Ns, 2] p_i[Nt];\n",
    "                       matrix[2, Nt] MU;\n",
    "                       matrix[2, Nt] RR;\n",
    "                       matrix[2, Nt] OR;\n",
    "                       vector[Nt] DOR;\n",
    "                       vector[Nt] S;\n",
    "                       vector[Nt] S_se;\n",
    "                       vector[Nt] S_sp;\n",
    "                       matrix[Nt, Nt] A;\n",
    "                       matrix[Nt, Nt] B;\n",
    "                       matrix[Nt, Nt] C;\n",
    "                       matrix[Nt, Nt] A_se;\n",
    "                       matrix[Nt, Nt] B_se;\n",
    "                       matrix[Nt, Nt] C_se;\n",
    "                       matrix[Nt, Nt] A_sp;\n",
    "                       matrix[Nt, Nt] B_sp;\n",
    "                       matrix[Nt, Nt] C_sp;\n",
    "                       vector<lower=0>[Nt] tausq[2];\n",
    "                       vector<lower=0>[2] sigmabsq;\n",
    "                       matrix[Nt, Nt] sigmasq[2];\n",
    "                       matrix[Nt, Nt] rhow[2];\n",
    "\n",
    "    for (i in 1:Ns){\n",
    "        for (j in 1:2){\n",
    "            for (k in 1:Nt)\n",
    "                p_i[k][i,j] = inv_logit(logitmu[j,k] +  nu[j][i] + delta[j][i,k]);\n",
    "        }\n",
    "    }\n",
    " \n",
    "    for (j in 1:2){\n",
    "        for (k in 1:Nt){\n",
    "                         MU[j,k] = mean(col(p_i[k], j));\n",
    "        }\n",
    "        tausq[j] = (tau[j]).*(tau[j]);\n",
    "    }\n",
    "\n",
    "    for (j in 1:2){\n",
    "        for (k in 1:Nt){\n",
    "                         RR[j, k] = MU[j, k]/MU[j, 1]; \n",
    "                         OR[j, k] = (MU[j, k]*(1 - MU[j, 1]))/(MU[j, 1]*(1 - MU[j, k]));\n",
    "         }\n",
    "    }\n",
    "\n",
    "    for (l in 1:Nt){\n",
    "                     DOR[l] = (MU[1, l]*MU[2, l])/((1 - MU[1, l])*(1 - MU[2, l]));\n",
    "\n",
    "        for(m in 1:Nt){\n",
    "                        A[l, m] = if_else((MU[1, l] > MU[1, m]) && (MU[2, l] > MU[2, m]), 1, 0);\n",
    "                        B[l, m] = if_else((MU[1, l] < MU[1, m]) && (MU[2, l] < MU[2, m]), 1, 0);\n",
    "                        C[l, m] = if_else((MU[1, l] == MU[1, m]) && (MU[2, l] == MU[2, m]), 1, 0);\n",
    "\n",
    "                        A_se[l, m] = if_else((MU[1, l] > MU[1, m]), 1, 0);\n",
    "                        B_se[l, m] = if_else((MU[1, l] < MU[1, m]), 1, 0);\n",
    "                        C_se[l, m] = if_else((MU[1, l] == MU[1, m]), 1, 0);\n",
    "\n",
    "                        A_sp[l, m] = if_else((MU[2, l] > MU[2, m]), 1, 0);\n",
    "                        B_sp[l, m] = if_else((MU[2, l] < MU[2, m]), 1, 0);\n",
    "                        C_sp[l, m] = if_else((MU[2, l] == MU[2, m]), 1, 0);\n",
    "        }\n",
    "\n",
    "        S[l] = (2*sum(row(A, l)) + sum(row(C, l)))/(2*sum(row(B, l)) + sum(row(C, l)));\n",
    "        S_se[l] = (2*sum(row(A_se, l)) + sum(row(C_se, l)))/(2*sum(row(B_se, l)) + sum(row(C_se, l)));\n",
    "        S_sp[l] = (2*sum(row(A_sp, l)) + sum(row(C_sp, l)))/(2*sum(row(B_sp, l)) + sum(row(C_sp, l)));\n",
    "    }\n",
    "    \n",
    "    sigmabsq = (sigmab).*(sigmab);\n",
    "\n",
    "    for (j in 1:2){\n",
    "        for (k in 1:Nt){\n",
    "            for (l in 1:Nt){\n",
    "                             sigmasq[j][k,l] = (sigmabsq[j] + tausq[j][k])*((sigmabsq[j] + tausq[j][l]));\n",
    "                             rhow[j][k,l] = sigmabsq[j]/sqrt(sigmasq[j][k,l]);\n",
    "            }\n",
    "        }\n",
    "    }\n",
    "\n",
    "}\n",
    "model{\n",
    "\t   //Priors\n",
    "       for (j in 1:2){\n",
    "                       logitmu[j] ~ normal(0, 5);\n",
    "\t\t               tau[j] ~ cauchy(0, 2.5);\n",
    "       }\n",
    "\n",
    "         sigmab ~ cauchy(0, 2.5);\n",
    "\t     rho ~ uniform(-1, 1);\n",
    "         nu[2] ~ normal(0, sigmab[2]);\n",
    "      \n",
    "       for (i in 1:Ns){\n",
    "                       nu[1][i] ~ normal((sigmab[1]/sigmab[2])*rho*nu[2][i], sqrt(sigmabsq[1]*(1 - (rho*rho))));\n",
    "          for (j in 1:2){\n",
    "              for (k in 1:Nt)\n",
    "                              delta[j][i,k] ~ normal(0, tau[j][k]);\n",
    "        }\n",
    "    }\n",
    "\n",
    "    for (n in 1:N){\n",
    "                    TP[n] ~ binomial(Dis[n], p_i[Test[n]][Study[n], 1]);\n",
    "                    TN[n] ~ binomial(NDis[n], p_i[Test[n]][Study[n], 2]);\n",
    "    }\n",
    "\n",
    "}\n",
    "generated quantities{\n",
    "    \n",
    "    vector[2*N] loglik;\n",
    "\n",
    "    for (n in 1:N)\n",
    "                   loglik[n] = binomial_lpmf(TN[n]| NDis[n], p_i[Test[n]][Study[n], 1]);\n",
    "\n",
    "    for (n in (N+1):(2*N))\n",
    "                   loglik[n] = binomial_lpmf(TN[n-N]| NDis[n-N], p_i[Test[n-N]][Study[n-N], 2]);\n",
    "\n",
    "}\n",
    "'"
   ]
  },
  {
   "cell_type": "markdown",
   "metadata": {},
   "source": [
    "### Lists of Biomarkers in network meta-analysis "
   ]
  },
  {
   "cell_type": "code",
   "execution_count": 8,
   "metadata": {},
   "outputs": [],
   "source": [
    "mk.names=c('qSOFA',\n",
    "           'PCT',\n",
    "           'presepsin',\n",
    "           'CRP',\n",
    "           'CD64',\n",
    "           'IL-6',\n",
    "           'sTREM-1',\n",
    "           'LBP',\n",
    "           'SIRS',\n",
    "           'SOFA')"
   ]
  },
  {
   "cell_type": "markdown",
   "metadata": {},
   "source": [
    "### Data set to used"
   ]
  },
  {
   "cell_type": "code",
   "execution_count": 9,
   "metadata": {},
   "outputs": [],
   "source": [
    "filename<-'Sepsis_nma_data.csv'"
   ]
  },
  {
   "cell_type": "markdown",
   "metadata": {},
   "source": [
    "### Parameters lists"
   ]
  },
  {
   "cell_type": "code",
   "execution_count": 10,
   "metadata": {},
   "outputs": [],
   "source": [
    "para.ls<-getpara(filename=filename,names.mk=mk.names)\n",
    "para<-para.ls$para\n",
    "data<-para.ls$data"
   ]
  },
  {
   "cell_type": "markdown",
   "metadata": {},
   "source": [
    "### Prepare data for Network Meta-analysis"
   ]
  },
  {
   "cell_type": "code",
   "execution_count": 11,
   "metadata": {},
   "outputs": [],
   "source": [
    "para.as.ls.nma<-list(N=nrow(para),\n",
    "                     Nt=length(unique(para$Test)),\n",
    "                     Ns=length(unique(para$Study)),\n",
    "                     TP=para$TP,\n",
    "                     Dis=para$Dis,\n",
    "                     TN=para$TN,\n",
    "                     NDis=para$NDis,\n",
    "                     Study=as.numeric(para$Study),\n",
    "                     Test=para$Test)"
   ]
  },
  {
   "cell_type": "markdown",
   "metadata": {},
   "source": [
    "### Compiling model"
   ]
  },
  {
   "cell_type": "code",
   "execution_count": 12,
   "metadata": {},
   "outputs": [
    {
     "name": "stderr",
     "output_type": "stream",
     "text": [
      "Warning message:\n",
      "\"There were 2 divergent transitions after warmup. See\n",
      "http://mc-stan.org/misc/warnings.html#divergent-transitions-after-warmup\n",
      "to find out why this is a problem and how to eliminate them.\"\n",
      "Warning message:\n",
      "\"There were 1 chains where the estimated Bayesian Fraction of Missing Information was low. See\n",
      "http://mc-stan.org/misc/warnings.html#bfmi-low\"\n",
      "Warning message:\n",
      "\"Examine the pairs() plot to diagnose sampling problems\n",
      "\"\n"
     ]
    }
   ],
   "source": [
    "stan.model.nma<-stan(model_code=stan.code.nma,\n",
    "                     data=para.as.ls.nma, \n",
    "                     iter=1, \n",
    "                     warmup=0, \n",
    "                     chains=2)"
   ]
  },
  {
   "cell_type": "markdown",
   "metadata": {},
   "source": [
    "### Running model"
   ]
  },
  {
   "cell_type": "code",
   "execution_count": 13,
   "metadata": {},
   "outputs": [
    {
     "name": "stderr",
     "output_type": "stream",
     "text": [
      "Warning message:\n",
      "\"There were 2 divergent transitions after warmup. See\n",
      "http://mc-stan.org/misc/warnings.html#divergent-transitions-after-warmup\n",
      "to find out why this is a problem and how to eliminate them.\"\n",
      "Warning message:\n",
      "\"There were 4 chains where the estimated Bayesian Fraction of Missing Information was low. See\n",
      "http://mc-stan.org/misc/warnings.html#bfmi-low\"\n",
      "Warning message:\n",
      "\"Examine the pairs() plot to diagnose sampling problems\n",
      "\"\n",
      "Warning message:\n",
      "\"The largest R-hat is NA, indicating chains have not mixed.\n",
      "Running the chains for more iterations may help. See\n",
      "http://mc-stan.org/misc/warnings.html#r-hat\"\n",
      "Warning message:\n",
      "\"Bulk Effective Samples Size (ESS) is too low, indicating posterior means and medians may be unreliable.\n",
      "Running the chains for more iterations may help. See\n",
      "http://mc-stan.org/misc/warnings.html#bulk-ess\"\n",
      "Warning message:\n",
      "\"Tail Effective Samples Size (ESS) is too low, indicating posterior variances and tail quantiles may be unreliable.\n",
      "Running the chains for more iterations may help. See\n",
      "http://mc-stan.org/misc/warnings.html#tail-ess\"\n"
     ]
    },
    {
     "data": {
      "text/plain": [
       "Time difference of 21.05406 hours"
      ]
     },
     "metadata": {},
     "output_type": "display_data"
    }
   ],
   "source": [
    "start_time <- Sys.time()\n",
    "fit.nma<-stan(fit=stan.model.nma,\n",
    "              data=para.as.ls.nma,\n",
    "              iter=20000,\n",
    "              chains=4,\n",
    "              cores=4,\n",
    "              control=list(adapt_delta=0.99,\n",
    "                           stepsize=0.01,\n",
    "                           max_treedepth=17))\n",
    "end_time <- Sys.time()\n",
    "end_time - start_time"
   ]
  },
  {
   "cell_type": "markdown",
   "metadata": {},
   "source": [
    "### Save the results as .RData and .csv"
   ]
  },
  {
   "cell_type": "code",
   "execution_count": 14,
   "metadata": {},
   "outputs": [],
   "source": [
    "filename.simdata.save<-'fit_nma_simdata_qSOFAasreference.RData'\n",
    "filename.results.save<-'out_nma_sepsis3_qSOFAasreference.csv'\n",
    "results.nma<-fit.extract(fit.data=fit.nma,filename.save=filename.simdata.save)\n",
    "results.nma.95<-get.nma(data.ls=list(mk=mk.names[unique(para$Test)],\n",
    "                                         data.nma=results.nma),mk.names=mk.names,\n",
    "                            conf=95)\n",
    "write.csv(results.nma.95,filename.results.save)"
   ]
  },
  {
   "cell_type": "markdown",
   "metadata": {},
   "source": [
    "### Print the results of pooled sensitivity and specificity from Network Meta-analysis"
   ]
  },
  {
   "cell_type": "code",
   "execution_count": 15,
   "metadata": {},
   "outputs": [
    {
     "data": {
      "text/html": [
       "<table class=\"dataframe\">\n",
       "<caption>A data.frame: 10 × 6</caption>\n",
       "<thead>\n",
       "\t<tr><th></th><th scope=col>mean_sp</th><th scope=col>ub_sp</th><th scope=col>lb_sp</th><th scope=col>mean_se</th><th scope=col>ub_se</th><th scope=col>lb_se</th></tr>\n",
       "\t<tr><th></th><th scope=col>&lt;dbl&gt;</th><th scope=col>&lt;dbl&gt;</th><th scope=col>&lt;dbl&gt;</th><th scope=col>&lt;dbl&gt;</th><th scope=col>&lt;dbl&gt;</th><th scope=col>&lt;dbl&gt;</th></tr>\n",
       "</thead>\n",
       "<tbody>\n",
       "\t<tr><th scope=row>qSOFA</th><td>0.9212462</td><td>0.9854525</td><td>0.6234143</td><td>0.3462950</td><td>0.5890535</td><td>0.1754487</td></tr>\n",
       "\t<tr><th scope=row>PCT</th><td>0.7477665</td><td>0.7719957</td><td>0.7205840</td><td>0.7354603</td><td>0.7612342</td><td>0.7070550</td></tr>\n",
       "\t<tr><th scope=row>presepsin</th><td>0.7319718</td><td>0.7921475</td><td>0.6580232</td><td>0.7985793</td><td>0.8486892</td><td>0.7358911</td></tr>\n",
       "\t<tr><th scope=row>CRP</th><td>0.7016000</td><td>0.7439267</td><td>0.6556856</td><td>0.6789026</td><td>0.7219475</td><td>0.6316500</td></tr>\n",
       "\t<tr><th scope=row>CD64</th><td>0.7866743</td><td>0.9091934</td><td>0.5823358</td><td>0.7801413</td><td>0.9239502</td><td>0.5047990</td></tr>\n",
       "\t<tr><th scope=row>IL-6</th><td>0.7468872</td><td>0.8425525</td><td>0.6313472</td><td>0.7223712</td><td>0.7974009</td><td>0.6356649</td></tr>\n",
       "\t<tr><th scope=row>sTREM-1</th><td>0.7895254</td><td>0.9329969</td><td>0.4474239</td><td>0.5089890</td><td>0.7851218</td><td>0.2318868</td></tr>\n",
       "\t<tr><th scope=row>LBP</th><td>0.5947912</td><td>0.8235476</td><td>0.2964033</td><td>0.6194268</td><td>0.8511927</td><td>0.2949110</td></tr>\n",
       "\t<tr><th scope=row>SIRS</th><td>0.5288711</td><td>0.6715261</td><td>0.3799266</td><td>0.7652010</td><td>0.8698112</td><td>0.5906220</td></tr>\n",
       "\t<tr><th scope=row>SOFA</th><td>0.8136953</td><td>0.9021867</td><td>0.6751180</td><td>0.5618724</td><td>0.6804767</td><td>0.4265988</td></tr>\n",
       "</tbody>\n",
       "</table>\n"
      ],
      "text/latex": [
       "A data.frame: 10 × 6\n",
       "\\begin{tabular}{r|llllll}\n",
       "  & mean\\_sp & ub\\_sp & lb\\_sp & mean\\_se & ub\\_se & lb\\_se\\\\\n",
       "  & <dbl> & <dbl> & <dbl> & <dbl> & <dbl> & <dbl>\\\\\n",
       "\\hline\n",
       "\tqSOFA & 0.9212462 & 0.9854525 & 0.6234143 & 0.3462950 & 0.5890535 & 0.1754487\\\\\n",
       "\tPCT & 0.7477665 & 0.7719957 & 0.7205840 & 0.7354603 & 0.7612342 & 0.7070550\\\\\n",
       "\tpresepsin & 0.7319718 & 0.7921475 & 0.6580232 & 0.7985793 & 0.8486892 & 0.7358911\\\\\n",
       "\tCRP & 0.7016000 & 0.7439267 & 0.6556856 & 0.6789026 & 0.7219475 & 0.6316500\\\\\n",
       "\tCD64 & 0.7866743 & 0.9091934 & 0.5823358 & 0.7801413 & 0.9239502 & 0.5047990\\\\\n",
       "\tIL-6 & 0.7468872 & 0.8425525 & 0.6313472 & 0.7223712 & 0.7974009 & 0.6356649\\\\\n",
       "\tsTREM-1 & 0.7895254 & 0.9329969 & 0.4474239 & 0.5089890 & 0.7851218 & 0.2318868\\\\\n",
       "\tLBP & 0.5947912 & 0.8235476 & 0.2964033 & 0.6194268 & 0.8511927 & 0.2949110\\\\\n",
       "\tSIRS & 0.5288711 & 0.6715261 & 0.3799266 & 0.7652010 & 0.8698112 & 0.5906220\\\\\n",
       "\tSOFA & 0.8136953 & 0.9021867 & 0.6751180 & 0.5618724 & 0.6804767 & 0.4265988\\\\\n",
       "\\end{tabular}\n"
      ],
      "text/markdown": [
       "\n",
       "A data.frame: 10 × 6\n",
       "\n",
       "| <!--/--> | mean_sp &lt;dbl&gt; | ub_sp &lt;dbl&gt; | lb_sp &lt;dbl&gt; | mean_se &lt;dbl&gt; | ub_se &lt;dbl&gt; | lb_se &lt;dbl&gt; |\n",
       "|---|---|---|---|---|---|---|\n",
       "| qSOFA | 0.9212462 | 0.9854525 | 0.6234143 | 0.3462950 | 0.5890535 | 0.1754487 |\n",
       "| PCT | 0.7477665 | 0.7719957 | 0.7205840 | 0.7354603 | 0.7612342 | 0.7070550 |\n",
       "| presepsin | 0.7319718 | 0.7921475 | 0.6580232 | 0.7985793 | 0.8486892 | 0.7358911 |\n",
       "| CRP | 0.7016000 | 0.7439267 | 0.6556856 | 0.6789026 | 0.7219475 | 0.6316500 |\n",
       "| CD64 | 0.7866743 | 0.9091934 | 0.5823358 | 0.7801413 | 0.9239502 | 0.5047990 |\n",
       "| IL-6 | 0.7468872 | 0.8425525 | 0.6313472 | 0.7223712 | 0.7974009 | 0.6356649 |\n",
       "| sTREM-1 | 0.7895254 | 0.9329969 | 0.4474239 | 0.5089890 | 0.7851218 | 0.2318868 |\n",
       "| LBP | 0.5947912 | 0.8235476 | 0.2964033 | 0.6194268 | 0.8511927 | 0.2949110 |\n",
       "| SIRS | 0.5288711 | 0.6715261 | 0.3799266 | 0.7652010 | 0.8698112 | 0.5906220 |\n",
       "| SOFA | 0.8136953 | 0.9021867 | 0.6751180 | 0.5618724 | 0.6804767 | 0.4265988 |\n",
       "\n"
      ],
      "text/plain": [
       "          mean_sp   ub_sp     lb_sp     mean_se   ub_se     lb_se    \n",
       "qSOFA     0.9212462 0.9854525 0.6234143 0.3462950 0.5890535 0.1754487\n",
       "PCT       0.7477665 0.7719957 0.7205840 0.7354603 0.7612342 0.7070550\n",
       "presepsin 0.7319718 0.7921475 0.6580232 0.7985793 0.8486892 0.7358911\n",
       "CRP       0.7016000 0.7439267 0.6556856 0.6789026 0.7219475 0.6316500\n",
       "CD64      0.7866743 0.9091934 0.5823358 0.7801413 0.9239502 0.5047990\n",
       "IL-6      0.7468872 0.8425525 0.6313472 0.7223712 0.7974009 0.6356649\n",
       "sTREM-1   0.7895254 0.9329969 0.4474239 0.5089890 0.7851218 0.2318868\n",
       "LBP       0.5947912 0.8235476 0.2964033 0.6194268 0.8511927 0.2949110\n",
       "SIRS      0.5288711 0.6715261 0.3799266 0.7652010 0.8698112 0.5906220\n",
       "SOFA      0.8136953 0.9021867 0.6751180 0.5618724 0.6804767 0.4265988"
      ]
     },
     "metadata": {},
     "output_type": "display_data"
    }
   ],
   "source": [
    "rownames(results.nma.95$mu)=c('qSOFA','PCT','presepsin','CRP','CD64','IL-6','sTREM-1','LBP','SIRS','SOFA')\n",
    "results.nma.95$mu"
   ]
  },
  {
   "cell_type": "markdown",
   "metadata": {},
   "source": [
    "### Print the results of pooled DOR from Network Meta-analysis"
   ]
  },
  {
   "cell_type": "code",
   "execution_count": 16,
   "metadata": {},
   "outputs": [
    {
     "data": {
      "text/html": [
       "<table class=\"dataframe\">\n",
       "<caption>A data.frame: 10 × 3</caption>\n",
       "<thead>\n",
       "\t<tr><th></th><th scope=col>mean</th><th scope=col>ub</th><th scope=col>lb</th></tr>\n",
       "\t<tr><th></th><th scope=col>&lt;dbl&gt;</th><th scope=col>&lt;dbl&gt;</th><th scope=col>&lt;dbl&gt;</th></tr>\n",
       "</thead>\n",
       "<tbody>\n",
       "\t<tr><th scope=row>qSOFA</th><td>13.526483</td><td>45.181787</td><td>0.8033880</td></tr>\n",
       "\t<tr><th scope=row>PCT</th><td> 8.300979</td><td> 9.960500</td><td>6.8406802</td></tr>\n",
       "\t<tr><th scope=row>presepsin</th><td>11.327114</td><td>17.527737</td><td>6.7170227</td></tr>\n",
       "\t<tr><th scope=row>CRP</th><td> 5.045064</td><td> 6.621215</td><td>3.7443194</td></tr>\n",
       "\t<tr><th scope=row>CD64</th><td>20.561410</td><td>65.586930</td><td>3.0141806</td></tr>\n",
       "\t<tr><th scope=row>IL-6</th><td> 8.383418</td><td>15.533617</td><td>3.9951144</td></tr>\n",
       "\t<tr><th scope=row>sTREM-1</th><td> 6.558606</td><td>24.048878</td><td>0.5683738</td></tr>\n",
       "\t<tr><th scope=row>LBP</th><td> 3.624429</td><td>12.861587</td><td>0.4134923</td></tr>\n",
       "\t<tr><th scope=row>SIRS</th><td> 4.214887</td><td> 8.940849</td><td>1.4313695</td></tr>\n",
       "\t<tr><th scope=row>SOFA</th><td> 6.509130</td><td>13.848209</td><td>2.3114894</td></tr>\n",
       "</tbody>\n",
       "</table>\n"
      ],
      "text/latex": [
       "A data.frame: 10 × 3\n",
       "\\begin{tabular}{r|lll}\n",
       "  & mean & ub & lb\\\\\n",
       "  & <dbl> & <dbl> & <dbl>\\\\\n",
       "\\hline\n",
       "\tqSOFA & 13.526483 & 45.181787 & 0.8033880\\\\\n",
       "\tPCT &  8.300979 &  9.960500 & 6.8406802\\\\\n",
       "\tpresepsin & 11.327114 & 17.527737 & 6.7170227\\\\\n",
       "\tCRP &  5.045064 &  6.621215 & 3.7443194\\\\\n",
       "\tCD64 & 20.561410 & 65.586930 & 3.0141806\\\\\n",
       "\tIL-6 &  8.383418 & 15.533617 & 3.9951144\\\\\n",
       "\tsTREM-1 &  6.558606 & 24.048878 & 0.5683738\\\\\n",
       "\tLBP &  3.624429 & 12.861587 & 0.4134923\\\\\n",
       "\tSIRS &  4.214887 &  8.940849 & 1.4313695\\\\\n",
       "\tSOFA &  6.509130 & 13.848209 & 2.3114894\\\\\n",
       "\\end{tabular}\n"
      ],
      "text/markdown": [
       "\n",
       "A data.frame: 10 × 3\n",
       "\n",
       "| <!--/--> | mean &lt;dbl&gt; | ub &lt;dbl&gt; | lb &lt;dbl&gt; |\n",
       "|---|---|---|---|\n",
       "| qSOFA | 13.526483 | 45.181787 | 0.8033880 |\n",
       "| PCT |  8.300979 |  9.960500 | 6.8406802 |\n",
       "| presepsin | 11.327114 | 17.527737 | 6.7170227 |\n",
       "| CRP |  5.045064 |  6.621215 | 3.7443194 |\n",
       "| CD64 | 20.561410 | 65.586930 | 3.0141806 |\n",
       "| IL-6 |  8.383418 | 15.533617 | 3.9951144 |\n",
       "| sTREM-1 |  6.558606 | 24.048878 | 0.5683738 |\n",
       "| LBP |  3.624429 | 12.861587 | 0.4134923 |\n",
       "| SIRS |  4.214887 |  8.940849 | 1.4313695 |\n",
       "| SOFA |  6.509130 | 13.848209 | 2.3114894 |\n",
       "\n"
      ],
      "text/plain": [
       "          mean      ub        lb       \n",
       "qSOFA     13.526483 45.181787 0.8033880\n",
       "PCT        8.300979  9.960500 6.8406802\n",
       "presepsin 11.327114 17.527737 6.7170227\n",
       "CRP        5.045064  6.621215 3.7443194\n",
       "CD64      20.561410 65.586930 3.0141806\n",
       "IL-6       8.383418 15.533617 3.9951144\n",
       "sTREM-1    6.558606 24.048878 0.5683738\n",
       "LBP        3.624429 12.861587 0.4134923\n",
       "SIRS       4.214887  8.940849 1.4313695\n",
       "SOFA       6.509130 13.848209 2.3114894"
      ]
     },
     "metadata": {},
     "output_type": "display_data"
    }
   ],
   "source": [
    "rownames(results.nma.95$dor)=c('qSOFA','PCT','presepsin','CRP','CD64','IL-6','sTREM-1','LBP','SIRS','SOFA')\n",
    "results.nma.95$dor"
   ]
  },
  {
   "cell_type": "markdown",
   "metadata": {},
   "source": [
    "### Print the results of pooled Superiority index from Network Meta-analysis"
   ]
  },
  {
   "cell_type": "code",
   "execution_count": 17,
   "metadata": {},
   "outputs": [
    {
     "data": {
      "text/html": [
       "<table class=\"dataframe\">\n",
       "<caption>A data.frame: 10 × 3</caption>\n",
       "<thead>\n",
       "\t<tr><th></th><th scope=col>mean</th><th scope=col>ub</th><th scope=col>lb</th></tr>\n",
       "\t<tr><th></th><th scope=col>&lt;dbl&gt;</th><th scope=col>&lt;dbl&gt;</th><th scope=col>&lt;dbl&gt;</th></tr>\n",
       "</thead>\n",
       "<tbody>\n",
       "\t<tr><th scope=row>qSOFA</th><td>1.3767658</td><td> 5</td><td>0.06666667</td></tr>\n",
       "\t<tr><th scope=row>PCT</th><td>3.0181405</td><td> 9</td><td>0.60000000</td></tr>\n",
       "\t<tr><th scope=row>presepsin</th><td>5.8115763</td><td>13</td><td>1.00000000</td></tr>\n",
       "\t<tr><th scope=row>CRP</th><td>0.4198025</td><td> 1</td><td>0.09090909</td></tr>\n",
       "\t<tr><th scope=row>CD64</th><td>9.3230095</td><td>17</td><td>0.20000000</td></tr>\n",
       "\t<tr><th scope=row>IL-6</th><td>3.1167224</td><td>11</td><td>0.14285714</td></tr>\n",
       "\t<tr><th scope=row>sTREM-1</th><td>1.6822008</td><td>11</td><td>0.05882353</td></tr>\n",
       "\t<tr><th scope=row>LBP</th><td>0.5794632</td><td> 5</td><td>0.05882353</td></tr>\n",
       "\t<tr><th scope=row>SIRS</th><td>0.6611422</td><td> 3</td><td>0.07692308</td></tr>\n",
       "\t<tr><th scope=row>SOFA</th><td>1.7245759</td><td> 7</td><td>0.09090909</td></tr>\n",
       "</tbody>\n",
       "</table>\n"
      ],
      "text/latex": [
       "A data.frame: 10 × 3\n",
       "\\begin{tabular}{r|lll}\n",
       "  & mean & ub & lb\\\\\n",
       "  & <dbl> & <dbl> & <dbl>\\\\\n",
       "\\hline\n",
       "\tqSOFA & 1.3767658 &  5 & 0.06666667\\\\\n",
       "\tPCT & 3.0181405 &  9 & 0.60000000\\\\\n",
       "\tpresepsin & 5.8115763 & 13 & 1.00000000\\\\\n",
       "\tCRP & 0.4198025 &  1 & 0.09090909\\\\\n",
       "\tCD64 & 9.3230095 & 17 & 0.20000000\\\\\n",
       "\tIL-6 & 3.1167224 & 11 & 0.14285714\\\\\n",
       "\tsTREM-1 & 1.6822008 & 11 & 0.05882353\\\\\n",
       "\tLBP & 0.5794632 &  5 & 0.05882353\\\\\n",
       "\tSIRS & 0.6611422 &  3 & 0.07692308\\\\\n",
       "\tSOFA & 1.7245759 &  7 & 0.09090909\\\\\n",
       "\\end{tabular}\n"
      ],
      "text/markdown": [
       "\n",
       "A data.frame: 10 × 3\n",
       "\n",
       "| <!--/--> | mean &lt;dbl&gt; | ub &lt;dbl&gt; | lb &lt;dbl&gt; |\n",
       "|---|---|---|---|\n",
       "| qSOFA | 1.3767658 |  5 | 0.06666667 |\n",
       "| PCT | 3.0181405 |  9 | 0.60000000 |\n",
       "| presepsin | 5.8115763 | 13 | 1.00000000 |\n",
       "| CRP | 0.4198025 |  1 | 0.09090909 |\n",
       "| CD64 | 9.3230095 | 17 | 0.20000000 |\n",
       "| IL-6 | 3.1167224 | 11 | 0.14285714 |\n",
       "| sTREM-1 | 1.6822008 | 11 | 0.05882353 |\n",
       "| LBP | 0.5794632 |  5 | 0.05882353 |\n",
       "| SIRS | 0.6611422 |  3 | 0.07692308 |\n",
       "| SOFA | 1.7245759 |  7 | 0.09090909 |\n",
       "\n"
      ],
      "text/plain": [
       "          mean      ub lb        \n",
       "qSOFA     1.3767658  5 0.06666667\n",
       "PCT       3.0181405  9 0.60000000\n",
       "presepsin 5.8115763 13 1.00000000\n",
       "CRP       0.4198025  1 0.09090909\n",
       "CD64      9.3230095 17 0.20000000\n",
       "IL-6      3.1167224 11 0.14285714\n",
       "sTREM-1   1.6822008 11 0.05882353\n",
       "LBP       0.5794632  5 0.05882353\n",
       "SIRS      0.6611422  3 0.07692308\n",
       "SOFA      1.7245759  7 0.09090909"
      ]
     },
     "metadata": {},
     "output_type": "display_data"
    }
   ],
   "source": [
    "rownames(results.nma.95$sindex)=c('qSOFA','PCT','presepsin','CRP','CD64','IL-6','sTREM-1','LBP','SIRS','SOFA')\n",
    "results.nma.95$sindex"
   ]
  },
  {
   "cell_type": "markdown",
   "metadata": {},
   "source": [
    "### Print the results of pooled Superiority index for Sensitivity from Network Meta-analysis"
   ]
  },
  {
   "cell_type": "code",
   "execution_count": 18,
   "metadata": {},
   "outputs": [
    {
     "data": {
      "text/html": [
       "<table class=\"dataframe\">\n",
       "<caption>A data.frame: 10 × 3</caption>\n",
       "<thead>\n",
       "\t<tr><th></th><th scope=col>mean</th><th scope=col>ub</th><th scope=col>lb</th></tr>\n",
       "\t<tr><th></th><th scope=col>&lt;dbl&gt;</th><th scope=col>&lt;dbl&gt;</th><th scope=col>&lt;dbl&gt;</th></tr>\n",
       "</thead>\n",
       "<tbody>\n",
       "\t<tr><th scope=row>qSOFA</th><td>0.1001510</td><td> 0.3333333</td><td>0.05263158</td></tr>\n",
       "\t<tr><th scope=row>PCT</th><td>2.0739580</td><td> 5.6666667</td><td>0.81818182</td></tr>\n",
       "\t<tr><th scope=row>presepsin</th><td>8.9231022</td><td>19.0000000</td><td>1.85714286</td></tr>\n",
       "\t<tr><th scope=row>CRP</th><td>0.8571430</td><td> 1.8571429</td><td>0.33333333</td></tr>\n",
       "\t<tr><th scope=row>CD64</th><td>9.6899868</td><td>19.0000000</td><td>0.33333333</td></tr>\n",
       "\t<tr><th scope=row>IL-6</th><td>2.0272871</td><td> 5.6666667</td><td>0.53846154</td></tr>\n",
       "\t<tr><th scope=row>sTREM-1</th><td>0.6012746</td><td> 3.0000000</td><td>0.05263158</td></tr>\n",
       "\t<tr><th scope=row>LBP</th><td>1.6826068</td><td>19.0000000</td><td>0.05263158</td></tr>\n",
       "\t<tr><th scope=row>SIRS</th><td>6.3423378</td><td>19.0000000</td><td>0.53846154</td></tr>\n",
       "\t<tr><th scope=row>SOFA</th><td>0.3672633</td><td> 0.8181818</td><td>0.17647059</td></tr>\n",
       "</tbody>\n",
       "</table>\n"
      ],
      "text/latex": [
       "A data.frame: 10 × 3\n",
       "\\begin{tabular}{r|lll}\n",
       "  & mean & ub & lb\\\\\n",
       "  & <dbl> & <dbl> & <dbl>\\\\\n",
       "\\hline\n",
       "\tqSOFA & 0.1001510 &  0.3333333 & 0.05263158\\\\\n",
       "\tPCT & 2.0739580 &  5.6666667 & 0.81818182\\\\\n",
       "\tpresepsin & 8.9231022 & 19.0000000 & 1.85714286\\\\\n",
       "\tCRP & 0.8571430 &  1.8571429 & 0.33333333\\\\\n",
       "\tCD64 & 9.6899868 & 19.0000000 & 0.33333333\\\\\n",
       "\tIL-6 & 2.0272871 &  5.6666667 & 0.53846154\\\\\n",
       "\tsTREM-1 & 0.6012746 &  3.0000000 & 0.05263158\\\\\n",
       "\tLBP & 1.6826068 & 19.0000000 & 0.05263158\\\\\n",
       "\tSIRS & 6.3423378 & 19.0000000 & 0.53846154\\\\\n",
       "\tSOFA & 0.3672633 &  0.8181818 & 0.17647059\\\\\n",
       "\\end{tabular}\n"
      ],
      "text/markdown": [
       "\n",
       "A data.frame: 10 × 3\n",
       "\n",
       "| <!--/--> | mean &lt;dbl&gt; | ub &lt;dbl&gt; | lb &lt;dbl&gt; |\n",
       "|---|---|---|---|\n",
       "| qSOFA | 0.1001510 |  0.3333333 | 0.05263158 |\n",
       "| PCT | 2.0739580 |  5.6666667 | 0.81818182 |\n",
       "| presepsin | 8.9231022 | 19.0000000 | 1.85714286 |\n",
       "| CRP | 0.8571430 |  1.8571429 | 0.33333333 |\n",
       "| CD64 | 9.6899868 | 19.0000000 | 0.33333333 |\n",
       "| IL-6 | 2.0272871 |  5.6666667 | 0.53846154 |\n",
       "| sTREM-1 | 0.6012746 |  3.0000000 | 0.05263158 |\n",
       "| LBP | 1.6826068 | 19.0000000 | 0.05263158 |\n",
       "| SIRS | 6.3423378 | 19.0000000 | 0.53846154 |\n",
       "| SOFA | 0.3672633 |  0.8181818 | 0.17647059 |\n",
       "\n"
      ],
      "text/plain": [
       "          mean      ub         lb        \n",
       "qSOFA     0.1001510  0.3333333 0.05263158\n",
       "PCT       2.0739580  5.6666667 0.81818182\n",
       "presepsin 8.9231022 19.0000000 1.85714286\n",
       "CRP       0.8571430  1.8571429 0.33333333\n",
       "CD64      9.6899868 19.0000000 0.33333333\n",
       "IL-6      2.0272871  5.6666667 0.53846154\n",
       "sTREM-1   0.6012746  3.0000000 0.05263158\n",
       "LBP       1.6826068 19.0000000 0.05263158\n",
       "SIRS      6.3423378 19.0000000 0.53846154\n",
       "SOFA      0.3672633  0.8181818 0.17647059"
      ]
     },
     "metadata": {},
     "output_type": "display_data"
    }
   ],
   "source": [
    "rownames(results.nma.95$sindex_se)=c('qSOFA','PCT','presepsin','CRP','CD64','IL-6','sTREM-1','LBP','SIRS','SOFA')\n",
    "results.nma.95$sindex_se"
   ]
  },
  {
   "cell_type": "markdown",
   "metadata": {},
   "source": [
    "### Print the results of pooled Superiority index for Specificity from Network Meta-analysis"
   ]
  },
  {
   "cell_type": "code",
   "execution_count": 19,
   "metadata": {},
   "outputs": [
    {
     "data": {
      "text/html": [
       "<table class=\"dataframe\">\n",
       "<caption>A data.frame: 10 × 3</caption>\n",
       "<thead>\n",
       "\t<tr><th></th><th scope=col>mean</th><th scope=col>ub</th><th scope=col>lb</th></tr>\n",
       "\t<tr><th></th><th scope=col>&lt;dbl&gt;</th><th scope=col>&lt;dbl&gt;</th><th scope=col>&lt;dbl&gt;</th></tr>\n",
       "</thead>\n",
       "<tbody>\n",
       "\t<tr><th scope=row>qSOFA</th><td>16.3646223</td><td>19.0000000</td><td>0.33333333</td></tr>\n",
       "\t<tr><th scope=row>PCT</th><td> 1.2382790</td><td> 3.0000000</td><td>0.53846154</td></tr>\n",
       "\t<tr><th scope=row>presepsin</th><td> 1.0221550</td><td> 3.0000000</td><td>0.17647059</td></tr>\n",
       "\t<tr><th scope=row>CRP</th><td> 0.4962017</td><td> 1.2222222</td><td>0.17647059</td></tr>\n",
       "\t<tr><th scope=row>CD64</th><td> 3.1887404</td><td>19.0000000</td><td>0.17647059</td></tr>\n",
       "\t<tr><th scope=row>IL-6</th><td> 1.4958993</td><td> 5.6666667</td><td>0.17647059</td></tr>\n",
       "\t<tr><th scope=row>sTREM-1</th><td> 4.2778313</td><td>19.0000000</td><td>0.05263158</td></tr>\n",
       "\t<tr><th scope=row>LBP</th><td> 0.4658956</td><td> 3.0000000</td><td>0.05263158</td></tr>\n",
       "\t<tr><th scope=row>SIRS</th><td> 0.1140790</td><td> 0.3333333</td><td>0.05263158</td></tr>\n",
       "\t<tr><th scope=row>SOFA</th><td> 4.0014070</td><td>19.0000000</td><td>0.33333333</td></tr>\n",
       "</tbody>\n",
       "</table>\n"
      ],
      "text/latex": [
       "A data.frame: 10 × 3\n",
       "\\begin{tabular}{r|lll}\n",
       "  & mean & ub & lb\\\\\n",
       "  & <dbl> & <dbl> & <dbl>\\\\\n",
       "\\hline\n",
       "\tqSOFA & 16.3646223 & 19.0000000 & 0.33333333\\\\\n",
       "\tPCT &  1.2382790 &  3.0000000 & 0.53846154\\\\\n",
       "\tpresepsin &  1.0221550 &  3.0000000 & 0.17647059\\\\\n",
       "\tCRP &  0.4962017 &  1.2222222 & 0.17647059\\\\\n",
       "\tCD64 &  3.1887404 & 19.0000000 & 0.17647059\\\\\n",
       "\tIL-6 &  1.4958993 &  5.6666667 & 0.17647059\\\\\n",
       "\tsTREM-1 &  4.2778313 & 19.0000000 & 0.05263158\\\\\n",
       "\tLBP &  0.4658956 &  3.0000000 & 0.05263158\\\\\n",
       "\tSIRS &  0.1140790 &  0.3333333 & 0.05263158\\\\\n",
       "\tSOFA &  4.0014070 & 19.0000000 & 0.33333333\\\\\n",
       "\\end{tabular}\n"
      ],
      "text/markdown": [
       "\n",
       "A data.frame: 10 × 3\n",
       "\n",
       "| <!--/--> | mean &lt;dbl&gt; | ub &lt;dbl&gt; | lb &lt;dbl&gt; |\n",
       "|---|---|---|---|\n",
       "| qSOFA | 16.3646223 | 19.0000000 | 0.33333333 |\n",
       "| PCT |  1.2382790 |  3.0000000 | 0.53846154 |\n",
       "| presepsin |  1.0221550 |  3.0000000 | 0.17647059 |\n",
       "| CRP |  0.4962017 |  1.2222222 | 0.17647059 |\n",
       "| CD64 |  3.1887404 | 19.0000000 | 0.17647059 |\n",
       "| IL-6 |  1.4958993 |  5.6666667 | 0.17647059 |\n",
       "| sTREM-1 |  4.2778313 | 19.0000000 | 0.05263158 |\n",
       "| LBP |  0.4658956 |  3.0000000 | 0.05263158 |\n",
       "| SIRS |  0.1140790 |  0.3333333 | 0.05263158 |\n",
       "| SOFA |  4.0014070 | 19.0000000 | 0.33333333 |\n",
       "\n"
      ],
      "text/plain": [
       "          mean       ub         lb        \n",
       "qSOFA     16.3646223 19.0000000 0.33333333\n",
       "PCT        1.2382790  3.0000000 0.53846154\n",
       "presepsin  1.0221550  3.0000000 0.17647059\n",
       "CRP        0.4962017  1.2222222 0.17647059\n",
       "CD64       3.1887404 19.0000000 0.17647059\n",
       "IL-6       1.4958993  5.6666667 0.17647059\n",
       "sTREM-1    4.2778313 19.0000000 0.05263158\n",
       "LBP        0.4658956  3.0000000 0.05263158\n",
       "SIRS       0.1140790  0.3333333 0.05263158\n",
       "SOFA       4.0014070 19.0000000 0.33333333"
      ]
     },
     "metadata": {},
     "output_type": "display_data"
    }
   ],
   "source": [
    "rownames(results.nma.95$sindex_sp)=c('qSOFA','PCT','presepsin','CRP','CD64','IL-6','sTREM-1','LBP','SIRS','SOFA')\n",
    "results.nma.95$sindex_sp"
   ]
  },
  {
   "cell_type": "markdown",
   "metadata": {},
   "source": [
    "##################################################################################\n",
    "###                          Univariable Network meta-regression                         ###\n",
    "##################################################################################"
   ]
  },
  {
   "cell_type": "markdown",
   "metadata": {},
   "source": [
    "### Define a function to get the results from Univariable Network Meta-regression"
   ]
  },
  {
   "cell_type": "code",
   "execution_count": 20,
   "metadata": {},
   "outputs": [],
   "source": [
    "get.nma.1mk<-function(data.ls=NULL,mk.names=NULL,n.study=1,conf=95){\n",
    "\t           data.nma<-data.ls$data.nma\n",
    "\t           func.ub<-NULL\n",
    "\t           func.lb<-NULL\n",
    "\t           if(conf==95){\n",
    "\t\t                      func.ub<-get.ub.95\n",
    "\t\t                      func.lb<-get.lb.95\n",
    "\t           } else if(conf==90){\n",
    "\t\t                             func.ub<-get.ub.90\n",
    "\t\t                             func.lb<-get.lb.90\n",
    "\t           }\n",
    "\t           data.nma.muse<-data.nma[paste('MU[',1,',',1:length(data.ls$mk),']',sep='')]\n",
    "\t           data.nma.musp<-data.nma[paste('MU[',2,',',1:length(data.ls$mk),']',sep='')]\n",
    "\t           data.nma.rrse<-data.nma[paste('RR[',1,',',1:length(data.ls$mk),']',sep='')]\n",
    "\t           data.nma.rrsp<-data.nma[paste('RR[',2,',',1:length(data.ls$mk),']',sep='')]\n",
    "\t           data.nma.orse<-data.nma[paste('OR[',1,',',1:length(data.ls$mk),']',sep='')]\n",
    "\t           data.nma.orsp<-data.nma[paste('OR[',2,',',1:length(data.ls$mk),']',sep='')]\n",
    "\t           data.nma.dor<-data.nma[paste('DOR[',1:length(data.ls$mk),']',sep='')]\n",
    "\t           data.nma.sindex<-data.nma[paste('S[',1:length(data.ls$mk),']',sep='')]\n",
    "\t           data.nma.sindex_se<-data.nma[paste('S_se[',1:length(data.ls$mk),']',sep='')]\n",
    "\t           data.nma.sindex_sp<-data.nma[paste('S_sp[',1:length(data.ls$mk),']',sep='')]\n",
    "\t           data.nma.beta1se<-data.nma[paste('beta1[1,',1:length(data.ls$mk),']',sep='')]\n",
    "\t           data.nma.beta1sp<-data.nma[paste('beta1[2,',1:length(data.ls$mk),']',sep='')]\n",
    "\t           mu.info<-data.frame(mean_sp=array(unlist(lapply(data.nma.musp,mean))),\n",
    "\t                               ub_sp=array(unlist(lapply(data.nma.musp,func.ub))),\n",
    "\t                               lb_sp=array(unlist(lapply(data.nma.musp,func.lb))),\n",
    "\t                               mean_se=array(unlist(lapply(data.nma.muse,mean))),\n",
    "\t                               ub_se=array(unlist(lapply(data.nma.muse,func.ub))),\n",
    "\t                               lb_se=array(unlist(lapply(data.nma.muse,func.lb))))\n",
    "\t           rr.info<-data.frame(mean_sp=array(unlist(lapply(data.nma.rrsp,mean))),\n",
    "\t                               ub_sp=array(unlist(lapply(data.nma.rrsp,func.ub))),\n",
    "\t                               lb_sp=array(unlist(lapply(data.nma.rrsp,func.lb))),\n",
    "\t                               mean_se=array(unlist(lapply(data.nma.rrse,mean))),\n",
    "\t                               ub_se=array(unlist(lapply(data.nma.rrse,func.ub))),\n",
    "\t                               lb_se=array(unlist(lapply(data.nma.rrse,func.lb))))\n",
    "\t           or.info<-data.frame(mean_sp=array(unlist(lapply(data.nma.orsp,mean))),\n",
    "\t                               ub_sp=array(unlist(lapply(data.nma.orsp,func.ub))),\n",
    "\t                               lb_sp=array(unlist(lapply(data.nma.orsp,func.lb))),\n",
    "\t                               mean_se=array(unlist(lapply(data.nma.orse,mean))),\n",
    "\t                               ub_se=array(unlist(lapply(data.nma.orse,func.ub))),\n",
    "\t                               lb_se=array(unlist(lapply(data.nma.orse,func.lb))))\n",
    "\t           dor.info<-data.frame(mean=array(unlist(lapply(data.nma.dor,mean))),\n",
    "\t                                ub=array(unlist(lapply(data.nma.dor,func.ub))),\n",
    "\t                                lb=array(unlist(lapply(data.nma.dor,func.lb))))\n",
    "\t           sindex.info<-data.frame(mean=array(unlist(lapply(data.nma.sindex,mean))),\n",
    "\t                                   ub=array(unlist(lapply(data.nma.sindex,func.ub))),\n",
    "\t                                   lb=array(unlist(lapply(data.nma.sindex,func.lb))))\n",
    "\t           sindex_se.info<-data.frame(mean=array(unlist(lapply(data.nma.sindex_se,mean))),\n",
    "\t                                      ub=array(unlist(lapply(data.nma.sindex_se,func.ub))),\n",
    "\t                                      lb=array(unlist(lapply(data.nma.sindex_se,func.lb))))\n",
    "\t           sindex_sp.info<-data.frame(mean=array(unlist(lapply(data.nma.sindex_sp,mean))),\n",
    "\t                                      ub=array(unlist(lapply(data.nma.sindex_sp,func.ub))),\n",
    "\t                                      lb=array(unlist(lapply(data.nma.sindex_sp,func.lb))))\n",
    "\t           beta1.info<-data.frame(mean_sp=array(unlist(lapply(data.nma.beta1sp,mean))),\n",
    "\t                                  ub_sp=array(unlist(lapply(data.nma.beta1sp,func.ub))),\n",
    "\t                                  lb_sp=array(unlist(lapply(data.nma.beta1sp,func.lb))),\n",
    "\t                                  mean_se=array(unlist(lapply(data.nma.beta1se,mean))),\n",
    "\t                                  ub_se=array(unlist(lapply(data.nma.beta1se,func.ub))),\n",
    "\t                                  lb_se=array(unlist(lapply(data.nma.beta1se,func.lb))))\n",
    "\t           results.nma<-list(marker=mk.names[mk.names %in% data.ls$mk],\n",
    "\t                             mu=mu.info,\n",
    "\t                             rr=rr.info,\n",
    "\t                             or=or.info,\n",
    "\t                             dor=dor.info,\n",
    "\t                             sindex=sindex.info,\n",
    "\t                             sindex_se=sindex_se.info,\n",
    "\t                             sindex_sp=sindex_sp.info,\n",
    "\t                             beta1=beta1.info)\n",
    "\treturn(results.nma)\n",
    "}"
   ]
  },
  {
   "cell_type": "markdown",
   "metadata": {},
   "source": [
    "### Univariable Network Meta-regression (STAN code)"
   ]
  },
  {
   "cell_type": "code",
   "execution_count": 24,
   "metadata": {},
   "outputs": [],
   "source": [
    "stan.code.1mk<-'\n",
    "                data{\n",
    "                      int N;         //number of comparison (n=121)\n",
    "                      int Nt;        //number of test (n=7)\n",
    "                      int Ns;        //number of study (n=107)\n",
    "                      int TP[N];\n",
    "                      int Dis[N];    //diseased\n",
    "                      int TN[N];\n",
    "                      int NDis[N];   //non-diseased\n",
    "                      int Study[N];\n",
    "                      int Test[N];\n",
    "                      int Covar1[N]; //one additional variable\n",
    "                    }\n",
    "\n",
    "                parameters{\n",
    "                            matrix[2,Nt] logitmu;\n",
    "                            vector[Ns] nu[2];\n",
    "                            matrix[Ns,Nt] delta[2];\n",
    "                            vector<lower=0>[Nt] tau[2];\n",
    "                            vector<lower=0>[2] sigmab; \n",
    "                            real<lower=-1,upper=1> rho;\n",
    "                            matrix[2,Nt] beta1;\n",
    "                        }\n",
    "\n",
    "                transformed parameters{\n",
    "                                        matrix[Ns,2] p_i[Nt];\n",
    "                                        matrix[2,Nt] MU;\n",
    "                                        matrix[2,Nt] RR;\n",
    "                                        matrix[2,Nt] OR;\n",
    "                                        vector[Nt] DOR;\n",
    "                                        vector[Nt] S;\n",
    "                                        vector[Nt] S_se;\n",
    "                                        vector[Nt] S_sp;\n",
    "                                        matrix[Nt,Nt] A;\n",
    "                                        matrix[Nt,Nt] B;\n",
    "                                        matrix[Nt,Nt] C;\n",
    "                                        matrix[Nt, Nt] A_se;\n",
    "                                        matrix[Nt, Nt] B_se;\n",
    "                                        matrix[Nt, Nt] C_se;\n",
    "                                        matrix[Nt, Nt] A_sp;\n",
    "                                        matrix[Nt, Nt] B_sp;\n",
    "                                        matrix[Nt, Nt] C_sp;\n",
    "\n",
    "                                        vector<lower=0>[Nt] tausq[2];\n",
    "                                        vector<lower=0>[2] sigmabsq;\n",
    "\n",
    "                                        matrix[Nt,Nt] sigmasq[2];\n",
    "                                        matrix[Nt,Nt] rhow[2];\n",
    "\n",
    "                for (i in 1:Ns){\n",
    "                     for (j in 1:2){\n",
    "                          for (k in 1:Nt){\n",
    "                                           p_i[k][i,j]=inv_logit(logitmu[j,k]+nu[j][i]+delta[j][i,k]+beta1[j,k]*Covar1[i]);\n",
    "                           }\n",
    "                      }\n",
    "                 }\n",
    "\n",
    "                for (j in 1:2){\n",
    "                     for (k in 1:Nt){\n",
    "                                      MU[j,k]=mean(col(p_i[k],j));\n",
    "                     }\n",
    "                      tausq[j]=(tau[j]).*(tau[j]);\n",
    "                }\n",
    "                  \n",
    "                for (j in 1:2){\n",
    "                     for (k in 1:Nt){\n",
    "                                      RR[j,k]=MU[j,k]/MU[j,1]; \n",
    "                                      OR[j,k]=(MU[j,k]*(1-MU[j,1]))/(MU[j,1]*(1-MU[j,k]));\n",
    "                       }\n",
    "                 }\n",
    "\n",
    "                for (l in 1:Nt){\n",
    "                                 DOR[l]=(MU[1,l]*MU[2,l])/((1-MU[1,l])*(1-MU[2,l]));\n",
    "                     for(m in 1:Nt){\n",
    "                                     A[l,m]=if_else((MU[1,l]>MU[1,m]) && (MU[2,l]>MU[2,m]),1,0);\n",
    "                                     B[l,m]=if_else((MU[1,l]<MU[1,m]) && (MU[2,l]<MU[2,m]),1,0);\n",
    "                                     C[l,m]=if_else((MU[1,l]==MU[1,m]) && (MU[2,l]==MU[2,m]),1,0);\n",
    "                                     \n",
    "                                     A_se[l, m] = if_else((MU[1, l] > MU[1, m]), 1, 0);\n",
    "                                     B_se[l, m] = if_else((MU[1, l] < MU[1, m]), 1, 0);\n",
    "                                     C_se[l, m] = if_else((MU[1, l] == MU[1, m]), 1, 0);\n",
    " \n",
    "                                     A_sp[l, m] = if_else((MU[2, l] > MU[2, m]), 1, 0);\n",
    "                                     B_sp[l, m] = if_else((MU[2, l] < MU[2, m]), 1, 0);\n",
    "                                     C_sp[l, m] = if_else((MU[2, l] == MU[2, m]), 1, 0);\n",
    "                      }\n",
    "                        S[l]=(2*sum(row(A,l))+sum(row(C,l)))/(2*sum(row(B,l))+sum(row(C,l)));\n",
    "                        S_se[l] = (2*sum(row(A_se, l)) + sum(row(C_se, l)))/(2*sum(row(B_se, l)) + sum(row(C_se, l)));\n",
    "                        S_sp[l] = (2*sum(row(A_sp, l)) + sum(row(C_sp, l)))/(2*sum(row(B_sp, l)) + sum(row(C_sp, l)));\n",
    "                }\n",
    "        \n",
    "                 sigmabsq=(sigmab).*(sigmab);\n",
    "\n",
    "                for (j in 1:2){\n",
    "                     for (k in 1:Nt){\n",
    "                          for (l in 1:Nt){\n",
    "                                           sigmasq[j][k,l]=(sigmabsq[j]+tausq[j][k])*((sigmabsq[j]+tausq[j][l]));\n",
    "                                           rhow[j][k,l]=sigmabsq[j]/sqrt(sigmasq[j][k,l]);\n",
    "                            }\n",
    "                       }\n",
    "                 }\n",
    "            }\n",
    "\n",
    "                model{\n",
    "                      //Priors\n",
    "                      for (j in 1:2){\n",
    "                                      logitmu[j]~normal(0,5);\n",
    "                                      tau[j]~cauchy(0,2.5);\n",
    "                                      \n",
    "                           for (k in 1:Nt){\n",
    "                                            beta1[j,k]~normal(0,5);\n",
    "                           }            \n",
    "                      }\n",
    "                       sigmab~cauchy(0, 2.5);\n",
    "                       rho~uniform(-1, 1);\n",
    "                       nu[2]~normal(0,sigmab[2]);\n",
    "\n",
    "                      for (i in 1:Ns){\n",
    "                                       nu[1][i]~normal((sigmab[1]/sigmab[2])*rho*nu[2][i],sqrt(sigmabsq[1]*(1-(rho*rho))));\n",
    "                           for (j in 1:2){\n",
    "                               for (k in 1:Nt){\n",
    "                                                delta[j][i,k]~normal(0,tau[j][k]);\n",
    "                              }\n",
    "                         }\n",
    "                      }\n",
    "\n",
    "                     for (n in 1:N){\n",
    "                                     TP[n]~binomial(Dis[n],p_i[Test[n]][Study[n],1]);\n",
    "                                     TN[n]~binomial(NDis[n],p_i[Test[n]][Study[n],2]);\n",
    "                      }\n",
    "\n",
    "                    }\n",
    "\n",
    "                generated quantities{\n",
    "                                      vector[2*N] loglik;\n",
    "\n",
    "                                      for (n in 1:N){\n",
    "                                                      loglik[n]=binomial_lpmf(TN[n]|NDis[n],p_i[Test[n]][Study[n],1]);\n",
    "                                       }\n",
    "                                      for (n in (N+1):(2*N)){\n",
    "                                                              loglik[n]=binomial_lpmf(TN[n-N]|NDis[n-N],p_i[Test[n-N]][Study[n-N],2]);\n",
    "                                       }\n",
    "                }\n",
    "'"
   ]
  },
  {
   "cell_type": "markdown",
   "metadata": {},
   "source": [
    "### Prepare data for Network Meta-regression"
   ]
  },
  {
   "cell_type": "code",
   "execution_count": 25,
   "metadata": {},
   "outputs": [],
   "source": [
    "para.as.ls.1mk<-list(N=nrow(para),\n",
    "                     Nt=length(unique(para$Test)),\n",
    "                     Ns=length(unique(para$Study)),\n",
    "                     TP=para$TP,\n",
    "                     Dis=para$Dis,\n",
    "                     TN=para$TN,\n",
    "                     NDis=para$NDis,\n",
    "                     Study=as.numeric(para$Study),\n",
    "                     Test=para$Test,\n",
    "                     Covar1=data$is.prevalence05)"
   ]
  },
  {
   "cell_type": "markdown",
   "metadata": {},
   "source": [
    "### Compiling model"
   ]
  },
  {
   "cell_type": "code",
   "execution_count": 26,
   "metadata": {},
   "outputs": [
    {
     "name": "stdout",
     "output_type": "stream",
     "text": [
      "\n",
      "SAMPLING FOR MODEL 'ba28c30f4d7b4e109b9003b7ef4d575b' NOW (CHAIN 1).\n",
      "Chain 1: \n",
      "Chain 1: Gradient evaluation took 0 seconds\n",
      "Chain 1: 1000 transitions using 10 leapfrog steps per transition would take 0 seconds.\n",
      "Chain 1: Adjust your expectations accordingly!\n",
      "Chain 1: \n",
      "Chain 1: \n",
      "Chain 1: WARNING: No variance estimation is\n",
      "Chain 1:          performed for num_warmup < 20\n",
      "Chain 1: \n",
      "Chain 1: Iteration: 1 / 1 [100%]  (Sampling)\n",
      "Chain 1: \n",
      "Chain 1:  Elapsed Time: 0 seconds (Warm-up)\n",
      "Chain 1:                0.002 seconds (Sampling)\n",
      "Chain 1:                0.002 seconds (Total)\n",
      "Chain 1: \n"
     ]
    },
    {
     "name": "stderr",
     "output_type": "stream",
     "text": [
      "Warning message:\n",
      "\"There were 1 divergent transitions after warmup. See\n",
      "http://mc-stan.org/misc/warnings.html#divergent-transitions-after-warmup\n",
      "to find out why this is a problem and how to eliminate them.\"\n",
      "Warning message:\n",
      "\"Examine the pairs() plot to diagnose sampling problems\n",
      "\"\n"
     ]
    }
   ],
   "source": [
    "stan.model.1mk<-stan(model_code=stan.code.1mk, \n",
    "                     data=para.as.ls.1mk, \n",
    "                     iter=1, \n",
    "                     warmup=0, \n",
    "                     chains=1)"
   ]
  },
  {
   "cell_type": "markdown",
   "metadata": {},
   "source": [
    "### Running model"
   ]
  },
  {
   "cell_type": "code",
   "execution_count": 27,
   "metadata": {},
   "outputs": [
    {
     "name": "stderr",
     "output_type": "stream",
     "text": [
      "Warning message:\n",
      "\"There were 24 divergent transitions after warmup. See\n",
      "http://mc-stan.org/misc/warnings.html#divergent-transitions-after-warmup\n",
      "to find out why this is a problem and how to eliminate them.\"\n",
      "Warning message:\n",
      "\"There were 14 transitions after warmup that exceeded the maximum treedepth. Increase max_treedepth above 17. See\n",
      "http://mc-stan.org/misc/warnings.html#maximum-treedepth-exceeded\"\n",
      "Warning message:\n",
      "\"There were 4 chains where the estimated Bayesian Fraction of Missing Information was low. See\n",
      "http://mc-stan.org/misc/warnings.html#bfmi-low\"\n",
      "Warning message:\n",
      "\"Examine the pairs() plot to diagnose sampling problems\n",
      "\"\n",
      "Warning message:\n",
      "\"The largest R-hat is NA, indicating chains have not mixed.\n",
      "Running the chains for more iterations may help. See\n",
      "http://mc-stan.org/misc/warnings.html#r-hat\"\n",
      "Warning message:\n",
      "\"Bulk Effective Samples Size (ESS) is too low, indicating posterior means and medians may be unreliable.\n",
      "Running the chains for more iterations may help. See\n",
      "http://mc-stan.org/misc/warnings.html#bulk-ess\"\n",
      "Warning message:\n",
      "\"Tail Effective Samples Size (ESS) is too low, indicating posterior variances and tail quantiles may be unreliable.\n",
      "Running the chains for more iterations may help. See\n",
      "http://mc-stan.org/misc/warnings.html#tail-ess\"\n"
     ]
    },
    {
     "data": {
      "text/plain": [
       "Time difference of 1.026367 days"
      ]
     },
     "metadata": {},
     "output_type": "display_data"
    }
   ],
   "source": [
    "start_time <- Sys.time()\n",
    "fit.1mk<-stan(fit=stan.model.1mk,\n",
    "              data=para.as.ls.1mk,\n",
    "              iter=20000,\n",
    "              chains=4,\n",
    "              cores=4,\n",
    "              control=list(adapt_delta=0.99,\n",
    "                           stepsize=0.01,\n",
    "                           max_treedepth=17))\n",
    "end_time <- Sys.time()\n",
    "end_time - start_time"
   ]
  },
  {
   "cell_type": "markdown",
   "metadata": {},
   "source": [
    "### Save the results as .RData and .csv"
   ]
  },
  {
   "cell_type": "code",
   "execution_count": 28,
   "metadata": {},
   "outputs": [],
   "source": [
    "filename.simdata.save<-'fit_1mk_simdata_sepsis_isprevalence05.RData'\n",
    "filename.results.save<-'out_1mk_sepsis_isprevalence05.csv'\n",
    "results.1mk<-fit.extract(fit.data=fit.1mk,filename.save=filename.simdata.save)\n",
    "results.1mk.95<-get.nma.1mk(data.ls=list(mk=mk.names[unique(para$Test)],\n",
    "                                         data.nma=results.1mk),mk.names=mk.names,\n",
    "                            conf=95)\n",
    "write.csv(results.1mk.95,filename.results.save)"
   ]
  },
  {
   "cell_type": "markdown",
   "metadata": {},
   "source": [
    "### Print the results of pooled sensitivity and specificity from Network Meta-regression"
   ]
  },
  {
   "cell_type": "code",
   "execution_count": 30,
   "metadata": {},
   "outputs": [
    {
     "data": {
      "text/html": [
       "<table class=\"dataframe\">\n",
       "<caption>A data.frame: 10 × 6</caption>\n",
       "<thead>\n",
       "\t<tr><th></th><th scope=col>mean_sp</th><th scope=col>ub_sp</th><th scope=col>lb_sp</th><th scope=col>mean_se</th><th scope=col>ub_se</th><th scope=col>lb_se</th></tr>\n",
       "\t<tr><th></th><th scope=col>&lt;dbl&gt;</th><th scope=col>&lt;dbl&gt;</th><th scope=col>&lt;dbl&gt;</th><th scope=col>&lt;dbl&gt;</th><th scope=col>&lt;dbl&gt;</th><th scope=col>&lt;dbl&gt;</th></tr>\n",
       "</thead>\n",
       "<tbody>\n",
       "\t<tr><th scope=row>qSOFA</th><td>0.9215787</td><td>0.9856610</td><td>0.6169751</td><td>0.3706940</td><td>0.6623222</td><td>0.1631287</td></tr>\n",
       "\t<tr><th scope=row>PCT</th><td>0.7475742</td><td>0.7728840</td><td>0.7188689</td><td>0.7328987</td><td>0.7597550</td><td>0.7029525</td></tr>\n",
       "\t<tr><th scope=row>presepsin</th><td>0.7416470</td><td>0.7986596</td><td>0.6693620</td><td>0.7889227</td><td>0.8426478</td><td>0.7212468</td></tr>\n",
       "\t<tr><th scope=row>CRP</th><td>0.6946711</td><td>0.7382630</td><td>0.6476014</td><td>0.6858907</td><td>0.7288520</td><td>0.6388682</td></tr>\n",
       "\t<tr><th scope=row>CD64</th><td>0.7680605</td><td>0.9135454</td><td>0.5028803</td><td>0.7407672</td><td>0.9208603</td><td>0.4272572</td></tr>\n",
       "\t<tr><th scope=row>IL-6</th><td>0.7440625</td><td>0.8201268</td><td>0.6507902</td><td>0.7199064</td><td>0.7931857</td><td>0.6342840</td></tr>\n",
       "\t<tr><th scope=row>sTREM-1</th><td>0.6545852</td><td>0.9454023</td><td>0.2890427</td><td>0.5096032</td><td>0.8404560</td><td>0.1745123</td></tr>\n",
       "\t<tr><th scope=row>LBP</th><td>0.5455414</td><td>0.8748910</td><td>0.1971126</td><td>0.5703920</td><td>0.8950256</td><td>0.2073530</td></tr>\n",
       "\t<tr><th scope=row>SIRS</th><td>0.5314884</td><td>0.6730114</td><td>0.3739959</td><td>0.7640041</td><td>0.8688228</td><td>0.5822636</td></tr>\n",
       "\t<tr><th scope=row>SOFA</th><td>0.8110390</td><td>0.8923089</td><td>0.6873149</td><td>0.5671404</td><td>0.6627274</td><td>0.4562468</td></tr>\n",
       "</tbody>\n",
       "</table>\n"
      ],
      "text/latex": [
       "A data.frame: 10 × 6\n",
       "\\begin{tabular}{r|llllll}\n",
       "  & mean\\_sp & ub\\_sp & lb\\_sp & mean\\_se & ub\\_se & lb\\_se\\\\\n",
       "  & <dbl> & <dbl> & <dbl> & <dbl> & <dbl> & <dbl>\\\\\n",
       "\\hline\n",
       "\tqSOFA & 0.9215787 & 0.9856610 & 0.6169751 & 0.3706940 & 0.6623222 & 0.1631287\\\\\n",
       "\tPCT & 0.7475742 & 0.7728840 & 0.7188689 & 0.7328987 & 0.7597550 & 0.7029525\\\\\n",
       "\tpresepsin & 0.7416470 & 0.7986596 & 0.6693620 & 0.7889227 & 0.8426478 & 0.7212468\\\\\n",
       "\tCRP & 0.6946711 & 0.7382630 & 0.6476014 & 0.6858907 & 0.7288520 & 0.6388682\\\\\n",
       "\tCD64 & 0.7680605 & 0.9135454 & 0.5028803 & 0.7407672 & 0.9208603 & 0.4272572\\\\\n",
       "\tIL-6 & 0.7440625 & 0.8201268 & 0.6507902 & 0.7199064 & 0.7931857 & 0.6342840\\\\\n",
       "\tsTREM-1 & 0.6545852 & 0.9454023 & 0.2890427 & 0.5096032 & 0.8404560 & 0.1745123\\\\\n",
       "\tLBP & 0.5455414 & 0.8748910 & 0.1971126 & 0.5703920 & 0.8950256 & 0.2073530\\\\\n",
       "\tSIRS & 0.5314884 & 0.6730114 & 0.3739959 & 0.7640041 & 0.8688228 & 0.5822636\\\\\n",
       "\tSOFA & 0.8110390 & 0.8923089 & 0.6873149 & 0.5671404 & 0.6627274 & 0.4562468\\\\\n",
       "\\end{tabular}\n"
      ],
      "text/markdown": [
       "\n",
       "A data.frame: 10 × 6\n",
       "\n",
       "| <!--/--> | mean_sp &lt;dbl&gt; | ub_sp &lt;dbl&gt; | lb_sp &lt;dbl&gt; | mean_se &lt;dbl&gt; | ub_se &lt;dbl&gt; | lb_se &lt;dbl&gt; |\n",
       "|---|---|---|---|---|---|---|\n",
       "| qSOFA | 0.9215787 | 0.9856610 | 0.6169751 | 0.3706940 | 0.6623222 | 0.1631287 |\n",
       "| PCT | 0.7475742 | 0.7728840 | 0.7188689 | 0.7328987 | 0.7597550 | 0.7029525 |\n",
       "| presepsin | 0.7416470 | 0.7986596 | 0.6693620 | 0.7889227 | 0.8426478 | 0.7212468 |\n",
       "| CRP | 0.6946711 | 0.7382630 | 0.6476014 | 0.6858907 | 0.7288520 | 0.6388682 |\n",
       "| CD64 | 0.7680605 | 0.9135454 | 0.5028803 | 0.7407672 | 0.9208603 | 0.4272572 |\n",
       "| IL-6 | 0.7440625 | 0.8201268 | 0.6507902 | 0.7199064 | 0.7931857 | 0.6342840 |\n",
       "| sTREM-1 | 0.6545852 | 0.9454023 | 0.2890427 | 0.5096032 | 0.8404560 | 0.1745123 |\n",
       "| LBP | 0.5455414 | 0.8748910 | 0.1971126 | 0.5703920 | 0.8950256 | 0.2073530 |\n",
       "| SIRS | 0.5314884 | 0.6730114 | 0.3739959 | 0.7640041 | 0.8688228 | 0.5822636 |\n",
       "| SOFA | 0.8110390 | 0.8923089 | 0.6873149 | 0.5671404 | 0.6627274 | 0.4562468 |\n",
       "\n"
      ],
      "text/plain": [
       "          mean_sp   ub_sp     lb_sp     mean_se   ub_se     lb_se    \n",
       "qSOFA     0.9215787 0.9856610 0.6169751 0.3706940 0.6623222 0.1631287\n",
       "PCT       0.7475742 0.7728840 0.7188689 0.7328987 0.7597550 0.7029525\n",
       "presepsin 0.7416470 0.7986596 0.6693620 0.7889227 0.8426478 0.7212468\n",
       "CRP       0.6946711 0.7382630 0.6476014 0.6858907 0.7288520 0.6388682\n",
       "CD64      0.7680605 0.9135454 0.5028803 0.7407672 0.9208603 0.4272572\n",
       "IL-6      0.7440625 0.8201268 0.6507902 0.7199064 0.7931857 0.6342840\n",
       "sTREM-1   0.6545852 0.9454023 0.2890427 0.5096032 0.8404560 0.1745123\n",
       "LBP       0.5455414 0.8748910 0.1971126 0.5703920 0.8950256 0.2073530\n",
       "SIRS      0.5314884 0.6730114 0.3739959 0.7640041 0.8688228 0.5822636\n",
       "SOFA      0.8110390 0.8923089 0.6873149 0.5671404 0.6627274 0.4562468"
      ]
     },
     "metadata": {},
     "output_type": "display_data"
    }
   ],
   "source": [
    "rownames(results.1mk.95$mu)=c('qSOFA', 'PCT', 'presepsin', 'CRP', 'CD64', 'IL-6', 'sTREM-1', 'LBP', 'SIRS', 'SOFA')\n",
    "results.1mk.95$mu"
   ]
  },
  {
   "cell_type": "markdown",
   "metadata": {},
   "source": [
    "### Print the results of pooled DOR from Network Meta-regression"
   ]
  },
  {
   "cell_type": "code",
   "execution_count": 31,
   "metadata": {},
   "outputs": [
    {
     "data": {
      "text/html": [
       "<table class=\"dataframe\">\n",
       "<caption>A data.frame: 10 × 3</caption>\n",
       "<thead>\n",
       "\t<tr><th></th><th scope=col>mean</th><th scope=col>ub</th><th scope=col>lb</th></tr>\n",
       "\t<tr><th></th><th scope=col>&lt;dbl&gt;</th><th scope=col>&lt;dbl&gt;</th><th scope=col>&lt;dbl&gt;</th></tr>\n",
       "</thead>\n",
       "<tbody>\n",
       "\t<tr><th scope=row>qSOFA</th><td>16.523532</td><td>64.010059</td><td>0.7677936</td></tr>\n",
       "\t<tr><th scope=row>PCT</th><td> 8.187895</td><td> 9.856417</td><td>6.6985251</td></tr>\n",
       "\t<tr><th scope=row>presepsin</th><td>11.225535</td><td>17.227293</td><td>6.7136439</td></tr>\n",
       "\t<tr><th scope=row>CRP</th><td> 5.042142</td><td> 6.637642</td><td>3.7509636</td></tr>\n",
       "\t<tr><th scope=row>CD64</th><td>16.962901</td><td>61.964684</td><td>1.8031082</td></tr>\n",
       "\t<tr><th scope=row>IL-6</th><td> 7.955965</td><td>13.364169</td><td>4.2801083</td></tr>\n",
       "\t<tr><th scope=row>sTREM-1</th><td> 6.634534</td><td>39.817375</td><td>0.1670906</td></tr>\n",
       "\t<tr><th scope=row>LBP</th><td> 4.622319</td><td>26.533325</td><td>0.1297156</td></tr>\n",
       "\t<tr><th scope=row>SIRS</th><td> 4.274367</td><td> 9.188069</td><td>1.3487222</td></tr>\n",
       "\t<tr><th scope=row>SOFA</th><td> 6.273474</td><td>11.797544</td><td>2.6114313</td></tr>\n",
       "</tbody>\n",
       "</table>\n"
      ],
      "text/latex": [
       "A data.frame: 10 × 3\n",
       "\\begin{tabular}{r|lll}\n",
       "  & mean & ub & lb\\\\\n",
       "  & <dbl> & <dbl> & <dbl>\\\\\n",
       "\\hline\n",
       "\tqSOFA & 16.523532 & 64.010059 & 0.7677936\\\\\n",
       "\tPCT &  8.187895 &  9.856417 & 6.6985251\\\\\n",
       "\tpresepsin & 11.225535 & 17.227293 & 6.7136439\\\\\n",
       "\tCRP &  5.042142 &  6.637642 & 3.7509636\\\\\n",
       "\tCD64 & 16.962901 & 61.964684 & 1.8031082\\\\\n",
       "\tIL-6 &  7.955965 & 13.364169 & 4.2801083\\\\\n",
       "\tsTREM-1 &  6.634534 & 39.817375 & 0.1670906\\\\\n",
       "\tLBP &  4.622319 & 26.533325 & 0.1297156\\\\\n",
       "\tSIRS &  4.274367 &  9.188069 & 1.3487222\\\\\n",
       "\tSOFA &  6.273474 & 11.797544 & 2.6114313\\\\\n",
       "\\end{tabular}\n"
      ],
      "text/markdown": [
       "\n",
       "A data.frame: 10 × 3\n",
       "\n",
       "| <!--/--> | mean &lt;dbl&gt; | ub &lt;dbl&gt; | lb &lt;dbl&gt; |\n",
       "|---|---|---|---|\n",
       "| qSOFA | 16.523532 | 64.010059 | 0.7677936 |\n",
       "| PCT |  8.187895 |  9.856417 | 6.6985251 |\n",
       "| presepsin | 11.225535 | 17.227293 | 6.7136439 |\n",
       "| CRP |  5.042142 |  6.637642 | 3.7509636 |\n",
       "| CD64 | 16.962901 | 61.964684 | 1.8031082 |\n",
       "| IL-6 |  7.955965 | 13.364169 | 4.2801083 |\n",
       "| sTREM-1 |  6.634534 | 39.817375 | 0.1670906 |\n",
       "| LBP |  4.622319 | 26.533325 | 0.1297156 |\n",
       "| SIRS |  4.274367 |  9.188069 | 1.3487222 |\n",
       "| SOFA |  6.273474 | 11.797544 | 2.6114313 |\n",
       "\n"
      ],
      "text/plain": [
       "          mean      ub        lb       \n",
       "qSOFA     16.523532 64.010059 0.7677936\n",
       "PCT        8.187895  9.856417 6.6985251\n",
       "presepsin 11.225535 17.227293 6.7136439\n",
       "CRP        5.042142  6.637642 3.7509636\n",
       "CD64      16.962901 61.964684 1.8031082\n",
       "IL-6       7.955965 13.364169 4.2801083\n",
       "sTREM-1    6.634534 39.817375 0.1670906\n",
       "LBP        4.622319 26.533325 0.1297156\n",
       "SIRS       4.274367  9.188069 1.3487222\n",
       "SOFA       6.273474 11.797544 2.6114313"
      ]
     },
     "metadata": {},
     "output_type": "display_data"
    }
   ],
   "source": [
    "rownames(results.1mk.95$dor)=c('qSOFA', 'PCT', 'presepsin', 'CRP', 'CD64', 'IL-6', 'sTREM-1', 'LBP', 'SIRS', 'SOFA')\n",
    "results.1mk.95$dor"
   ]
  }
 ],
 "metadata": {
  "kernelspec": {
   "display_name": "R",
   "language": "R",
   "name": "ir"
  },
  "language_info": {
   "codemirror_mode": "r",
   "file_extension": ".r",
   "mimetype": "text/x-r-source",
   "name": "R",
   "pygments_lexer": "r",
   "version": "4.1.0"
  }
 },
 "nbformat": 4,
 "nbformat_minor": 4
}
